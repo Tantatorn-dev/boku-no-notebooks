{
 "nbformat": 4,
 "nbformat_minor": 2,
 "metadata": {
  "language_info": {
   "name": "python",
   "codemirror_mode": {
    "name": "ipython",
    "version": 3
   },
   "version": "3.8.1-final"
  },
  "orig_nbformat": 2,
  "file_extension": ".py",
  "mimetype": "text/x-python",
  "name": "python",
  "npconvert_exporter": "python",
  "pygments_lexer": "ipython3",
  "version": 3,
  "kernelspec": {
   "name": "python38164bitbokunonotebookscondae5e198a20eac471690ef450e14d12e9c",
   "display_name": "Python 3.8.1 64-bit ('boku-no-notebooks': conda)"
  }
 },
 "cells": [
  {
   "cell_type": "code",
   "execution_count": 3,
   "metadata": {},
   "outputs": [],
   "source": [
    "#import SARS data\n",
    "import pandas as pd\n",
    "\n",
    "raw_data = pd.read_json('datasets/sars_stat.json')"
   ]
  },
  {
   "cell_type": "code",
   "execution_count": 4,
   "metadata": {},
   "outputs": [
    {
     "name": "stdout",
     "output_type": "stream",
     "text": "41   \\\ndate                                          2003_03_17   \ncases                                                167   \ndeath                                                  4   \ndata   {'Germany': {'case': 1, 'death': 0}, 'Canada':...   \n\n                                                     42   \\\ndate                                          2003_03_18   \ncases                                                219   \ndeath                                                  4   \ndata   {'Germany': {'case': 2, 'death': 0}, 'Canada':...   \n\n                                                     43   \\\ndate                                          2003_03_19   \ncases                                                264   \ndeath                                                  9   \ndata   {'Canada': {'case': 8, 'death': 2}, 'China': {...   \n\n                                                     44   \\\ndate                                          2003_03_20   \ncases                                                306   \ndeath                                                 10   \ndata   {'Canada': {'case': 9, 'death': 2}, 'China': {...   \n\n                                                     45   \\\ndate                                          2003_03_21   \ncases                                                350   \ndeath                                                 10   \ndata   {'Canada': {'case': 9, 'death': 2}, 'China': {...   \n\n                                                     46   \\\ndate                                          2003_03_22   \ncases                                                386   \ndeath                                                 11   \ndata   {'Canada': {'case': 9, 'death': 2}, 'China': {...   \n\n                                                     48   \\\ndate                                          2003_03_24   \ncases                                                456   \ndeath                                                 17   \ndata   {'Canada': {'case': 11, 'death': 3}, 'China': ...   \n\n                                                     49   \\\ndate                                          2003_03_25   \ncases                                                487   \ndeath                                                 17   \ndata   {'Canada': {'case': 11, 'death': 3}, 'China': ...   \n\n                                                     50   \\\ndate                                          2003_03_26   \ncases                                               1323   \ndeath                                                 49   \ndata   {'Canada': {'case': 19, 'death': 3}, 'China': ...   \n\n                                                     51   ...  \\\ndate                                          2003_03_27  ...   \ncases                                               1408  ...   \ndeath                                                 53  ...   \ndata   {'Canada': {'case': 28, 'death': 3}, 'China': ...  ...   \n\n                                                     146  \\\ndate                                          2003_06_30   \ncases                                               8447   \ndeath                                                811   \ndata   {'Australia': {'case': 5, 'death': 0}, 'Brazil...   \n\n                                                     147  \\\ndate                                          2003_07_01   \ncases                                               8445   \ndeath                                                812   \ndata   {'Australia': {'case': 5, 'death': 0}, 'Brazil...   \n\n                                                     148  \\\ndate                                          2003_07_02   \ncases                                               8442   \ndeath                                                812   \ndata   {'Australia': {'case': 5, 'death': 0}, 'Brazil...   \n\n                                                     149  \\\ndate                                          2003_07_03   \ncases                                               8439   \ndeath                                                812   \ndata   {'Australia': {'case': 5, 'death': 0}, 'Brazil...   \n\n                                                     150  \\\ndate                                          2003_07_04   \ncases                                               8439   \ndeath                                                812   \ndata   {'Australia': {'case': 5, 'death': 0}, 'Brazil...   \n\n                                                     153  \\\ndate                                          2003_07_07   \ncases                                               8439   \ndeath                                                812   \ndata   {'Australia': {'case': 5, 'death': 0}, 'Brazil...   \n\n                                                     154  \\\ndate                                          2003_07_08   \ncases                                               8436   \ndeath                                                812   \ndata   {'Australia': {'case': 5, 'death': 0}, 'Brazil...   \n\n                                                     155  \\\ndate                                          2003_07_09   \ncases                                               8436   \ndeath                                                812   \ndata   {'Australia': {'case': 5, 'death': 0}, 'Brazil...   \n\n                                                     156  \\\ndate                                          2003_07_10   \ncases                                               8437   \ndeath                                                812   \ndata   {'Australia': {'case': 5, 'death': 0}, 'Brazil...   \n\n                                                     157  \ndate                                          2003_07_11  \ncases                                               8437  \ndeath                                                813  \ndata   {'Australia': {'case': 5, 'death': 0}, 'Brazil...  \n\n[4 rows x 96 columns]\n"
    }
   ],
   "source": [
    "print(raw_data.head(10))"
   ]
  }
 ]
}