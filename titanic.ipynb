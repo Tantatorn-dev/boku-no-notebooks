{
  "nbformat": 4,
  "nbformat_minor": 0,
  "metadata": {
    "colab": {
      "name": "titanic.ipynb",
      "provenance": [],
      "toc_visible": true,
      "mount_file_id": "1Y__8tIlXKJkAlMnXI-4t97llpuHVDjq4",
      "authorship_tag": "ABX9TyPyOWiWHAm+Mm5svieQnKAN",
      "include_colab_link": true
    },
    "kernelspec": {
      "name": "python3",
      "display_name": "Python 3"
    }
  },
  "cells": [
    {
      "cell_type": "markdown",
      "metadata": {
        "id": "view-in-github",
        "colab_type": "text"
      },
      "source": [
        "<a href=\"https://colab.research.google.com/github/Tantatorn-dev/boku-no-notebooks/blob/master/titanic.ipynb\" target=\"_parent\"><img src=\"https://colab.research.google.com/assets/colab-badge.svg\" alt=\"Open In Colab\"/></a>"
      ]
    },
    {
      "cell_type": "markdown",
      "metadata": {
        "id": "R4hVSd3zwtie",
        "colab_type": "text"
      },
      "source": [
        "# Titanic: Machine Learning from Disaster\n",
        "This is a competition from [Kaggle](https://www.kaggle.com/c/titanic)."
      ]
    },
    {
      "cell_type": "markdown",
      "metadata": {
        "id": "6B6BYgg4HhLB",
        "colab_type": "text"
      },
      "source": [
        "## Get the data\n",
        "Download dataset from Kaggle"
      ]
    },
    {
      "cell_type": "code",
      "metadata": {
        "id": "TRqbn_9bwqRa",
        "colab_type": "code",
        "colab": {}
      },
      "source": [
        "# config environment\n",
        "import os\n",
        "os.environ['KAGGLE_CONFIG_DIR'] = \"/content/drive/My Drive/Kaggle\""
      ],
      "execution_count": null,
      "outputs": []
    },
    {
      "cell_type": "code",
      "metadata": {
        "id": "LG6ViUzOHoIk",
        "colab_type": "code",
        "colab": {
          "base_uri": "https://localhost:8080/",
          "height": 34
        },
        "outputId": "77ebd398-358b-41f2-fe43-a747de8ca7b1"
      },
      "source": [
        "%cd /content/drive/My Drive/Kaggle/titanic"
      ],
      "execution_count": 8,
      "outputs": [
        {
          "output_type": "stream",
          "text": [
            "/content/drive/My Drive/Kaggle/titanic\n"
          ],
          "name": "stdout"
        }
      ]
    },
    {
      "cell_type": "code",
      "metadata": {
        "id": "3kgN99g3IzBE",
        "colab_type": "code",
        "colab": {
          "base_uri": "https://localhost:8080/",
          "height": 106
        },
        "outputId": "f491b628-c8b2-483e-8283-21bf78adb959"
      },
      "source": [
        "!kaggle competitions download -c titanic"
      ],
      "execution_count": null,
      "outputs": [
        {
          "output_type": "stream",
          "text": [
            "Warning: Looks like you're using an outdated API Version, please consider updating (server 1.5.6 / client 1.5.4)\n",
            "test.csv: Skipping, found more recently modified local copy (use --force to force download)\n",
            "gender_submission.csv: Skipping, found more recently modified local copy (use --force to force download)\n",
            "train.csv: Skipping, found more recently modified local copy (use --force to force download)\n"
          ],
          "name": "stdout"
        }
      ]
    },
    {
      "cell_type": "code",
      "metadata": {
        "id": "fpHdDoHgI7I8",
        "colab_type": "code",
        "colab": {
          "base_uri": "https://localhost:8080/",
          "height": 34
        },
        "outputId": "5514590b-22eb-4ce0-e709-d77ba2d15ec0"
      },
      "source": [
        "# list all files\n",
        "!ls"
      ],
      "execution_count": 9,
      "outputs": [
        {
          "output_type": "stream",
          "text": [
            "gender_submission.csv  out.csv\ttest.csv  train.csv\n"
          ],
          "name": "stdout"
        }
      ]
    },
    {
      "cell_type": "markdown",
      "metadata": {
        "id": "OwmUJuKHJLuZ",
        "colab_type": "text"
      },
      "source": [
        "## Exploratory Data Analysis\n",
        "Let's get some insight from data!"
      ]
    },
    {
      "cell_type": "code",
      "metadata": {
        "id": "cCGDA_NrI-p-",
        "colab_type": "code",
        "colab": {
          "base_uri": "https://localhost:8080/",
          "height": 345
        },
        "outputId": "6246b0f8-cbbc-49bb-d0fe-dc615d5bfd74"
      },
      "source": [
        "import pandas as pd\n",
        "data = pd.read_csv('train.csv')\n",
        "data.head()"
      ],
      "execution_count": 10,
      "outputs": [
        {
          "output_type": "execute_result",
          "data": {
            "text/html": [
              "<div>\n",
              "<style scoped>\n",
              "    .dataframe tbody tr th:only-of-type {\n",
              "        vertical-align: middle;\n",
              "    }\n",
              "\n",
              "    .dataframe tbody tr th {\n",
              "        vertical-align: top;\n",
              "    }\n",
              "\n",
              "    .dataframe thead th {\n",
              "        text-align: right;\n",
              "    }\n",
              "</style>\n",
              "<table border=\"1\" class=\"dataframe\">\n",
              "  <thead>\n",
              "    <tr style=\"text-align: right;\">\n",
              "      <th></th>\n",
              "      <th>PassengerId</th>\n",
              "      <th>Survived</th>\n",
              "      <th>Pclass</th>\n",
              "      <th>Name</th>\n",
              "      <th>Sex</th>\n",
              "      <th>Age</th>\n",
              "      <th>SibSp</th>\n",
              "      <th>Parch</th>\n",
              "      <th>Ticket</th>\n",
              "      <th>Fare</th>\n",
              "      <th>Cabin</th>\n",
              "      <th>Embarked</th>\n",
              "    </tr>\n",
              "  </thead>\n",
              "  <tbody>\n",
              "    <tr>\n",
              "      <th>0</th>\n",
              "      <td>1</td>\n",
              "      <td>0</td>\n",
              "      <td>3</td>\n",
              "      <td>Braund, Mr. Owen Harris</td>\n",
              "      <td>male</td>\n",
              "      <td>22.0</td>\n",
              "      <td>1</td>\n",
              "      <td>0</td>\n",
              "      <td>A/5 21171</td>\n",
              "      <td>7.2500</td>\n",
              "      <td>NaN</td>\n",
              "      <td>S</td>\n",
              "    </tr>\n",
              "    <tr>\n",
              "      <th>1</th>\n",
              "      <td>2</td>\n",
              "      <td>1</td>\n",
              "      <td>1</td>\n",
              "      <td>Cumings, Mrs. John Bradley (Florence Briggs Th...</td>\n",
              "      <td>female</td>\n",
              "      <td>38.0</td>\n",
              "      <td>1</td>\n",
              "      <td>0</td>\n",
              "      <td>PC 17599</td>\n",
              "      <td>71.2833</td>\n",
              "      <td>C85</td>\n",
              "      <td>C</td>\n",
              "    </tr>\n",
              "    <tr>\n",
              "      <th>2</th>\n",
              "      <td>3</td>\n",
              "      <td>1</td>\n",
              "      <td>3</td>\n",
              "      <td>Heikkinen, Miss. Laina</td>\n",
              "      <td>female</td>\n",
              "      <td>26.0</td>\n",
              "      <td>0</td>\n",
              "      <td>0</td>\n",
              "      <td>STON/O2. 3101282</td>\n",
              "      <td>7.9250</td>\n",
              "      <td>NaN</td>\n",
              "      <td>S</td>\n",
              "    </tr>\n",
              "    <tr>\n",
              "      <th>3</th>\n",
              "      <td>4</td>\n",
              "      <td>1</td>\n",
              "      <td>1</td>\n",
              "      <td>Futrelle, Mrs. Jacques Heath (Lily May Peel)</td>\n",
              "      <td>female</td>\n",
              "      <td>35.0</td>\n",
              "      <td>1</td>\n",
              "      <td>0</td>\n",
              "      <td>113803</td>\n",
              "      <td>53.1000</td>\n",
              "      <td>C123</td>\n",
              "      <td>S</td>\n",
              "    </tr>\n",
              "    <tr>\n",
              "      <th>4</th>\n",
              "      <td>5</td>\n",
              "      <td>0</td>\n",
              "      <td>3</td>\n",
              "      <td>Allen, Mr. William Henry</td>\n",
              "      <td>male</td>\n",
              "      <td>35.0</td>\n",
              "      <td>0</td>\n",
              "      <td>0</td>\n",
              "      <td>373450</td>\n",
              "      <td>8.0500</td>\n",
              "      <td>NaN</td>\n",
              "      <td>S</td>\n",
              "    </tr>\n",
              "  </tbody>\n",
              "</table>\n",
              "</div>"
            ],
            "text/plain": [
              "   PassengerId  Survived  Pclass  ...     Fare Cabin  Embarked\n",
              "0            1         0       3  ...   7.2500   NaN         S\n",
              "1            2         1       1  ...  71.2833   C85         C\n",
              "2            3         1       3  ...   7.9250   NaN         S\n",
              "3            4         1       1  ...  53.1000  C123         S\n",
              "4            5         0       3  ...   8.0500   NaN         S\n",
              "\n",
              "[5 rows x 12 columns]"
            ]
          },
          "metadata": {
            "tags": []
          },
          "execution_count": 10
        }
      ]
    },
    {
      "cell_type": "code",
      "metadata": {
        "id": "77O2hZDYOFtG",
        "colab_type": "code",
        "colab": {
          "base_uri": "https://localhost:8080/",
          "height": 225
        },
        "outputId": "7145e566-50f3-4c19-e3be-ae94f612ef4a"
      },
      "source": [
        "# check all columns\n",
        "list(data.columns)"
      ],
      "execution_count": 11,
      "outputs": [
        {
          "output_type": "execute_result",
          "data": {
            "text/plain": [
              "['PassengerId',\n",
              " 'Survived',\n",
              " 'Pclass',\n",
              " 'Name',\n",
              " 'Sex',\n",
              " 'Age',\n",
              " 'SibSp',\n",
              " 'Parch',\n",
              " 'Ticket',\n",
              " 'Fare',\n",
              " 'Cabin',\n",
              " 'Embarked']"
            ]
          },
          "metadata": {
            "tags": []
          },
          "execution_count": 11
        }
      ]
    },
    {
      "cell_type": "markdown",
      "metadata": {
        "id": "fFBlYRKQFFK0",
        "colab_type": "text"
      },
      "source": [
        "### Comparison of Survivability by Ticket Classes"
      ]
    },
    {
      "cell_type": "code",
      "metadata": {
        "id": "inivIlyCPVzg",
        "colab_type": "code",
        "colab": {
          "base_uri": "https://localhost:8080/",
          "height": 295
        },
        "outputId": "5cf9956d-162f-4032-c691-59d6719fe3c2"
      },
      "source": [
        "import matplotlib.pyplot as plt\n",
        "import seaborn as sns\n",
        "\n",
        "survived = 'survived'\n",
        "not_survived = 'not survived'\n",
        "\n",
        "fig, axes = plt.subplots(nrows=1, ncols=3,figsize=(10, 4))\n",
        "\n",
        "first_class = data[data['Pclass']==1]\n",
        "second_class = data[data['Pclass']==2]\n",
        "third_class = data[data['Pclass']==3]\n",
        "\n",
        "ax = sns.distplot(first_class[first_class['Survived']==1].Age.dropna(), bins=18, label = survived, ax = axes[0], kde =False)\n",
        "ax = sns.distplot(first_class[first_class['Survived']==0].Age.dropna(), bins=40, label = not_survived, ax = axes[0], kde =False)\n",
        "ax.legend()\n",
        "ax.set_title('1st class ticket')\n",
        "\n",
        "ax = sns.distplot(second_class[second_class['Survived']==1].Age.dropna(), bins=18, label = survived, ax = axes[1], kde = False)\n",
        "ax = sns.distplot(second_class[second_class['Survived']==0].Age.dropna(), bins=40, label = not_survived, ax = axes[1], kde = False)\n",
        "ax.legend()\n",
        "ax.set_title('2nd class ticket')\n",
        "\n",
        "ax = sns.distplot(third_class[third_class['Survived']==1].Age.dropna(), bins=18, label = survived, ax = axes[2], kde = False)\n",
        "ax = sns.distplot(third_class[third_class['Survived']==0].Age.dropna(), bins=40, label = not_survived, ax = axes[2], kde = False)\n",
        "ax.legend()\n",
        "_ = ax.set_title('3rd class ticket')\n"
      ],
      "execution_count": 12,
      "outputs": [
        {
          "output_type": "display_data",
          "data": {
            "image/png": "[encoded data removed]",
            "text/plain": [
              "<Figure size 720x288 with 3 Axes>"
            ]
          },
          "metadata": {
            "tags": [],
            "needs_background": "light"
          }
        }
      ]
    },
    {
      "cell_type": "markdown",
      "metadata": {
        "id": "KVGFRSjD2U4T",
        "colab_type": "text"
      },
      "source": [
        "You'll see that 1st class ticket passengers have more chance to survive."
      ]
    },
    {
      "cell_type": "markdown",
      "metadata": {
        "id": "1aGcsM5mFRCs",
        "colab_type": "text"
      },
      "source": [
        "### Comparison of survivability by sex"
      ]
    },
    {
      "cell_type": "code",
      "metadata": {
        "id": "v89Se5LbgiDq",
        "colab_type": "code",
        "colab": {
          "base_uri": "https://localhost:8080/",
          "height": 295
        },
        "outputId": "4a05748a-83c1-406e-8ce7-9d9207d4fb51"
      },
      "source": [
        "fig, axes = plt.subplots(nrows=1, ncols=2,figsize=(10, 4))\n",
        "\n",
        "women = data[data['Sex']=='female']\n",
        "men = data[data['Sex']=='male']\n",
        "\n",
        "ax = sns.distplot(women[women['Survived']==1].Age.dropna(), bins=18, label = survived, ax = axes[0], kde =False)\n",
        "ax = sns.distplot(women[women['Survived']==0].Age.dropna(), bins=40, label = not_survived, ax = axes[0], kde =False)\n",
        "\n",
        "ax.legend()\n",
        "_ = ax.set_title('Female')\n",
        "ax = sns.distplot(men[men['Survived']==1].Age.dropna(), bins=18, label = survived, ax = axes[1], kde = False)\n",
        "ax = sns.distplot(men[men['Survived']==0].Age.dropna(), bins=40, label = not_survived, ax = axes[1], kde = False)\n",
        "ax.legend()\n",
        "_ = ax.set_title('Male')"
      ],
      "execution_count": 13,
      "outputs": [
        {
          "output_type": "display_data",
          "data": {
            "image/png": "[encoded data removed]",
            "text/plain": [
              "<Figure size 720x288 with 2 Axes>"
            ]
          },
          "metadata": {
            "tags": [],
            "needs_background": "light"
          }
        }
      ]
    },
    {
      "cell_type": "markdown",
      "metadata": {
        "id": "mBq61-4H2yku",
        "colab_type": "text"
      },
      "source": [
        "Female is more likely to survive than male\n",
        "### Let's find some connection between SibSp and Parch"
      ]
    },
    {
      "cell_type": "code",
      "metadata": {
        "id": "A7Z9DDlK2Bai",
        "colab_type": "code",
        "colab": {
          "base_uri": "https://localhost:8080/",
          "height": 296
        },
        "outputId": "7b871b4d-e6bd-4e54-ca7e-4870f7bbcfba"
      },
      "source": [
        "sns.scatterplot(data['SibSp'],data['Parch'],hue=data['Survived'])"
      ],
      "execution_count": 14,
      "outputs": [
        {
          "output_type": "execute_result",
          "data": {
            "text/plain": [
              "<matplotlib.axes._subplots.AxesSubplot at 0x7feb8a845a90>"
            ]
          },
          "metadata": {
            "tags": []
          },
          "execution_count": 14
        },
        {
          "output_type": "display_data",
          "data": {
            "image/png": "[encoded data removed]",
            "text/plain": [
              "<Figure size 432x288 with 1 Axes>"
            ]
          },
          "metadata": {
            "tags": [],
            "needs_background": "light"
          }
        }
      ]
    },
    {
      "cell_type": "markdown",
      "metadata": {
        "id": "DMI2UCLSFnAU",
        "colab_type": "text"
      },
      "source": [
        "### Comparison of survivability by Fare"
      ]
    },
    {
      "cell_type": "code",
      "metadata": {
        "id": "_7SHnwZ7FmHj",
        "colab_type": "code",
        "colab": {
          "base_uri": "https://localhost:8080/",
          "height": 312
        },
        "outputId": "4ed6527a-794e-4492-ee8e-cb56ca93a5fa"
      },
      "source": [
        "# let's create a histogram\n",
        "survived = data[data['Survived'] == 1]\n",
        "sns.distplot(survived['Fare'],  kde=False, label='Survived')\n",
        "\n",
        "not_survived = data[data['Survived'] == 0]\n",
        "sns.distplot(not_survived['Fare'],  kde=False, label='Not Survived')\n",
        "\n",
        "plt.legend(prop={'size': 12})\n",
        "plt.title('Comparison of survivability by Fare')\n",
        "plt.xlabel('Fare')\n",
        "plt.ylabel('Frequency')"
      ],
      "execution_count": 16,
      "outputs": [
        {
          "output_type": "execute_result",
          "data": {
            "text/plain": [
              "Text(0, 0.5, 'Frequency')"
            ]
          },
          "metadata": {
            "tags": []
          },
          "execution_count": 16
        },
        {
          "output_type": "display_data",
          "data": {
            "image/png": "[encoded data removed]",
            "text/plain": [
              "<Figure size 432x288 with 1 Axes>"
            ]
          },
          "metadata": {
            "tags": [],
            "needs_background": "light"
          }
        }
      ]
    },
    {
      "cell_type": "markdown",
      "metadata": {
        "id": "mnC2ZUJCI_VV",
        "colab_type": "text"
      },
      "source": [
        "I think we've enough insights from data. Let's create some model."
      ]
    },
    {
      "cell_type": "markdown",
      "metadata": {
        "id": "-7MyuCd1NQmg",
        "colab_type": "text"
      },
      "source": [
        "## Data Preparation\n",
        "let's prepare our data before training"
      ]
    },
    {
      "cell_type": "code",
      "metadata": {
        "id": "g1wt673jUfsR",
        "colab_type": "code",
        "colab": {
          "base_uri": "https://localhost:8080/",
          "height": 52
        },
        "outputId": "07c9df24-8d2b-4da3-d76f-bafde7868836"
      },
      "source": [
        "X = data[['Age','Sex','Pclass','SibSp','Parch','Fare','Survived']]\n",
        "print(\"Before dropna: \" ,X.shape)\n",
        "X = X.dropna()\n",
        "print(\"After dropna: \" ,X.shape)"
      ],
      "execution_count": 17,
      "outputs": [
        {
          "output_type": "stream",
          "text": [
            "Before dropna:  (891, 7)\n",
            "After dropna:  (714, 7)\n"
          ],
          "name": "stdout"
        }
      ]
    },
    {
      "cell_type": "code",
      "metadata": {
        "id": "dUVwTsxQZ-eF",
        "colab_type": "code",
        "colab": {
          "base_uri": "https://localhost:8080/",
          "height": 206
        },
        "outputId": "1bd32cd4-8827-4e88-bf06-484f9c04409d"
      },
      "source": [
        "X.head()"
      ],
      "execution_count": 18,
      "outputs": [
        {
          "output_type": "execute_result",
          "data": {
            "text/html": [
              "<div>\n",
              "<style scoped>\n",
              "    .dataframe tbody tr th:only-of-type {\n",
              "        vertical-align: middle;\n",
              "    }\n",
              "\n",
              "    .dataframe tbody tr th {\n",
              "        vertical-align: top;\n",
              "    }\n",
              "\n",
              "    .dataframe thead th {\n",
              "        text-align: right;\n",
              "    }\n",
              "</style>\n",
              "<table border=\"1\" class=\"dataframe\">\n",
              "  <thead>\n",
              "    <tr style=\"text-align: right;\">\n",
              "      <th></th>\n",
              "      <th>Age</th>\n",
              "      <th>Sex</th>\n",
              "      <th>Pclass</th>\n",
              "      <th>SibSp</th>\n",
              "      <th>Parch</th>\n",
              "      <th>Fare</th>\n",
              "      <th>Survived</th>\n",
              "    </tr>\n",
              "  </thead>\n",
              "  <tbody>\n",
              "    <tr>\n",
              "      <th>0</th>\n",
              "      <td>22.0</td>\n",
              "      <td>male</td>\n",
              "      <td>3</td>\n",
              "      <td>1</td>\n",
              "      <td>0</td>\n",
              "      <td>7.2500</td>\n",
              "      <td>0</td>\n",
              "    </tr>\n",
              "    <tr>\n",
              "      <th>1</th>\n",
              "      <td>38.0</td>\n",
              "      <td>female</td>\n",
              "      <td>1</td>\n",
              "      <td>1</td>\n",
              "      <td>0</td>\n",
              "      <td>71.2833</td>\n",
              "      <td>1</td>\n",
              "    </tr>\n",
              "    <tr>\n",
              "      <th>2</th>\n",
              "      <td>26.0</td>\n",
              "      <td>female</td>\n",
              "      <td>3</td>\n",
              "      <td>0</td>\n",
              "      <td>0</td>\n",
              "      <td>7.9250</td>\n",
              "      <td>1</td>\n",
              "    </tr>\n",
              "    <tr>\n",
              "      <th>3</th>\n",
              "      <td>35.0</td>\n",
              "      <td>female</td>\n",
              "      <td>1</td>\n",
              "      <td>1</td>\n",
              "      <td>0</td>\n",
              "      <td>53.1000</td>\n",
              "      <td>1</td>\n",
              "    </tr>\n",
              "    <tr>\n",
              "      <th>4</th>\n",
              "      <td>35.0</td>\n",
              "      <td>male</td>\n",
              "      <td>3</td>\n",
              "      <td>0</td>\n",
              "      <td>0</td>\n",
              "      <td>8.0500</td>\n",
              "      <td>0</td>\n",
              "    </tr>\n",
              "  </tbody>\n",
              "</table>\n",
              "</div>"
            ],
            "text/plain": [
              "    Age     Sex  Pclass  SibSp  Parch     Fare  Survived\n",
              "0  22.0    male       3      1      0   7.2500         0\n",
              "1  38.0  female       1      1      0  71.2833         1\n",
              "2  26.0  female       3      0      0   7.9250         1\n",
              "3  35.0  female       1      1      0  53.1000         1\n",
              "4  35.0    male       3      0      0   8.0500         0"
            ]
          },
          "metadata": {
            "tags": []
          },
          "execution_count": 18
        }
      ]
    },
    {
      "cell_type": "code",
      "metadata": {
        "id": "catSYVvkdxPK",
        "colab_type": "code",
        "colab": {
          "base_uri": "https://localhost:8080/",
          "height": 206
        },
        "outputId": "5036849f-4c13-4411-9c23-02c5bdc1a5b8"
      },
      "source": [
        "# encode the sex column\n",
        "encoded_sex = pd.get_dummies(X['Sex'])\n",
        "encoded_Pclass = pd.get_dummies(X['Pclass'])\n",
        "\n",
        "# drop old columns\n",
        "X = X.drop(columns=['Sex','Pclass'])\n",
        "\n",
        "# join new columns\n",
        "X = X.join([encoded_sex,encoded_Pclass])\n",
        "X.head()"
      ],
      "execution_count": 19,
      "outputs": [
        {
          "output_type": "execute_result",
          "data": {
            "text/html": [
              "<div>\n",
              "<style scoped>\n",
              "    .dataframe tbody tr th:only-of-type {\n",
              "        vertical-align: middle;\n",
              "    }\n",
              "\n",
              "    .dataframe tbody tr th {\n",
              "        vertical-align: top;\n",
              "    }\n",
              "\n",
              "    .dataframe thead th {\n",
              "        text-align: right;\n",
              "    }\n",
              "</style>\n",
              "<table border=\"1\" class=\"dataframe\">\n",
              "  <thead>\n",
              "    <tr style=\"text-align: right;\">\n",
              "      <th></th>\n",
              "      <th>Age</th>\n",
              "      <th>SibSp</th>\n",
              "      <th>Parch</th>\n",
              "      <th>Fare</th>\n",
              "      <th>Survived</th>\n",
              "      <th>female</th>\n",
              "      <th>male</th>\n",
              "      <th>1</th>\n",
              "      <th>2</th>\n",
              "      <th>3</th>\n",
              "    </tr>\n",
              "  </thead>\n",
              "  <tbody>\n",
              "    <tr>\n",
              "      <th>0</th>\n",
              "      <td>22.0</td>\n",
              "      <td>1</td>\n",
              "      <td>0</td>\n",
              "      <td>7.2500</td>\n",
              "      <td>0</td>\n",
              "      <td>0</td>\n",
              "      <td>1</td>\n",
              "      <td>0</td>\n",
              "      <td>0</td>\n",
              "      <td>1</td>\n",
              "    </tr>\n",
              "    <tr>\n",
              "      <th>1</th>\n",
              "      <td>38.0</td>\n",
              "      <td>1</td>\n",
              "      <td>0</td>\n",
              "      <td>71.2833</td>\n",
              "      <td>1</td>\n",
              "      <td>1</td>\n",
              "      <td>0</td>\n",
              "      <td>1</td>\n",
              "      <td>0</td>\n",
              "      <td>0</td>\n",
              "    </tr>\n",
              "    <tr>\n",
              "      <th>2</th>\n",
              "      <td>26.0</td>\n",
              "      <td>0</td>\n",
              "      <td>0</td>\n",
              "      <td>7.9250</td>\n",
              "      <td>1</td>\n",
              "      <td>1</td>\n",
              "      <td>0</td>\n",
              "      <td>0</td>\n",
              "      <td>0</td>\n",
              "      <td>1</td>\n",
              "    </tr>\n",
              "    <tr>\n",
              "      <th>3</th>\n",
              "      <td>35.0</td>\n",
              "      <td>1</td>\n",
              "      <td>0</td>\n",
              "      <td>53.1000</td>\n",
              "      <td>1</td>\n",
              "      <td>1</td>\n",
              "      <td>0</td>\n",
              "      <td>1</td>\n",
              "      <td>0</td>\n",
              "      <td>0</td>\n",
              "    </tr>\n",
              "    <tr>\n",
              "      <th>4</th>\n",
              "      <td>35.0</td>\n",
              "      <td>0</td>\n",
              "      <td>0</td>\n",
              "      <td>8.0500</td>\n",
              "      <td>0</td>\n",
              "      <td>0</td>\n",
              "      <td>1</td>\n",
              "      <td>0</td>\n",
              "      <td>0</td>\n",
              "      <td>1</td>\n",
              "    </tr>\n",
              "  </tbody>\n",
              "</table>\n",
              "</div>"
            ],
            "text/plain": [
              "    Age  SibSp  Parch     Fare  Survived  female  male  1  2  3\n",
              "0  22.0      1      0   7.2500         0       0     1  0  0  1\n",
              "1  38.0      1      0  71.2833         1       1     0  1  0  0\n",
              "2  26.0      0      0   7.9250         1       1     0  0  0  1\n",
              "3  35.0      1      0  53.1000         1       1     0  1  0  0\n",
              "4  35.0      0      0   8.0500         0       0     1  0  0  1"
            ]
          },
          "metadata": {
            "tags": []
          },
          "execution_count": 19
        }
      ]
    },
    {
      "cell_type": "code",
      "metadata": {
        "id": "sm7Om5LwhyYR",
        "colab_type": "code",
        "colab": {}
      },
      "source": [
        "# seperate survived column\n",
        "y = X['Survived']\n",
        "X = X.drop(columns=['Survived'])"
      ],
      "execution_count": 20,
      "outputs": []
    },
    {
      "cell_type": "code",
      "metadata": {
        "id": "4PrsyvzsGoA9",
        "colab_type": "code",
        "colab": {
          "base_uri": "https://localhost:8080/",
          "height": 52
        },
        "outputId": "051f6d5a-3018-4bee-a5b3-bcb0afc20630"
      },
      "source": [
        "# check shape \n",
        "print(\"X shape: \",X.shape)\n",
        "print(\"y shape: \",y.shape)"
      ],
      "execution_count": 21,
      "outputs": [
        {
          "output_type": "stream",
          "text": [
            "X shape:  (714, 9)\n",
            "y shape:  (714,)\n"
          ],
          "name": "stdout"
        }
      ]
    },
    {
      "cell_type": "code",
      "metadata": {
        "id": "j33j_RLHohs8",
        "colab_type": "code",
        "colab": {}
      },
      "source": [
        "# split data in train and test set\n",
        "from sklearn.model_selection import train_test_split\n",
        "\n",
        "X_train, X_test, y_train, y_test = train_test_split(X,y,test_size=.2)"
      ],
      "execution_count": 37,
      "outputs": []
    },
    {
      "cell_type": "markdown",
      "metadata": {
        "id": "XX9-7n_Dmv9i",
        "colab_type": "text"
      },
      "source": [
        "## Model\n",
        "Let's create a prediction model."
      ]
    },
    {
      "cell_type": "code",
      "metadata": {
        "id": "crlxaH_7msUQ",
        "colab_type": "code",
        "colab": {}
      },
      "source": [
        "import tensorflow as tf\n",
        "\n",
        "model = tf.keras.models.Sequential([\n",
        "                                    tf.keras.layers.Dense(9,activation='relu'),\n",
        "                                    tf.keras.layers.Dense(1,activation='sigmoid')\n",
        "])\n",
        "\n",
        "model.compile(optimizer='adam', loss='binary_crossentropy', metrics=['acc'])"
      ],
      "execution_count": 41,
      "outputs": []
    },
    {
      "cell_type": "code",
      "metadata": {
        "id": "PZPHydd6zAyS",
        "colab_type": "code",
        "colab": {
          "base_uri": "https://localhost:8080/",
          "height": 52
        },
        "outputId": "8d90963d-2366-47af-bf17-1b82619134a5"
      },
      "source": [
        "print(X_test.shape)\n",
        "print(y_test.shape)"
      ],
      "execution_count": 42,
      "outputs": [
        {
          "output_type": "stream",
          "text": [
            "(143, 9)\n",
            "(143,)\n"
          ],
          "name": "stdout"
        }
      ]
    },
    {
      "cell_type": "code",
      "metadata": {
        "id": "-j-yoMyWuXCA",
        "colab_type": "code",
        "colab": {
          "base_uri": "https://localhost:8080/",
          "height": 141
        },
        "outputId": "6acd1e29-7c11-40bd-dc63-968c073b8d35"
      },
      "source": [
        "history = model.fit(X_train, y_train, epochs=1000,\n",
        "                    verbose = 0, \n",
        "                    validation_data=(X_test,y_test))"
      ],
      "execution_count": 43,
      "outputs": [
        {
          "output_type": "stream",
          "text": [
            "WARNING:tensorflow:Layer dense_6 is casting an input tensor from dtype float64 to the layer's dtype of float32, which is new behavior in TensorFlow 2.  The layer has dtype float32 because its dtype defaults to floatx.\n",
            "\n",
            "If you intended to run this layer in float32, you can safely ignore this warning. If in doubt, this warning is likely only an issue if you are porting a TensorFlow 1.X model to TensorFlow 2.\n",
            "\n",
            "To change all layers to have dtype float64 by default, call `tf.keras.backend.set_floatx('float64')`. To change just this layer, pass dtype='float64' to the layer constructor. If you are the author of this layer, you can disable autocasting by passing autocast=False to the base Layer constructor.\n",
            "\n"
          ],
          "name": "stdout"
        }
      ]
    },
    {
      "cell_type": "markdown",
      "metadata": {
        "id": "X9WDmsMYtr8n",
        "colab_type": "text"
      },
      "source": [
        "# Evaluation\n",
        "Let's see our model works well on test data"
      ]
    },
    {
      "cell_type": "code",
      "metadata": {
        "id": "lZcDYnxYtvYp",
        "colab_type": "code",
        "colab": {
          "base_uri": "https://localhost:8080/",
          "height": 573
        },
        "outputId": "5c8c48a5-b879-4995-a0f8-3ab42003aaf4"
      },
      "source": [
        "# summarize history for accuracy\n",
        "plt.plot(history.history['acc'])\n",
        "plt.plot(history.history['val_acc'])\n",
        "plt.title('model accuracy')\n",
        "plt.ylabel('accuracy')\n",
        "plt.xlabel('epoch')\n",
        "plt.legend(['train', 'test'], loc='upper left')\n",
        "plt.show()\n",
        "# summarize history for loss\n",
        "plt.plot(history.history['loss'])\n",
        "plt.plot(history.history['val_loss'])\n",
        "plt.title('model loss')\n",
        "plt.ylabel('loss')\n",
        "plt.xlabel('epoch')\n",
        "plt.legend(['train', 'test'], loc='upper left')\n",
        "plt.show()"
      ],
      "execution_count": 44,
      "outputs": [
        {
          "output_type": "display_data",
          "data": {
            "image/png": "[encoded data removed]",
            "text/plain": [
              "<Figure size 432x288 with 1 Axes>"
            ]
          },
          "metadata": {
            "tags": [],
            "needs_background": "light"
          }
        },
        {
          "output_type": "display_data",
          "data": {
            "image/png": "[encoded data removed]",
            "text/plain": [
              "<Figure size 432x288 with 1 Axes>"
            ]
          },
          "metadata": {
            "tags": [],
            "needs_background": "light"
          }
        }
      ]
    },
    {
      "cell_type": "markdown",
      "metadata": {
        "id": "9LM9fFHq6W0D",
        "colab_type": "text"
      },
      "source": [
        "## Validation\n",
        "Let's validate with test file"
      ]
    },
    {
      "cell_type": "code",
      "metadata": {
        "id": "DCe1DyecvT6L",
        "colab_type": "code",
        "colab": {
          "base_uri": "https://localhost:8080/",
          "height": 224
        },
        "outputId": "7046e48d-1e93-4046-c116-ef2fd63d2994"
      },
      "source": [
        "# load test file\n",
        "validate_data = pd.read_csv('test.csv')\n",
        "validate_data.head()"
      ],
      "execution_count": null,
      "outputs": [
        {
          "output_type": "execute_result",
          "data": {
            "text/html": [
              "<div>\n",
              "<style scoped>\n",
              "    .dataframe tbody tr th:only-of-type {\n",
              "        vertical-align: middle;\n",
              "    }\n",
              "\n",
              "    .dataframe tbody tr th {\n",
              "        vertical-align: top;\n",
              "    }\n",
              "\n",
              "    .dataframe thead th {\n",
              "        text-align: right;\n",
              "    }\n",
              "</style>\n",
              "<table border=\"1\" class=\"dataframe\">\n",
              "  <thead>\n",
              "    <tr style=\"text-align: right;\">\n",
              "      <th></th>\n",
              "      <th>PassengerId</th>\n",
              "      <th>Pclass</th>\n",
              "      <th>Name</th>\n",
              "      <th>Sex</th>\n",
              "      <th>Age</th>\n",
              "      <th>SibSp</th>\n",
              "      <th>Parch</th>\n",
              "      <th>Ticket</th>\n",
              "      <th>Fare</th>\n",
              "      <th>Cabin</th>\n",
              "      <th>Embarked</th>\n",
              "    </tr>\n",
              "  </thead>\n",
              "  <tbody>\n",
              "    <tr>\n",
              "      <th>0</th>\n",
              "      <td>892</td>\n",
              "      <td>3</td>\n",
              "      <td>Kelly, Mr. James</td>\n",
              "      <td>male</td>\n",
              "      <td>34.5</td>\n",
              "      <td>0</td>\n",
              "      <td>0</td>\n",
              "      <td>330911</td>\n",
              "      <td>7.8292</td>\n",
              "      <td>NaN</td>\n",
              "      <td>Q</td>\n",
              "    </tr>\n",
              "    <tr>\n",
              "      <th>1</th>\n",
              "      <td>893</td>\n",
              "      <td>3</td>\n",
              "      <td>Wilkes, Mrs. James (Ellen Needs)</td>\n",
              "      <td>female</td>\n",
              "      <td>47.0</td>\n",
              "      <td>1</td>\n",
              "      <td>0</td>\n",
              "      <td>363272</td>\n",
              "      <td>7.0000</td>\n",
              "      <td>NaN</td>\n",
              "      <td>S</td>\n",
              "    </tr>\n",
              "    <tr>\n",
              "      <th>2</th>\n",
              "      <td>894</td>\n",
              "      <td>2</td>\n",
              "      <td>Myles, Mr. Thomas Francis</td>\n",
              "      <td>male</td>\n",
              "      <td>62.0</td>\n",
              "      <td>0</td>\n",
              "      <td>0</td>\n",
              "      <td>240276</td>\n",
              "      <td>9.6875</td>\n",
              "      <td>NaN</td>\n",
              "      <td>Q</td>\n",
              "    </tr>\n",
              "    <tr>\n",
              "      <th>3</th>\n",
              "      <td>895</td>\n",
              "      <td>3</td>\n",
              "      <td>Wirz, Mr. Albert</td>\n",
              "      <td>male</td>\n",
              "      <td>27.0</td>\n",
              "      <td>0</td>\n",
              "      <td>0</td>\n",
              "      <td>315154</td>\n",
              "      <td>8.6625</td>\n",
              "      <td>NaN</td>\n",
              "      <td>S</td>\n",
              "    </tr>\n",
              "    <tr>\n",
              "      <th>4</th>\n",
              "      <td>896</td>\n",
              "      <td>3</td>\n",
              "      <td>Hirvonen, Mrs. Alexander (Helga E Lindqvist)</td>\n",
              "      <td>female</td>\n",
              "      <td>22.0</td>\n",
              "      <td>1</td>\n",
              "      <td>1</td>\n",
              "      <td>3101298</td>\n",
              "      <td>12.2875</td>\n",
              "      <td>NaN</td>\n",
              "      <td>S</td>\n",
              "    </tr>\n",
              "  </tbody>\n",
              "</table>\n",
              "</div>"
            ],
            "text/plain": [
              "   PassengerId  Pclass  ... Cabin Embarked\n",
              "0          892       3  ...   NaN        Q\n",
              "1          893       3  ...   NaN        S\n",
              "2          894       2  ...   NaN        Q\n",
              "3          895       3  ...   NaN        S\n",
              "4          896       3  ...   NaN        S\n",
              "\n",
              "[5 rows x 11 columns]"
            ]
          },
          "metadata": {
            "tags": []
          },
          "execution_count": 14
        }
      ]
    },
    {
      "cell_type": "code",
      "metadata": {
        "id": "faiKDv259U3X",
        "colab_type": "code",
        "colab": {}
      },
      "source": [
        "# preprocess validate data\n",
        "X = validate_data[['Age','Sex','Pclass']]"
      ],
      "execution_count": null,
      "outputs": []
    },
    {
      "cell_type": "code",
      "metadata": {
        "id": "cwG9JGMr-LEx",
        "colab_type": "code",
        "colab": {
          "base_uri": "https://localhost:8080/",
          "height": 206
        },
        "outputId": "7fda4c3a-64b4-4e64-806d-ce9f7cc602a3"
      },
      "source": [
        "# encode the sex column\n",
        "encoded_sex = pd.get_dummies(X['Sex'])\n",
        "encoded_Pclass = pd.get_dummies(X['Pclass'])\n",
        "\n",
        "# drop old columns\n",
        "X = X.drop(columns=['Sex','Pclass'])\n",
        "\n",
        "# join new columns\n",
        "X = X.join([encoded_sex,encoded_Pclass])\n",
        "X.head()"
      ],
      "execution_count": null,
      "outputs": [
        {
          "output_type": "execute_result",
          "data": {
            "text/html": [
              "<div>\n",
              "<style scoped>\n",
              "    .dataframe tbody tr th:only-of-type {\n",
              "        vertical-align: middle;\n",
              "    }\n",
              "\n",
              "    .dataframe tbody tr th {\n",
              "        vertical-align: top;\n",
              "    }\n",
              "\n",
              "    .dataframe thead th {\n",
              "        text-align: right;\n",
              "    }\n",
              "</style>\n",
              "<table border=\"1\" class=\"dataframe\">\n",
              "  <thead>\n",
              "    <tr style=\"text-align: right;\">\n",
              "      <th></th>\n",
              "      <th>Age</th>\n",
              "      <th>female</th>\n",
              "      <th>male</th>\n",
              "      <th>1</th>\n",
              "      <th>2</th>\n",
              "      <th>3</th>\n",
              "    </tr>\n",
              "  </thead>\n",
              "  <tbody>\n",
              "    <tr>\n",
              "      <th>0</th>\n",
              "      <td>34.5</td>\n",
              "      <td>0</td>\n",
              "      <td>1</td>\n",
              "      <td>0</td>\n",
              "      <td>0</td>\n",
              "      <td>1</td>\n",
              "    </tr>\n",
              "    <tr>\n",
              "      <th>1</th>\n",
              "      <td>47.0</td>\n",
              "      <td>1</td>\n",
              "      <td>0</td>\n",
              "      <td>0</td>\n",
              "      <td>0</td>\n",
              "      <td>1</td>\n",
              "    </tr>\n",
              "    <tr>\n",
              "      <th>2</th>\n",
              "      <td>62.0</td>\n",
              "      <td>0</td>\n",
              "      <td>1</td>\n",
              "      <td>0</td>\n",
              "      <td>1</td>\n",
              "      <td>0</td>\n",
              "    </tr>\n",
              "    <tr>\n",
              "      <th>3</th>\n",
              "      <td>27.0</td>\n",
              "      <td>0</td>\n",
              "      <td>1</td>\n",
              "      <td>0</td>\n",
              "      <td>0</td>\n",
              "      <td>1</td>\n",
              "    </tr>\n",
              "    <tr>\n",
              "      <th>4</th>\n",
              "      <td>22.0</td>\n",
              "      <td>1</td>\n",
              "      <td>0</td>\n",
              "      <td>0</td>\n",
              "      <td>0</td>\n",
              "      <td>1</td>\n",
              "    </tr>\n",
              "  </tbody>\n",
              "</table>\n",
              "</div>"
            ],
            "text/plain": [
              "    Age  female  male  1  2  3\n",
              "0  34.5       0     1  0  0  1\n",
              "1  47.0       1     0  0  0  1\n",
              "2  62.0       0     1  0  1  0\n",
              "3  27.0       0     1  0  0  1\n",
              "4  22.0       1     0  0  0  1"
            ]
          },
          "metadata": {
            "tags": []
          },
          "execution_count": 16
        }
      ]
    },
    {
      "cell_type": "code",
      "metadata": {
        "id": "Qw4pAY2__Czj",
        "colab_type": "code",
        "colab": {
          "base_uri": "https://localhost:8080/",
          "height": 34
        },
        "outputId": "d5219956-fe87-44c2-f654-dd5feffb4915"
      },
      "source": [
        "# check shape\n",
        "print(X.shape)"
      ],
      "execution_count": null,
      "outputs": [
        {
          "output_type": "stream",
          "text": [
            "(418, 6)\n"
          ],
          "name": "stdout"
        }
      ]
    },
    {
      "cell_type": "code",
      "metadata": {
        "id": "yIUMPFlt-Qob",
        "colab_type": "code",
        "colab": {
          "base_uri": "https://localhost:8080/",
          "height": 1000
        },
        "outputId": "373d9d3a-b682-481a-ebf7-033240b960ff"
      },
      "source": [
        "prediction = model.predict(X)\n",
        "prediction"
      ],
      "execution_count": null,
      "outputs": [
        {
          "output_type": "execute_result",
          "data": {
            "text/plain": [
              "array([[0.14525002],\n",
              "       [0.50795937],\n",
              "       [0.20950314],\n",
              "       [0.14872149],\n",
              "       [0.5309945 ],\n",
              "       [0.15749133],\n",
              "       [0.52363294],\n",
              "       [0.2323634 ],\n",
              "       [0.5346705 ],\n",
              "       [0.15154788],\n",
              "       [       nan],\n",
              "       [0.3375157 ],\n",
              "       [0.7791759 ],\n",
              "       [0.20889229],\n",
              "       [0.7635541 ],\n",
              "       [0.65986896],\n",
              "       [0.22648951],\n",
              "       [0.15154788],\n",
              "       [0.5263949 ],\n",
              "       [0.5098046 ],\n",
              "       [0.33012676],\n",
              "       [0.18523455],\n",
              "       [       nan],\n",
              "       [0.35845244],\n",
              "       [0.7628868 ],\n",
              "       [0.1382887 ],\n",
              "       [0.7798105 ],\n",
              "       [0.15083727],\n",
              "       [0.3416557 ],\n",
              "       [       nan],\n",
              "       [0.21693471],\n",
              "       [0.23368287],\n",
              "       [0.52086955],\n",
              "       [       nan],\n",
              "       [0.3508479 ],\n",
              "       [0.15273845],\n",
              "       [       nan],\n",
              "       [0.5319138 ],\n",
              "       [0.14965886],\n",
              "       [       nan],\n",
              "       [0.14319944],\n",
              "       [       nan],\n",
              "       [0.14229593],\n",
              "       [0.6548798 ],\n",
              "       [0.76488453],\n",
              "       [0.14965886],\n",
              "       [0.3383419 ],\n",
              "       [       nan],\n",
              "       [0.75478005],\n",
              "       [0.5181049 ],\n",
              "       [0.35590953],\n",
              "       [0.23170543],\n",
              "       [0.6631756 ],\n",
              "       [0.77598333],\n",
              "       [       nan],\n",
              "       [0.16475394],\n",
              "       [0.14502108],\n",
              "       [0.14965886],\n",
              "       [       nan],\n",
              "       [0.7708075 ],\n",
              "       [0.15345651],\n",
              "       [0.22843567],\n",
              "       [0.1529775 ],\n",
              "       [0.5309945 ],\n",
              "       [0.3715207 ],\n",
              "       [       nan],\n",
              "       [0.5346705 ],\n",
              "       [0.33669084],\n",
              "       [0.35000765],\n",
              "       [0.75478005],\n",
              "       [0.5291553 ],\n",
              "       [0.15154788],\n",
              "       [0.5245537 ],\n",
              "       [0.35211033],\n",
              "       [0.771459  ],\n",
              "       [0.3487488 ],\n",
              "       [       nan],\n",
              "       [0.7581805 ],\n",
              "       [0.22973967],\n",
              "       [0.5291553 ],\n",
              "       [0.2634233 ],\n",
              "       [0.32040435],\n",
              "       [0.33504382],\n",
              "       [       nan],\n",
              "       [       nan],\n",
              "       [       nan],\n",
              "       [0.5263949 ],\n",
              "       [0.5346705 ],\n",
              "       [       nan],\n",
              "       [0.82067037],\n",
              "       [0.5309945 ],\n",
              "       [       nan],\n",
              "       [0.7766245 ],\n",
              "       [       nan],\n",
              "       [0.35506374],\n",
              "       [0.14965886],\n",
              "       [0.7436829 ],\n",
              "       [0.14778918],\n",
              "       [0.5328329 ],\n",
              "       [0.14593887],\n",
              "       [0.7662101 ],\n",
              "       [0.23170543],\n",
              "       [       nan],\n",
              "       [0.14918962],\n",
              "       [0.536507  ],\n",
              "       [0.14825478],\n",
              "       [0.15154788],\n",
              "       [       nan],\n",
              "       [       nan],\n",
              "       [0.23733878],\n",
              "       [0.22263217],\n",
              "       [       nan],\n",
              "       [0.7708075 ],\n",
              "       [0.5342111 ],\n",
              "       [0.75272405],\n",
              "       [0.1529775 ],\n",
              "       [       nan],\n",
              "       [0.7332705 ],\n",
              "       [0.34581977],\n",
              "       [0.6557138 ],\n",
              "       [0.7507345 ],\n",
              "       [       nan],\n",
              "       [0.771459  ],\n",
              "       [0.14825478],\n",
              "       [       nan],\n",
              "       [0.5355888 ],\n",
              "       [0.15107381],\n",
              "       [       nan],\n",
              "       [0.22199392],\n",
              "       [0.15012923],\n",
              "       [0.14639968],\n",
              "       [0.3317618 ],\n",
              "       [       nan],\n",
              "       [       nan],\n",
              "       [0.14139712],\n",
              "       [0.15012923],\n",
              "       [0.14895537],\n",
              "       [0.2323634 ],\n",
              "       [0.53007495],\n",
              "       [0.1427471 ],\n",
              "       [0.54201066],\n",
              "       [0.7727581 ],\n",
              "       [0.3252468 ],\n",
              "       [0.23104885],\n",
              "       [0.34082586],\n",
              "       [0.14686167],\n",
              "       [       nan],\n",
              "       [0.15107381],\n",
              "       [       nan],\n",
              "       [0.22973967],\n",
              "       [0.7791759 ],\n",
              "       [       nan],\n",
              "       [0.13373372],\n",
              "       [0.5181049 ],\n",
              "       [0.15928224],\n",
              "       [0.15012923],\n",
              "       [0.775341  ],\n",
              "       [0.53007495],\n",
              "       [0.34082586],\n",
              "       [0.52731526],\n",
              "       [       nan],\n",
              "       [0.23250234],\n",
              "       [0.6582098 ],\n",
              "       [       nan],\n",
              "       [0.22263217],\n",
              "       [0.5273152 ],\n",
              "       [0.3358667 ],\n",
              "       [0.1529775 ],\n",
              "       [       nan],\n",
              "       [0.5309945 ],\n",
              "       [       nan],\n",
              "       [0.14872149],\n",
              "       [0.15060091],\n",
              "       [       nan],\n",
              "       [0.1427471 ],\n",
              "       [0.6684536 ],\n",
              "       [0.6631756 ],\n",
              "       [0.33094364],\n",
              "       [0.64985627],\n",
              "       [0.75203615],\n",
              "       [0.22973967],\n",
              "       [0.34498507],\n",
              "       [0.78233564],\n",
              "       [       nan],\n",
              "       [0.7766245 ],\n",
              "       [0.22327182],\n",
              "       [0.6623503 ],\n",
              "       [0.15345651],\n",
              "       [       nan],\n",
              "       [0.22327182],\n",
              "       [0.22713682],\n",
              "       [       nan],\n",
              "       [0.1619994 ],\n",
              "       [0.21011525],\n",
              "       [0.57300735],\n",
              "       [0.14593887],\n",
              "       [0.524145  ],\n",
              "       [0.5346705 ],\n",
              "       [0.23434478],\n",
              "       [       nan],\n",
              "       [       nan],\n",
              "       [0.6537231 ],\n",
              "       [0.33669084],\n",
              "       [0.83721447],\n",
              "       [0.23302254],\n",
              "       [       nan],\n",
              "       [0.5190266 ],\n",
              "       [0.23368287],\n",
              "       [0.7727581 ],\n",
              "       [0.14965886],\n",
              "       [0.14639968],\n",
              "       [       nan],\n",
              "       [0.26318082],\n",
              "       [0.62943685],\n",
              "       [0.51626104],\n",
              "       [0.34082586],\n",
              "       [       nan],\n",
              "       [0.32849595],\n",
              "       [0.76154876],\n",
              "       [       nan],\n",
              "       [0.6548798 ],\n",
              "       [0.15154788],\n",
              "       [0.6615242 ],\n",
              "       [0.15154788],\n",
              "       [0.7595316 ],\n",
              "       [       nan],\n",
              "       [0.15060091],\n",
              "       [       nan],\n",
              "       [0.14252129],\n",
              "       [0.22584331],\n",
              "       [0.34792632],\n",
              "       [0.7804438 ],\n",
              "       [0.15154788],\n",
              "       [       nan],\n",
              "       [0.34331834],\n",
              "       [0.15202323],\n",
              "       [0.32282087],\n",
              "       [0.15202323],\n",
              "       [0.66482294],\n",
              "       [0.7628868 ],\n",
              "       [0.7581805 ],\n",
              "       [0.64225864],\n",
              "       [0.3383419 ],\n",
              "       [       nan],\n",
              "       [       nan],\n",
              "       [0.3416557 ],\n",
              "       [0.6615242 ],\n",
              "       [0.22199392],\n",
              "       [0.6557138 ],\n",
              "       [       nan],\n",
              "       [0.9039273 ],\n",
              "       [0.15202323],\n",
              "       [0.3533746 ],\n",
              "       [0.15012923],\n",
              "       [0.14616913],\n",
              "       [       nan],\n",
              "       [       nan],\n",
              "       [0.14825478],\n",
              "       [0.6639997 ],\n",
              "       [0.15154788],\n",
              "       [0.14433575],\n",
              "       [0.15154788],\n",
              "       [0.6557138 ],\n",
              "       [0.7332705 ],\n",
              "       [0.22973967],\n",
              "       [       nan],\n",
              "       [       nan],\n",
              "       [       nan],\n",
              "       [       nan],\n",
              "       [0.15345651],\n",
              "       [0.3375157 ],\n",
              "       [       nan],\n",
              "       [0.7772644 ],\n",
              "       [       nan],\n",
              "       [       nan],\n",
              "       [0.6631756 ],\n",
              "       [0.23104885],\n",
              "       [0.22327182],\n",
              "       [0.22973967],\n",
              "       [0.2350078 ],\n",
              "       [0.53007495],\n",
              "       [0.623097  ],\n",
              "       [       nan],\n",
              "       [0.542927  ],\n",
              "       [0.70283836],\n",
              "       [0.14456388],\n",
              "       [       nan],\n",
              "       [0.35590953],\n",
              "       [       nan],\n",
              "       [       nan],\n",
              "       [       nan],\n",
              "       [0.52363294],\n",
              "       [       nan],\n",
              "       [0.3317618 ],\n",
              "       [0.14456388],\n",
              "       [0.14918962],\n",
              "       [0.90410614],\n",
              "       [       nan],\n",
              "       [0.3508479 ],\n",
              "       [0.14778918],\n",
              "       [0.14639968],\n",
              "       [       nan],\n",
              "       [0.22135696],\n",
              "       [0.15012923],\n",
              "       [       nan],\n",
              "       [0.75203615],\n",
              "       [0.3508479 ],\n",
              "       [0.61714137],\n",
              "       [0.33012676],\n",
              "       [0.5098046 ],\n",
              "       [0.1529775 ],\n",
              "       [0.15107381],\n",
              "       [       nan],\n",
              "       [0.51718307],\n",
              "       [0.7581805 ],\n",
              "       [0.5355888 ],\n",
              "       [0.32849595],\n",
              "       [0.23700479],\n",
              "       [0.14872149],\n",
              "       [0.2350078 ],\n",
              "       [0.14918962],\n",
              "       [0.14965886],\n",
              "       [0.2323634 ],\n",
              "       [0.3483295 ],\n",
              "       [0.76884496],\n",
              "       [0.15060091],\n",
              "       [0.7507345 ],\n",
              "       [0.3375157 ],\n",
              "       [0.23039356],\n",
              "       [0.23567218],\n",
              "       [0.6397096 ],\n",
              "       [0.34331834],\n",
              "       [       nan],\n",
              "       [0.5337517 ],\n",
              "       [0.14872149],\n",
              "       [0.3508479 ],\n",
              "       [0.22843567],\n",
              "       [0.14319944],\n",
              "       [0.23302254],\n",
              "       [       nan],\n",
              "       [0.23807192],\n",
              "       [0.14639968],\n",
              "       [       nan],\n",
              "       [0.7561438 ],\n",
              "       [       nan],\n",
              "       [0.536507  ],\n",
              "       [0.2323634 ],\n",
              "       [0.51626104],\n",
              "       [0.23368287],\n",
              "       [0.654045  ],\n",
              "       [0.7648846 ],\n",
              "       [0.23302254],\n",
              "       [0.23807192],\n",
              "       [0.2175625 ],\n",
              "       [0.74630094],\n",
              "       [0.33422208],\n",
              "       [0.7554625 ],\n",
              "       [       nan],\n",
              "       [       nan],\n",
              "       [0.52363294],\n",
              "       [0.15660205],\n",
              "       [0.65986896],\n",
              "       [0.654045  ],\n",
              "       [0.14872149],\n",
              "       [0.77790296],\n",
              "       [       nan],\n",
              "       [       nan],\n",
              "       [0.5309945 ],\n",
              "       [0.76488453],\n",
              "       [0.23039356],\n",
              "       [0.23567218],\n",
              "       [0.77405226],\n",
              "       [0.33504382],\n",
              "       [0.22072116],\n",
              "       [0.75885665],\n",
              "       [0.76488453],\n",
              "       [0.5309945 ],\n",
              "       [0.23567218],\n",
              "       [0.33012676],\n",
              "       [0.31367034],\n",
              "       [       nan],\n",
              "       [0.14918962],\n",
              "       [       nan],\n",
              "       [0.5337517 ],\n",
              "       [       nan],\n",
              "       [0.65986896],\n",
              "       [0.15012923],\n",
              "       [0.21257669],\n",
              "       [0.15154788],\n",
              "       [0.2634233 ],\n",
              "       [0.35675627],\n",
              "       [0.76087755],\n",
              "       [0.15928224],\n",
              "       [0.21882194],\n",
              "       [0.14778918],\n",
              "       [0.78233564],\n",
              "       [0.15012923],\n",
              "       [0.7628868 ],\n",
              "       [0.15107381],\n",
              "       [0.14686167],\n",
              "       [0.7746973 ],\n",
              "       [0.22455493],\n",
              "       [0.7798105 ],\n",
              "       [0.36185554],\n",
              "       [0.33999676],\n",
              "       [0.23633784],\n",
              "       [0.23434478],\n",
              "       [0.33422208],\n",
              "       [       nan],\n",
              "       [0.671762  ],\n",
              "       [       nan],\n",
              "       [0.77015465],\n",
              "       [0.5254745 ],\n",
              "       [       nan],\n",
              "       [0.76884496],\n",
              "       [0.14342615],\n",
              "       [       nan],\n",
              "       [       nan]], dtype=float32)"
            ]
          },
          "metadata": {
            "tags": []
          },
          "execution_count": 18
        }
      ]
    },
    {
      "cell_type": "code",
      "metadata": {
        "id": "2B760uHNLw4-",
        "colab_type": "code",
        "colab": {
          "base_uri": "https://localhost:8080/",
          "height": 424
        },
        "outputId": "5ee2b9c7-bd7c-4d5a-8938-1c2a1d51130e"
      },
      "source": [
        "# turn prediction to dataframe\n",
        "result = pd.DataFrame(validate_data['PassengerId'])\n",
        "prediction_series = pd.Series(prediction[:,0])\n",
        "result = result.join([prediction_series])\n",
        "result = result.rename(columns={0:'Survived'})\n",
        "result"
      ],
      "execution_count": null,
      "outputs": [
        {
          "output_type": "execute_result",
          "data": {
            "text/html": [
              "<div>\n",
              "<style scoped>\n",
              "    .dataframe tbody tr th:only-of-type {\n",
              "        vertical-align: middle;\n",
              "    }\n",
              "\n",
              "    .dataframe tbody tr th {\n",
              "        vertical-align: top;\n",
              "    }\n",
              "\n",
              "    .dataframe thead th {\n",
              "        text-align: right;\n",
              "    }\n",
              "</style>\n",
              "<table border=\"1\" class=\"dataframe\">\n",
              "  <thead>\n",
              "    <tr style=\"text-align: right;\">\n",
              "      <th></th>\n",
              "      <th>PassengerId</th>\n",
              "      <th>Survived</th>\n",
              "    </tr>\n",
              "  </thead>\n",
              "  <tbody>\n",
              "    <tr>\n",
              "      <th>0</th>\n",
              "      <td>892</td>\n",
              "      <td>0.145250</td>\n",
              "    </tr>\n",
              "    <tr>\n",
              "      <th>1</th>\n",
              "      <td>893</td>\n",
              "      <td>0.507959</td>\n",
              "    </tr>\n",
              "    <tr>\n",
              "      <th>2</th>\n",
              "      <td>894</td>\n",
              "      <td>0.209503</td>\n",
              "    </tr>\n",
              "    <tr>\n",
              "      <th>3</th>\n",
              "      <td>895</td>\n",
              "      <td>0.148721</td>\n",
              "    </tr>\n",
              "    <tr>\n",
              "      <th>4</th>\n",
              "      <td>896</td>\n",
              "      <td>0.530994</td>\n",
              "    </tr>\n",
              "    <tr>\n",
              "      <th>...</th>\n",
              "      <td>...</td>\n",
              "      <td>...</td>\n",
              "    </tr>\n",
              "    <tr>\n",
              "      <th>413</th>\n",
              "      <td>1305</td>\n",
              "      <td>NaN</td>\n",
              "    </tr>\n",
              "    <tr>\n",
              "      <th>414</th>\n",
              "      <td>1306</td>\n",
              "      <td>0.768845</td>\n",
              "    </tr>\n",
              "    <tr>\n",
              "      <th>415</th>\n",
              "      <td>1307</td>\n",
              "      <td>0.143426</td>\n",
              "    </tr>\n",
              "    <tr>\n",
              "      <th>416</th>\n",
              "      <td>1308</td>\n",
              "      <td>NaN</td>\n",
              "    </tr>\n",
              "    <tr>\n",
              "      <th>417</th>\n",
              "      <td>1309</td>\n",
              "      <td>NaN</td>\n",
              "    </tr>\n",
              "  </tbody>\n",
              "</table>\n",
              "<p>418 rows × 2 columns</p>\n",
              "</div>"
            ],
            "text/plain": [
              "     PassengerId  Survived\n",
              "0            892  0.145250\n",
              "1            893  0.507959\n",
              "2            894  0.209503\n",
              "3            895  0.148721\n",
              "4            896  0.530994\n",
              "..           ...       ...\n",
              "413         1305       NaN\n",
              "414         1306  0.768845\n",
              "415         1307  0.143426\n",
              "416         1308       NaN\n",
              "417         1309       NaN\n",
              "\n",
              "[418 rows x 2 columns]"
            ]
          },
          "metadata": {
            "tags": []
          },
          "execution_count": 31
        }
      ]
    },
    {
      "cell_type": "code",
      "metadata": {
        "id": "j9ThGXbd1Nn_",
        "colab_type": "code",
        "colab": {
          "base_uri": "https://localhost:8080/",
          "height": 424
        },
        "outputId": "fefcf394-8e96-48eb-8cf0-cbbe0cd9da33"
      },
      "source": [
        "# turn prob into 0 or 1\n",
        "def prob_to_binary(p):\n",
        "  if p=='nan':\n",
        "    return 0\n",
        "  if p>=.5:\n",
        "    return 1\n",
        "  else:\n",
        "    return 0\n",
        "\n",
        "result['Survived'] = result['Survived'].apply([prob_to_binary])\n",
        "result"
      ],
      "execution_count": null,
      "outputs": [
        {
          "output_type": "execute_result",
          "data": {
            "text/html": [
              "<div>\n",
              "<style scoped>\n",
              "    .dataframe tbody tr th:only-of-type {\n",
              "        vertical-align: middle;\n",
              "    }\n",
              "\n",
              "    .dataframe tbody tr th {\n",
              "        vertical-align: top;\n",
              "    }\n",
              "\n",
              "    .dataframe thead th {\n",
              "        text-align: right;\n",
              "    }\n",
              "</style>\n",
              "<table border=\"1\" class=\"dataframe\">\n",
              "  <thead>\n",
              "    <tr style=\"text-align: right;\">\n",
              "      <th></th>\n",
              "      <th>PassengerId</th>\n",
              "      <th>Survived</th>\n",
              "    </tr>\n",
              "  </thead>\n",
              "  <tbody>\n",
              "    <tr>\n",
              "      <th>0</th>\n",
              "      <td>892</td>\n",
              "      <td>0</td>\n",
              "    </tr>\n",
              "    <tr>\n",
              "      <th>1</th>\n",
              "      <td>893</td>\n",
              "      <td>1</td>\n",
              "    </tr>\n",
              "    <tr>\n",
              "      <th>2</th>\n",
              "      <td>894</td>\n",
              "      <td>0</td>\n",
              "    </tr>\n",
              "    <tr>\n",
              "      <th>3</th>\n",
              "      <td>895</td>\n",
              "      <td>0</td>\n",
              "    </tr>\n",
              "    <tr>\n",
              "      <th>4</th>\n",
              "      <td>896</td>\n",
              "      <td>1</td>\n",
              "    </tr>\n",
              "    <tr>\n",
              "      <th>...</th>\n",
              "      <td>...</td>\n",
              "      <td>...</td>\n",
              "    </tr>\n",
              "    <tr>\n",
              "      <th>413</th>\n",
              "      <td>1305</td>\n",
              "      <td>0</td>\n",
              "    </tr>\n",
              "    <tr>\n",
              "      <th>414</th>\n",
              "      <td>1306</td>\n",
              "      <td>1</td>\n",
              "    </tr>\n",
              "    <tr>\n",
              "      <th>415</th>\n",
              "      <td>1307</td>\n",
              "      <td>0</td>\n",
              "    </tr>\n",
              "    <tr>\n",
              "      <th>416</th>\n",
              "      <td>1308</td>\n",
              "      <td>0</td>\n",
              "    </tr>\n",
              "    <tr>\n",
              "      <th>417</th>\n",
              "      <td>1309</td>\n",
              "      <td>0</td>\n",
              "    </tr>\n",
              "  </tbody>\n",
              "</table>\n",
              "<p>418 rows × 2 columns</p>\n",
              "</div>"
            ],
            "text/plain": [
              "     PassengerId  Survived\n",
              "0            892         0\n",
              "1            893         1\n",
              "2            894         0\n",
              "3            895         0\n",
              "4            896         1\n",
              "..           ...       ...\n",
              "413         1305         0\n",
              "414         1306         1\n",
              "415         1307         0\n",
              "416         1308         0\n",
              "417         1309         0\n",
              "\n",
              "[418 rows x 2 columns]"
            ]
          },
          "metadata": {
            "tags": []
          },
          "execution_count": 32
        }
      ]
    },
    {
      "cell_type": "code",
      "metadata": {
        "id": "5PQ5plwC7u7n",
        "colab_type": "code",
        "colab": {}
      },
      "source": [
        "result.to_csv('out.csv',index=False)"
      ],
      "execution_count": null,
      "outputs": []
    },
    {
      "cell_type": "code",
      "metadata": {
        "id": "y18TzXwI8eUx",
        "colab_type": "code",
        "colab": {}
      },
      "source": [
        ""
      ],
      "execution_count": null,
      "outputs": []
    }
  ]
}