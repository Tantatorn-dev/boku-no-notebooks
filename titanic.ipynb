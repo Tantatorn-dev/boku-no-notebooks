{
  "nbformat": 4,
  "nbformat_minor": 0,
  "metadata": {
    "colab": {
      "name": "titanic.ipynb",
      "provenance": [],
      "toc_visible": true,
      "mount_file_id": "1Y__8tIlXKJkAlMnXI-4t97llpuHVDjq4",
      "authorship_tag": "ABX9TyOMlWb6+MbvKpn0xret657o",
      "include_colab_link": true
    },
    "kernelspec": {
      "name": "python3",
      "display_name": "Python 3"
    }
  },
  "cells": [
    {
      "cell_type": "markdown",
      "metadata": {
        "id": "view-in-github",
        "colab_type": "text"
      },
      "source": [
        "<a href=\"https://colab.research.google.com/github/Tantatorn-dev/boku-no-notebooks/blob/master/titanic.ipynb\" target=\"_parent\"><img src=\"https://colab.research.google.com/assets/colab-badge.svg\" alt=\"Open In Colab\"/></a>"
      ]
    },
    {
      "cell_type": "markdown",
      "metadata": {
        "id": "R4hVSd3zwtie",
        "colab_type": "text"
      },
      "source": [
        "# Titanic: Machine Learning from Disaster\n",
        "This is a competition from [Kaggle](https://www.kaggle.com/c/titanic)."
      ]
    },
    {
      "cell_type": "markdown",
      "metadata": {
        "id": "6B6BYgg4HhLB",
        "colab_type": "text"
      },
      "source": [
        "## Get the data\n",
        "Download dataset from Kaggle"
      ]
    },
    {
      "cell_type": "code",
      "metadata": {
        "id": "TRqbn_9bwqRa",
        "colab_type": "code",
        "colab": {}
      },
      "source": [
        "# config environment\n",
        "import os\n",
        "os.environ['KAGGLE_CONFIG_DIR'] = \"/content/drive/My Drive/Kaggle\""
      ],
      "execution_count": null,
      "outputs": []
    },
    {
      "cell_type": "code",
      "metadata": {
        "id": "LG6ViUzOHoIk",
        "colab_type": "code",
        "colab": {
          "base_uri": "https://localhost:8080/",
          "height": 34
        },
        "outputId": "b98191d1-2ae4-478e-c630-4377ec5e6793"
      },
      "source": [
        "%cd /content/drive/My Drive/Kaggle/titanic"
      ],
      "execution_count": 1,
      "outputs": [
        {
          "output_type": "stream",
          "text": [
            "/content/drive/My Drive/Kaggle/titanic\n"
          ],
          "name": "stdout"
        }
      ]
    },
    {
      "cell_type": "code",
      "metadata": {
        "id": "3kgN99g3IzBE",
        "colab_type": "code",
        "colab": {
          "base_uri": "https://localhost:8080/",
          "height": 106
        },
        "outputId": "f491b628-c8b2-483e-8283-21bf78adb959"
      },
      "source": [
        "!kaggle competitions download -c titanic"
      ],
      "execution_count": null,
      "outputs": [
        {
          "output_type": "stream",
          "text": [
            "Warning: Looks like you're using an outdated API Version, please consider updating (server 1.5.6 / client 1.5.4)\n",
            "test.csv: Skipping, found more recently modified local copy (use --force to force download)\n",
            "gender_submission.csv: Skipping, found more recently modified local copy (use --force to force download)\n",
            "train.csv: Skipping, found more recently modified local copy (use --force to force download)\n"
          ],
          "name": "stdout"
        }
      ]
    },
    {
      "cell_type": "code",
      "metadata": {
        "id": "fpHdDoHgI7I8",
        "colab_type": "code",
        "colab": {
          "base_uri": "https://localhost:8080/",
          "height": 34
        },
        "outputId": "fbbbccaf-fea6-47a0-8af2-1e371afb4cfc"
      },
      "source": [
        "# list all files\n",
        "!ls"
      ],
      "execution_count": 2,
      "outputs": [
        {
          "output_type": "stream",
          "text": [
            "gender_submission.csv  out.csv\ttest.csv  train.csv\n"
          ],
          "name": "stdout"
        }
      ]
    },
    {
      "cell_type": "markdown",
      "metadata": {
        "id": "OwmUJuKHJLuZ",
        "colab_type": "text"
      },
      "source": [
        "## Exploratory Data Analysis\n",
        "Let's get some insight from data!"
      ]
    },
    {
      "cell_type": "code",
      "metadata": {
        "id": "cCGDA_NrI-p-",
        "colab_type": "code",
        "colab": {
          "base_uri": "https://localhost:8080/",
          "height": 345
        },
        "outputId": "76ee1ae3-7672-4d5a-aca4-08fd86213560"
      },
      "source": [
        "import pandas as pd\n",
        "data = pd.read_csv('train.csv')\n",
        "data.head()"
      ],
      "execution_count": 3,
      "outputs": [
        {
          "output_type": "execute_result",
          "data": {
            "text/html": [
              "<div>\n",
              "<style scoped>\n",
              "    .dataframe tbody tr th:only-of-type {\n",
              "        vertical-align: middle;\n",
              "    }\n",
              "\n",
              "    .dataframe tbody tr th {\n",
              "        vertical-align: top;\n",
              "    }\n",
              "\n",
              "    .dataframe thead th {\n",
              "        text-align: right;\n",
              "    }\n",
              "</style>\n",
              "<table border=\"1\" class=\"dataframe\">\n",
              "  <thead>\n",
              "    <tr style=\"text-align: right;\">\n",
              "      <th></th>\n",
              "      <th>PassengerId</th>\n",
              "      <th>Survived</th>\n",
              "      <th>Pclass</th>\n",
              "      <th>Name</th>\n",
              "      <th>Sex</th>\n",
              "      <th>Age</th>\n",
              "      <th>SibSp</th>\n",
              "      <th>Parch</th>\n",
              "      <th>Ticket</th>\n",
              "      <th>Fare</th>\n",
              "      <th>Cabin</th>\n",
              "      <th>Embarked</th>\n",
              "    </tr>\n",
              "  </thead>\n",
              "  <tbody>\n",
              "    <tr>\n",
              "      <th>0</th>\n",
              "      <td>1</td>\n",
              "      <td>0</td>\n",
              "      <td>3</td>\n",
              "      <td>Braund, Mr. Owen Harris</td>\n",
              "      <td>male</td>\n",
              "      <td>22.0</td>\n",
              "      <td>1</td>\n",
              "      <td>0</td>\n",
              "      <td>A/5 21171</td>\n",
              "      <td>7.2500</td>\n",
              "      <td>NaN</td>\n",
              "      <td>S</td>\n",
              "    </tr>\n",
              "    <tr>\n",
              "      <th>1</th>\n",
              "      <td>2</td>\n",
              "      <td>1</td>\n",
              "      <td>1</td>\n",
              "      <td>Cumings, Mrs. John Bradley (Florence Briggs Th...</td>\n",
              "      <td>female</td>\n",
              "      <td>38.0</td>\n",
              "      <td>1</td>\n",
              "      <td>0</td>\n",
              "      <td>PC 17599</td>\n",
              "      <td>71.2833</td>\n",
              "      <td>C85</td>\n",
              "      <td>C</td>\n",
              "    </tr>\n",
              "    <tr>\n",
              "      <th>2</th>\n",
              "      <td>3</td>\n",
              "      <td>1</td>\n",
              "      <td>3</td>\n",
              "      <td>Heikkinen, Miss. Laina</td>\n",
              "      <td>female</td>\n",
              "      <td>26.0</td>\n",
              "      <td>0</td>\n",
              "      <td>0</td>\n",
              "      <td>STON/O2. 3101282</td>\n",
              "      <td>7.9250</td>\n",
              "      <td>NaN</td>\n",
              "      <td>S</td>\n",
              "    </tr>\n",
              "    <tr>\n",
              "      <th>3</th>\n",
              "      <td>4</td>\n",
              "      <td>1</td>\n",
              "      <td>1</td>\n",
              "      <td>Futrelle, Mrs. Jacques Heath (Lily May Peel)</td>\n",
              "      <td>female</td>\n",
              "      <td>35.0</td>\n",
              "      <td>1</td>\n",
              "      <td>0</td>\n",
              "      <td>113803</td>\n",
              "      <td>53.1000</td>\n",
              "      <td>C123</td>\n",
              "      <td>S</td>\n",
              "    </tr>\n",
              "    <tr>\n",
              "      <th>4</th>\n",
              "      <td>5</td>\n",
              "      <td>0</td>\n",
              "      <td>3</td>\n",
              "      <td>Allen, Mr. William Henry</td>\n",
              "      <td>male</td>\n",
              "      <td>35.0</td>\n",
              "      <td>0</td>\n",
              "      <td>0</td>\n",
              "      <td>373450</td>\n",
              "      <td>8.0500</td>\n",
              "      <td>NaN</td>\n",
              "      <td>S</td>\n",
              "    </tr>\n",
              "  </tbody>\n",
              "</table>\n",
              "</div>"
            ],
            "text/plain": [
              "   PassengerId  Survived  Pclass  ...     Fare Cabin  Embarked\n",
              "0            1         0       3  ...   7.2500   NaN         S\n",
              "1            2         1       1  ...  71.2833   C85         C\n",
              "2            3         1       3  ...   7.9250   NaN         S\n",
              "3            4         1       1  ...  53.1000  C123         S\n",
              "4            5         0       3  ...   8.0500   NaN         S\n",
              "\n",
              "[5 rows x 12 columns]"
            ]
          },
          "metadata": {
            "tags": []
          },
          "execution_count": 3
        }
      ]
    },
    {
      "cell_type": "code",
      "metadata": {
        "id": "77O2hZDYOFtG",
        "colab_type": "code",
        "colab": {
          "base_uri": "https://localhost:8080/",
          "height": 225
        },
        "outputId": "cd4ac877-dc86-4ed5-c9be-5102b9a029f1"
      },
      "source": [
        "# check all columns\n",
        "list(data.columns)"
      ],
      "execution_count": 4,
      "outputs": [
        {
          "output_type": "execute_result",
          "data": {
            "text/plain": [
              "['PassengerId',\n",
              " 'Survived',\n",
              " 'Pclass',\n",
              " 'Name',\n",
              " 'Sex',\n",
              " 'Age',\n",
              " 'SibSp',\n",
              " 'Parch',\n",
              " 'Ticket',\n",
              " 'Fare',\n",
              " 'Cabin',\n",
              " 'Embarked']"
            ]
          },
          "metadata": {
            "tags": []
          },
          "execution_count": 4
        }
      ]
    },
    {
      "cell_type": "markdown",
      "metadata": {
        "id": "fFBlYRKQFFK0",
        "colab_type": "text"
      },
      "source": [
        "### Comparison of Survivability by Ticket Classes"
      ]
    },
    {
      "cell_type": "code",
      "metadata": {
        "id": "inivIlyCPVzg",
        "colab_type": "code",
        "colab": {
          "base_uri": "https://localhost:8080/",
          "height": 350
        },
        "outputId": "6b0a3f71-b17e-41d9-e456-4681f42e16e3"
      },
      "source": [
        "import matplotlib.pyplot as plt\n",
        "import seaborn as sns\n",
        "\n",
        "survived = 'survived'\n",
        "not_survived = 'not survived'\n",
        "\n",
        "fig, axes = plt.subplots(nrows=1, ncols=3,figsize=(10, 4))\n",
        "\n",
        "first_class = data[data['Pclass']==1]\n",
        "second_class = data[data['Pclass']==2]\n",
        "third_class = data[data['Pclass']==3]\n",
        "\n",
        "ax = sns.distplot(first_class[first_class['Survived']==1].Age.dropna(), bins=18, label = survived, ax = axes[0], kde =False)\n",
        "ax = sns.distplot(first_class[first_class['Survived']==0].Age.dropna(), bins=40, label = not_survived, ax = axes[0], kde =False)\n",
        "ax.legend()\n",
        "ax.set_title('1st class ticket')\n",
        "\n",
        "ax = sns.distplot(second_class[second_class['Survived']==1].Age.dropna(), bins=18, label = survived, ax = axes[1], kde = False)\n",
        "ax = sns.distplot(second_class[second_class['Survived']==0].Age.dropna(), bins=40, label = not_survived, ax = axes[1], kde = False)\n",
        "ax.legend()\n",
        "ax.set_title('2nd class ticket')\n",
        "\n",
        "ax = sns.distplot(third_class[third_class['Survived']==1].Age.dropna(), bins=18, label = survived, ax = axes[2], kde = False)\n",
        "ax = sns.distplot(third_class[third_class['Survived']==0].Age.dropna(), bins=40, label = not_survived, ax = axes[2], kde = False)\n",
        "ax.legend()\n",
        "_ = ax.set_title('3rd class ticket')\n"
      ],
      "execution_count": 5,
      "outputs": [
        {
          "output_type": "stream",
          "text": [
            "/usr/local/lib/python3.6/dist-packages/statsmodels/tools/_testing.py:19: FutureWarning: pandas.util.testing is deprecated. Use the functions in the public API at pandas.testing instead.\n",
            "  import pandas.util.testing as tm\n"
          ],
          "name": "stderr"
        },
        {
          "output_type": "display_data",
          "data": {
            "image/png": "[encoded data removed]",
            "text/plain": [
              "<Figure size 720x288 with 3 Axes>"
            ]
          },
          "metadata": {
            "tags": [],
            "needs_background": "light"
          }
        }
      ]
    },
    {
      "cell_type": "markdown",
      "metadata": {
        "id": "KVGFRSjD2U4T",
        "colab_type": "text"
      },
      "source": [
        "You'll see that 1st class ticket passengers have more chance to survive."
      ]
    },
    {
      "cell_type": "markdown",
      "metadata": {
        "id": "1aGcsM5mFRCs",
        "colab_type": "text"
      },
      "source": [
        "### Comparison of survivability by sex"
      ]
    },
    {
      "cell_type": "code",
      "metadata": {
        "id": "v89Se5LbgiDq",
        "colab_type": "code",
        "colab": {
          "base_uri": "https://localhost:8080/",
          "height": 295
        },
        "outputId": "7f7c46e1-264d-4d07-fa93-95e7a2f34fd2"
      },
      "source": [
        "fig, axes = plt.subplots(nrows=1, ncols=2,figsize=(10, 4))\n",
        "\n",
        "women = data[data['Sex']=='female']\n",
        "men  = data[data['Sex']=='male']\n",
        "\n",
        "ax = sns.distplot(women[women['Survived']==1].Age.dropna(), bins=18, label = survived, ax = axes[0], kde =False)\n",
        "ax = sns.distplot(women[women['Survived']==0].Age.dropna(), bins=40, label = not_survived, ax = axes[0], kde =False)\n",
        "\n",
        "ax.legend()\n",
        "_ = ax.set_title('Female')\n",
        "ax = sns.distplot(men[men['Survived']==1].Age.dropna(), bins=18, label = survived, ax = axes[1], kde = False)\n",
        "ax = sns.distplot(men[men['Survived']==0].Age.dropna(), bins=40, label = not_survived, ax = axes[1], kde = False)\n",
        "ax.legend()\n",
        "_ = ax.set_title('Male')"
      ],
      "execution_count": 6,
      "outputs": [
        {
          "output_type": "display_data",
          "data": {
            "image/png": "[encoded data removed]",
            "text/plain": [
              "<Figure size 720x288 with 2 Axes>"
            ]
          },
          "metadata": {
            "tags": [],
            "needs_background": "light"
          }
        }
      ]
    },
    {
      "cell_type": "markdown",
      "metadata": {
        "id": "mBq61-4H2yku",
        "colab_type": "text"
      },
      "source": [
        "Female is more likely to survive than male\n",
        "### Let's find some connection between SibSp and Parch"
      ]
    },
    {
      "cell_type": "code",
      "metadata": {
        "id": "A7Z9DDlK2Bai",
        "colab_type": "code",
        "colab": {
          "base_uri": "https://localhost:8080/",
          "height": 296
        },
        "outputId": "88ec56af-8949-4d6f-e971-b773227c2f15"
      },
      "source": [
        "sns.scatterplot(data['SibSp'],data['Parch'],hue=data['Survived'])"
      ],
      "execution_count": 7,
      "outputs": [
        {
          "output_type": "execute_result",
          "data": {
            "text/plain": [
              "<matplotlib.axes._subplots.AxesSubplot at 0x7f0d062234a8>"
            ]
          },
          "metadata": {
            "tags": []
          },
          "execution_count": 7
        },
        {
          "output_type": "display_data",
          "data": {
            "image/png": "[encoded data removed]",
            "text/plain": [
              "<Figure size 432x288 with 1 Axes>"
            ]
          },
          "metadata": {
            "tags": [],
            "needs_background": "light"
          }
        }
      ]
    },
    {
      "cell_type": "markdown",
      "metadata": {
        "id": "DMI2UCLSFnAU",
        "colab_type": "text"
      },
      "source": [
        "### Comparison of survivability by Fare"
      ]
    },
    {
      "cell_type": "code",
      "metadata": {
        "id": "_7SHnwZ7FmHj",
        "colab_type": "code",
        "colab": {
          "base_uri": "https://localhost:8080/",
          "height": 312
        },
        "outputId": "a87b35ab-1559-404c-92e3-94dc0be20b48"
      },
      "source": [
        "# let's create a histogram\n",
        "survived = data[data['Survived'] == 1]\n",
        "sns.distplot(survived['Fare'],  kde=False, label='Survived')\n",
        "\n",
        "not_survived = data[data['Survived'] == 0]\n",
        "sns.distplot(not_survived['Fare'],  kde=False, label='Not Survived')\n",
        "\n",
        "plt.legend(prop={'size': 12})\n",
        "plt.title('Comparison of survivability by Fare')\n",
        "plt.xlabel('Fare')\n",
        "plt.ylabel('Frequency')"
      ],
      "execution_count": null,
      "outputs": [
        {
          "output_type": "execute_result",
          "data": {
            "text/plain": [
              "Text(0, 0.5, 'Frequency')"
            ]
          },
          "metadata": {
            "tags": []
          },
          "execution_count": 9
        },
        {
          "output_type": "display_data",
          "data": {
            "image/png": "[encoded data removed]",
            "text/plain": [
              "<Figure size 432x288 with 1 Axes>"
            ]
          },
          "metadata": {
            "tags": [],
            "needs_background": "light"
          }
        }
      ]
    },
    {
      "cell_type": "markdown",
      "metadata": {
        "id": "PKUhhkF-jm9e",
        "colab_type": "text"
      },
      "source": [
        "### Comparison of survivability by Embarked city"
      ]
    },
    {
      "cell_type": "code",
      "metadata": {
        "id": "Ofg9aeWfjxLY",
        "colab_type": "code",
        "colab": {
          "base_uri": "https://localhost:8080/",
          "height": 295
        },
        "outputId": "09bffa1a-83f1-4b65-8c1d-3c58d9bd2210"
      },
      "source": [
        "fig, axes = plt.subplots(nrows=1, ncols=3,figsize=(10, 4))\n",
        "\n",
        "cherbourg = data[data['Embarked']=='C']\n",
        "queenstown = data[data['Embarked']=='Q']\n",
        "southampton = data[data['Embarked']=='S']\n",
        "\n",
        "ax = sns.distplot(cherbourg[cherbourg['Survived']==1].Age.dropna(), bins=18, label = survived, ax = axes[0], kde =False)\n",
        "ax = sns.distplot(cherbourg[cherbourg['Survived']==0].Age.dropna(), bins=40, label = not_survived, ax = axes[0], kde =False)\n",
        "ax.legend()\n",
        "_ = ax.set_title('Cherbourg')\n",
        "\n",
        "ax = sns.distplot(queenstown[queenstown['Survived']==1].Age.dropna(), bins=18, label = survived, ax = axes[1], kde = False)\n",
        "ax = sns.distplot(queenstown[queenstown['Survived']==0].Age.dropna(), bins=40, label = not_survived, ax = axes[1], kde = False)\n",
        "ax.legend()\n",
        "_ = ax.set_title('Queenstown')\n",
        "\n",
        "ax = sns.distplot(southampton[southampton['Survived']==1].Age.dropna(), bins=18, label = survived, ax = axes[2], kde = False)\n",
        "ax = sns.distplot(southampton[southampton['Survived']==0].Age.dropna(), bins=40, label = not_survived, ax = axes[2], kde = False)\n",
        "ax.legend()\n",
        "_ = ax.set_title('Southampton')"
      ],
      "execution_count": null,
      "outputs": [
        {
          "output_type": "display_data",
          "data": {
            "image/png": "[encoded data removed]",
            "text/plain": [
              "<Figure size 720x288 with 3 Axes>"
            ]
          },
          "metadata": {
            "tags": [],
            "needs_background": "light"
          }
        }
      ]
    },
    {
      "cell_type": "markdown",
      "metadata": {
        "id": "mnC2ZUJCI_VV",
        "colab_type": "text"
      },
      "source": [
        "I think we've enough insights from data. Let's create some model."
      ]
    },
    {
      "cell_type": "markdown",
      "metadata": {
        "id": "-7MyuCd1NQmg",
        "colab_type": "text"
      },
      "source": [
        "## Data Preparation\n",
        "let's prepare our data before training"
      ]
    },
    {
      "cell_type": "code",
      "metadata": {
        "id": "g1wt673jUfsR",
        "colab_type": "code",
        "colab": {
          "base_uri": "https://localhost:8080/",
          "height": 173
        },
        "outputId": "12fdc575-21c0-464c-a309-2c3ced44609a"
      },
      "source": [
        "# check na columns\n",
        "print(\"Check na columns\")\n",
        "for i in ['Age','Sex','Pclass','SibSp','Parch','Fare','Survived','Embarked']:\n",
        "  print(i , \":\" , data[i].isna().sum())"
      ],
      "execution_count": null,
      "outputs": [
        {
          "output_type": "stream",
          "text": [
            "Check na columns\n",
            "Age : 177\n",
            "Sex : 0\n",
            "Pclass : 0\n",
            "SibSp : 0\n",
            "Parch : 0\n",
            "Fare : 0\n",
            "Survived : 0\n",
            "Embarked : 2\n"
          ],
          "name": "stdout"
        }
      ]
    },
    {
      "cell_type": "code",
      "metadata": {
        "id": "t-HLusF_KsMd",
        "colab_type": "code",
        "colab": {}
      },
      "source": [
        "# let's perform an imputation on age column\n",
        "data['Age'].fillna(data['Age'].mean(), inplace=True) \n",
        "\n",
        "# let's perform an imputation on embarked column\n",
        "data['Embarked'].fillna('C',inplace=True)"
      ],
      "execution_count": null,
      "outputs": []
    },
    {
      "cell_type": "code",
      "metadata": {
        "id": "fG55AbZghjTk",
        "colab_type": "code",
        "colab": {
          "base_uri": "https://localhost:8080/",
          "height": 34
        },
        "outputId": "71b1b2e0-3d42-4b26-8c4b-b98d535ad232"
      },
      "source": [
        "data['Age'].mean()"
      ],
      "execution_count": null,
      "outputs": [
        {
          "output_type": "execute_result",
          "data": {
            "text/plain": [
              "29.699117647058763"
            ]
          },
          "metadata": {
            "tags": []
          },
          "execution_count": 16
        }
      ]
    },
    {
      "cell_type": "code",
      "metadata": {
        "id": "dUVwTsxQZ-eF",
        "colab_type": "code",
        "colab": {
          "base_uri": "https://localhost:8080/",
          "height": 206
        },
        "outputId": "1a727b9d-3669-4eec-dea8-ad0669c79cbf"
      },
      "source": [
        "X = data[['Age','Sex','Pclass','SibSp','Parch','Fare','Survived','Embarked']]\n",
        "X.head()"
      ],
      "execution_count": null,
      "outputs": [
        {
          "output_type": "execute_result",
          "data": {
            "text/html": [
              "<div>\n",
              "<style scoped>\n",
              "    .dataframe tbody tr th:only-of-type {\n",
              "        vertical-align: middle;\n",
              "    }\n",
              "\n",
              "    .dataframe tbody tr th {\n",
              "        vertical-align: top;\n",
              "    }\n",
              "\n",
              "    .dataframe thead th {\n",
              "        text-align: right;\n",
              "    }\n",
              "</style>\n",
              "<table border=\"1\" class=\"dataframe\">\n",
              "  <thead>\n",
              "    <tr style=\"text-align: right;\">\n",
              "      <th></th>\n",
              "      <th>Age</th>\n",
              "      <th>Sex</th>\n",
              "      <th>Pclass</th>\n",
              "      <th>SibSp</th>\n",
              "      <th>Parch</th>\n",
              "      <th>Fare</th>\n",
              "      <th>Survived</th>\n",
              "      <th>Embarked</th>\n",
              "    </tr>\n",
              "  </thead>\n",
              "  <tbody>\n",
              "    <tr>\n",
              "      <th>0</th>\n",
              "      <td>22.0</td>\n",
              "      <td>male</td>\n",
              "      <td>3</td>\n",
              "      <td>1</td>\n",
              "      <td>0</td>\n",
              "      <td>7.2500</td>\n",
              "      <td>0</td>\n",
              "      <td>S</td>\n",
              "    </tr>\n",
              "    <tr>\n",
              "      <th>1</th>\n",
              "      <td>38.0</td>\n",
              "      <td>female</td>\n",
              "      <td>1</td>\n",
              "      <td>1</td>\n",
              "      <td>0</td>\n",
              "      <td>71.2833</td>\n",
              "      <td>1</td>\n",
              "      <td>C</td>\n",
              "    </tr>\n",
              "    <tr>\n",
              "      <th>2</th>\n",
              "      <td>26.0</td>\n",
              "      <td>female</td>\n",
              "      <td>3</td>\n",
              "      <td>0</td>\n",
              "      <td>0</td>\n",
              "      <td>7.9250</td>\n",
              "      <td>1</td>\n",
              "      <td>S</td>\n",
              "    </tr>\n",
              "    <tr>\n",
              "      <th>3</th>\n",
              "      <td>35.0</td>\n",
              "      <td>female</td>\n",
              "      <td>1</td>\n",
              "      <td>1</td>\n",
              "      <td>0</td>\n",
              "      <td>53.1000</td>\n",
              "      <td>1</td>\n",
              "      <td>S</td>\n",
              "    </tr>\n",
              "    <tr>\n",
              "      <th>4</th>\n",
              "      <td>35.0</td>\n",
              "      <td>male</td>\n",
              "      <td>3</td>\n",
              "      <td>0</td>\n",
              "      <td>0</td>\n",
              "      <td>8.0500</td>\n",
              "      <td>0</td>\n",
              "      <td>S</td>\n",
              "    </tr>\n",
              "  </tbody>\n",
              "</table>\n",
              "</div>"
            ],
            "text/plain": [
              "    Age     Sex  Pclass  SibSp  Parch     Fare  Survived Embarked\n",
              "0  22.0    male       3      1      0   7.2500         0        S\n",
              "1  38.0  female       1      1      0  71.2833         1        C\n",
              "2  26.0  female       3      0      0   7.9250         1        S\n",
              "3  35.0  female       1      1      0  53.1000         1        S\n",
              "4  35.0    male       3      0      0   8.0500         0        S"
            ]
          },
          "metadata": {
            "tags": []
          },
          "execution_count": 17
        }
      ]
    },
    {
      "cell_type": "code",
      "metadata": {
        "id": "catSYVvkdxPK",
        "colab_type": "code",
        "colab": {
          "base_uri": "https://localhost:8080/",
          "height": 206
        },
        "outputId": "c098e95f-ff40-49f7-fba1-7fddfbf46568"
      },
      "source": [
        "# encode the sex column\n",
        "encoded_sex = pd.get_dummies(X['Sex'])\n",
        "encoded_Pclass = pd.get_dummies(X['Pclass'])\n",
        "encoded_embarked = pd.get_dummies(X['Embarked'])\n",
        "\n",
        "# drop old columns\n",
        "X = X.drop(columns=['Sex','Pclass','Embarked'])\n",
        "\n",
        "# join new columns\n",
        "X = X.join([encoded_sex,encoded_Pclass,encoded_embarked])\n",
        "X.head()"
      ],
      "execution_count": null,
      "outputs": [
        {
          "output_type": "execute_result",
          "data": {
            "text/html": [
              "<div>\n",
              "<style scoped>\n",
              "    .dataframe tbody tr th:only-of-type {\n",
              "        vertical-align: middle;\n",
              "    }\n",
              "\n",
              "    .dataframe tbody tr th {\n",
              "        vertical-align: top;\n",
              "    }\n",
              "\n",
              "    .dataframe thead th {\n",
              "        text-align: right;\n",
              "    }\n",
              "</style>\n",
              "<table border=\"1\" class=\"dataframe\">\n",
              "  <thead>\n",
              "    <tr style=\"text-align: right;\">\n",
              "      <th></th>\n",
              "      <th>Age</th>\n",
              "      <th>SibSp</th>\n",
              "      <th>Parch</th>\n",
              "      <th>Fare</th>\n",
              "      <th>Survived</th>\n",
              "      <th>female</th>\n",
              "      <th>male</th>\n",
              "      <th>1</th>\n",
              "      <th>2</th>\n",
              "      <th>3</th>\n",
              "      <th>C</th>\n",
              "      <th>Q</th>\n",
              "      <th>S</th>\n",
              "    </tr>\n",
              "  </thead>\n",
              "  <tbody>\n",
              "    <tr>\n",
              "      <th>0</th>\n",
              "      <td>22.0</td>\n",
              "      <td>1</td>\n",
              "      <td>0</td>\n",
              "      <td>7.2500</td>\n",
              "      <td>0</td>\n",
              "      <td>0</td>\n",
              "      <td>1</td>\n",
              "      <td>0</td>\n",
              "      <td>0</td>\n",
              "      <td>1</td>\n",
              "      <td>0</td>\n",
              "      <td>0</td>\n",
              "      <td>1</td>\n",
              "    </tr>\n",
              "    <tr>\n",
              "      <th>1</th>\n",
              "      <td>38.0</td>\n",
              "      <td>1</td>\n",
              "      <td>0</td>\n",
              "      <td>71.2833</td>\n",
              "      <td>1</td>\n",
              "      <td>1</td>\n",
              "      <td>0</td>\n",
              "      <td>1</td>\n",
              "      <td>0</td>\n",
              "      <td>0</td>\n",
              "      <td>1</td>\n",
              "      <td>0</td>\n",
              "      <td>0</td>\n",
              "    </tr>\n",
              "    <tr>\n",
              "      <th>2</th>\n",
              "      <td>26.0</td>\n",
              "      <td>0</td>\n",
              "      <td>0</td>\n",
              "      <td>7.9250</td>\n",
              "      <td>1</td>\n",
              "      <td>1</td>\n",
              "      <td>0</td>\n",
              "      <td>0</td>\n",
              "      <td>0</td>\n",
              "      <td>1</td>\n",
              "      <td>0</td>\n",
              "      <td>0</td>\n",
              "      <td>1</td>\n",
              "    </tr>\n",
              "    <tr>\n",
              "      <th>3</th>\n",
              "      <td>35.0</td>\n",
              "      <td>1</td>\n",
              "      <td>0</td>\n",
              "      <td>53.1000</td>\n",
              "      <td>1</td>\n",
              "      <td>1</td>\n",
              "      <td>0</td>\n",
              "      <td>1</td>\n",
              "      <td>0</td>\n",
              "      <td>0</td>\n",
              "      <td>0</td>\n",
              "      <td>0</td>\n",
              "      <td>1</td>\n",
              "    </tr>\n",
              "    <tr>\n",
              "      <th>4</th>\n",
              "      <td>35.0</td>\n",
              "      <td>0</td>\n",
              "      <td>0</td>\n",
              "      <td>8.0500</td>\n",
              "      <td>0</td>\n",
              "      <td>0</td>\n",
              "      <td>1</td>\n",
              "      <td>0</td>\n",
              "      <td>0</td>\n",
              "      <td>1</td>\n",
              "      <td>0</td>\n",
              "      <td>0</td>\n",
              "      <td>1</td>\n",
              "    </tr>\n",
              "  </tbody>\n",
              "</table>\n",
              "</div>"
            ],
            "text/plain": [
              "    Age  SibSp  Parch     Fare  Survived  female  male  1  2  3  C  Q  S\n",
              "0  22.0      1      0   7.2500         0       0     1  0  0  1  0  0  1\n",
              "1  38.0      1      0  71.2833         1       1     0  1  0  0  1  0  0\n",
              "2  26.0      0      0   7.9250         1       1     0  0  0  1  0  0  1\n",
              "3  35.0      1      0  53.1000         1       1     0  1  0  0  0  0  1\n",
              "4  35.0      0      0   8.0500         0       0     1  0  0  1  0  0  1"
            ]
          },
          "metadata": {
            "tags": []
          },
          "execution_count": 18
        }
      ]
    },
    {
      "cell_type": "code",
      "metadata": {
        "id": "sm7Om5LwhyYR",
        "colab_type": "code",
        "colab": {}
      },
      "source": [
        "# seperate survived column\n",
        "y = X['Survived']\n",
        "X = X.drop(columns=['Survived'])"
      ],
      "execution_count": null,
      "outputs": []
    },
    {
      "cell_type": "code",
      "metadata": {
        "id": "4PrsyvzsGoA9",
        "colab_type": "code",
        "colab": {
          "base_uri": "https://localhost:8080/",
          "height": 52
        },
        "outputId": "60c79228-6f2e-4073-e8ab-2b9905f4e4fd"
      },
      "source": [
        "# check shape \n",
        "print(\"X shape: \",X.shape)\n",
        "print(\"y shape: \",y.shape)"
      ],
      "execution_count": null,
      "outputs": [
        {
          "output_type": "stream",
          "text": [
            "X shape:  (891, 12)\n",
            "y shape:  (891,)\n"
          ],
          "name": "stdout"
        }
      ]
    },
    {
      "cell_type": "code",
      "metadata": {
        "id": "j33j_RLHohs8",
        "colab_type": "code",
        "colab": {}
      },
      "source": [
        "# split data in train and test set\n",
        "from sklearn.model_selection import train_test_split\n",
        "\n",
        "X_train, X_test, y_train, y_test = train_test_split(X,y,test_size=.2)"
      ],
      "execution_count": null,
      "outputs": []
    },
    {
      "cell_type": "markdown",
      "metadata": {
        "id": "XX9-7n_Dmv9i",
        "colab_type": "text"
      },
      "source": [
        "## Model\n",
        "Let's create a prediction model."
      ]
    },
    {
      "cell_type": "code",
      "metadata": {
        "id": "crlxaH_7msUQ",
        "colab_type": "code",
        "colab": {}
      },
      "source": [
        "import tensorflow as tf\n",
        "\n",
        "model = tf.keras.models.Sequential([\n",
        "                                    tf.keras.layers.Dense(12,activation='relu'),\n",
        "                                    tf.keras.layers.Dense(1,activation='sigmoid')\n",
        "])\n",
        "\n",
        "model.compile(optimizer='adam', loss='binary_crossentropy', metrics=['acc'])"
      ],
      "execution_count": null,
      "outputs": []
    },
    {
      "cell_type": "code",
      "metadata": {
        "id": "PZPHydd6zAyS",
        "colab_type": "code",
        "colab": {
          "base_uri": "https://localhost:8080/",
          "height": 52
        },
        "outputId": "e764676e-7d27-4f89-afd2-5b5c8608077c"
      },
      "source": [
        "print(X_test.shape)\n",
        "print(y_test.shape)"
      ],
      "execution_count": null,
      "outputs": [
        {
          "output_type": "stream",
          "text": [
            "(179, 12)\n",
            "(179,)\n"
          ],
          "name": "stdout"
        }
      ]
    },
    {
      "cell_type": "code",
      "metadata": {
        "id": "-j-yoMyWuXCA",
        "colab_type": "code",
        "colab": {
          "base_uri": "https://localhost:8080/",
          "height": 141
        },
        "outputId": "8ed5b4c5-66ea-4672-871a-29ec2cde4b92"
      },
      "source": [
        "history = model.fit(X_train, y_train, epochs=1000,\n",
        "                    verbose = 0, \n",
        "                    validation_data=(X_test,y_test))"
      ],
      "execution_count": null,
      "outputs": [
        {
          "output_type": "stream",
          "text": [
            "WARNING:tensorflow:Layer dense_9 is casting an input tensor from dtype float64 to the layer's dtype of float32, which is new behavior in TensorFlow 2.  The layer has dtype float32 because its dtype defaults to floatx.\n",
            "\n",
            "If you intended to run this layer in float32, you can safely ignore this warning. If in doubt, this warning is likely only an issue if you are porting a TensorFlow 1.X model to TensorFlow 2.\n",
            "\n",
            "To change all layers to have dtype float64 by default, call `tf.keras.backend.set_floatx('float64')`. To change just this layer, pass dtype='float64' to the layer constructor. If you are the author of this layer, you can disable autocasting by passing autocast=False to the base Layer constructor.\n",
            "\n"
          ],
          "name": "stdout"
        }
      ]
    },
    {
      "cell_type": "markdown",
      "metadata": {
        "id": "X9WDmsMYtr8n",
        "colab_type": "text"
      },
      "source": [
        "# Evaluation\n",
        "Let's see our model works well on test data"
      ]
    },
    {
      "cell_type": "code",
      "metadata": {
        "id": "lZcDYnxYtvYp",
        "colab_type": "code",
        "colab": {
          "base_uri": "https://localhost:8080/",
          "height": 573
        },
        "outputId": "480d5a57-509e-4959-e5f5-9de37f8af7f7"
      },
      "source": [
        "import matplotlib.pyplot as plt\n",
        "\n",
        "# summarize history for accuracy\n",
        "plt.plot(history.history['acc'])\n",
        "plt.plot(history.history['val_acc'])\n",
        "plt.title('model accuracy')\n",
        "plt.ylabel('accuracy')\n",
        "plt.xlabel('epoch')\n",
        "plt.legend(['train', 'test'], loc='upper left')\n",
        "plt.show()\n",
        "# summarize history for loss\n",
        "plt.plot(history.history['loss'])\n",
        "plt.plot(history.history['val_loss'])\n",
        "plt.title('model loss')\n",
        "plt.ylabel('loss')\n",
        "plt.xlabel('epoch')\n",
        "plt.legend(['train', 'test'], loc='upper left')\n",
        "plt.show()"
      ],
      "execution_count": null,
      "outputs": [
        {
          "output_type": "display_data",
          "data": {
            "image/png": "[encoded data removed]",
            "text/plain": [
              "<Figure size 432x288 with 1 Axes>"
            ]
          },
          "metadata": {
            "tags": [],
            "needs_background": "light"
          }
        },
        {
          "output_type": "display_data",
          "data": {
            "image/png": "[encoded data removed]",
            "text/plain": [
              "<Figure size 432x288 with 1 Axes>"
            ]
          },
          "metadata": {
            "tags": [],
            "needs_background": "light"
          }
        }
      ]
    },
    {
      "cell_type": "markdown",
      "metadata": {
        "id": "9LM9fFHq6W0D",
        "colab_type": "text"
      },
      "source": [
        "## Validation\n",
        "Let's validate with test file"
      ]
    },
    {
      "cell_type": "code",
      "metadata": {
        "id": "DCe1DyecvT6L",
        "colab_type": "code",
        "colab": {
          "base_uri": "https://localhost:8080/",
          "height": 224
        },
        "outputId": "7b3d786b-880b-4b9d-d5a1-2decc94b8f48"
      },
      "source": [
        "# load test file\n",
        "validate_data = pd.read_csv('test.csv')\n",
        "validate_data.head()"
      ],
      "execution_count": null,
      "outputs": [
        {
          "output_type": "execute_result",
          "data": {
            "text/html": [
              "<div>\n",
              "<style scoped>\n",
              "    .dataframe tbody tr th:only-of-type {\n",
              "        vertical-align: middle;\n",
              "    }\n",
              "\n",
              "    .dataframe tbody tr th {\n",
              "        vertical-align: top;\n",
              "    }\n",
              "\n",
              "    .dataframe thead th {\n",
              "        text-align: right;\n",
              "    }\n",
              "</style>\n",
              "<table border=\"1\" class=\"dataframe\">\n",
              "  <thead>\n",
              "    <tr style=\"text-align: right;\">\n",
              "      <th></th>\n",
              "      <th>PassengerId</th>\n",
              "      <th>Pclass</th>\n",
              "      <th>Name</th>\n",
              "      <th>Sex</th>\n",
              "      <th>Age</th>\n",
              "      <th>SibSp</th>\n",
              "      <th>Parch</th>\n",
              "      <th>Ticket</th>\n",
              "      <th>Fare</th>\n",
              "      <th>Cabin</th>\n",
              "      <th>Embarked</th>\n",
              "    </tr>\n",
              "  </thead>\n",
              "  <tbody>\n",
              "    <tr>\n",
              "      <th>0</th>\n",
              "      <td>892</td>\n",
              "      <td>3</td>\n",
              "      <td>Kelly, Mr. James</td>\n",
              "      <td>male</td>\n",
              "      <td>34.5</td>\n",
              "      <td>0</td>\n",
              "      <td>0</td>\n",
              "      <td>330911</td>\n",
              "      <td>7.8292</td>\n",
              "      <td>NaN</td>\n",
              "      <td>Q</td>\n",
              "    </tr>\n",
              "    <tr>\n",
              "      <th>1</th>\n",
              "      <td>893</td>\n",
              "      <td>3</td>\n",
              "      <td>Wilkes, Mrs. James (Ellen Needs)</td>\n",
              "      <td>female</td>\n",
              "      <td>47.0</td>\n",
              "      <td>1</td>\n",
              "      <td>0</td>\n",
              "      <td>363272</td>\n",
              "      <td>7.0000</td>\n",
              "      <td>NaN</td>\n",
              "      <td>S</td>\n",
              "    </tr>\n",
              "    <tr>\n",
              "      <th>2</th>\n",
              "      <td>894</td>\n",
              "      <td>2</td>\n",
              "      <td>Myles, Mr. Thomas Francis</td>\n",
              "      <td>male</td>\n",
              "      <td>62.0</td>\n",
              "      <td>0</td>\n",
              "      <td>0</td>\n",
              "      <td>240276</td>\n",
              "      <td>9.6875</td>\n",
              "      <td>NaN</td>\n",
              "      <td>Q</td>\n",
              "    </tr>\n",
              "    <tr>\n",
              "      <th>3</th>\n",
              "      <td>895</td>\n",
              "      <td>3</td>\n",
              "      <td>Wirz, Mr. Albert</td>\n",
              "      <td>male</td>\n",
              "      <td>27.0</td>\n",
              "      <td>0</td>\n",
              "      <td>0</td>\n",
              "      <td>315154</td>\n",
              "      <td>8.6625</td>\n",
              "      <td>NaN</td>\n",
              "      <td>S</td>\n",
              "    </tr>\n",
              "    <tr>\n",
              "      <th>4</th>\n",
              "      <td>896</td>\n",
              "      <td>3</td>\n",
              "      <td>Hirvonen, Mrs. Alexander (Helga E Lindqvist)</td>\n",
              "      <td>female</td>\n",
              "      <td>22.0</td>\n",
              "      <td>1</td>\n",
              "      <td>1</td>\n",
              "      <td>3101298</td>\n",
              "      <td>12.2875</td>\n",
              "      <td>NaN</td>\n",
              "      <td>S</td>\n",
              "    </tr>\n",
              "  </tbody>\n",
              "</table>\n",
              "</div>"
            ],
            "text/plain": [
              "   PassengerId  Pclass  ... Cabin Embarked\n",
              "0          892       3  ...   NaN        Q\n",
              "1          893       3  ...   NaN        S\n",
              "2          894       2  ...   NaN        Q\n",
              "3          895       3  ...   NaN        S\n",
              "4          896       3  ...   NaN        S\n",
              "\n",
              "[5 rows x 11 columns]"
            ]
          },
          "metadata": {
            "tags": []
          },
          "execution_count": 39
        }
      ]
    },
    {
      "cell_type": "code",
      "metadata": {
        "id": "zsGwccXhY7YT",
        "colab_type": "code",
        "colab": {}
      },
      "source": [
        "# let's perform an imputation on age column\n",
        "validate_data['Age'].fillna(data['Age'].mean(), inplace=True) \n",
        "validate_data['Embarked'].fillna('C', inplace=True) "
      ],
      "execution_count": null,
      "outputs": []
    },
    {
      "cell_type": "code",
      "metadata": {
        "id": "faiKDv259U3X",
        "colab_type": "code",
        "colab": {}
      },
      "source": [
        "# preprocess validate data\n",
        "X = validate_data[['Age','Sex','Pclass','SibSp','Parch','Fare','Embarked']]"
      ],
      "execution_count": null,
      "outputs": []
    },
    {
      "cell_type": "code",
      "metadata": {
        "id": "cwG9JGMr-LEx",
        "colab_type": "code",
        "colab": {
          "base_uri": "https://localhost:8080/",
          "height": 206
        },
        "outputId": "ee82bae8-3ad5-474f-8c9b-24c4945caba9"
      },
      "source": [
        "# encode the sex column\n",
        "encoded_sex = pd.get_dummies(X['Sex'])\n",
        "encoded_Pclass = pd.get_dummies(X['Pclass'])\n",
        "encoded_embarked = pd.get_dummies(X['Embarked'])\n",
        "\n",
        "# drop old columns\n",
        "X = X.drop(columns=['Sex','Pclass','Embarked'])\n",
        "\n",
        "# join new columns\n",
        "X = X.join([encoded_sex,encoded_Pclass,encoded_embarked])\n",
        "X.head()"
      ],
      "execution_count": null,
      "outputs": [
        {
          "output_type": "execute_result",
          "data": {
            "text/html": [
              "<div>\n",
              "<style scoped>\n",
              "    .dataframe tbody tr th:only-of-type {\n",
              "        vertical-align: middle;\n",
              "    }\n",
              "\n",
              "    .dataframe tbody tr th {\n",
              "        vertical-align: top;\n",
              "    }\n",
              "\n",
              "    .dataframe thead th {\n",
              "        text-align: right;\n",
              "    }\n",
              "</style>\n",
              "<table border=\"1\" class=\"dataframe\">\n",
              "  <thead>\n",
              "    <tr style=\"text-align: right;\">\n",
              "      <th></th>\n",
              "      <th>Age</th>\n",
              "      <th>SibSp</th>\n",
              "      <th>Parch</th>\n",
              "      <th>Fare</th>\n",
              "      <th>female</th>\n",
              "      <th>male</th>\n",
              "      <th>1</th>\n",
              "      <th>2</th>\n",
              "      <th>3</th>\n",
              "      <th>C</th>\n",
              "      <th>Q</th>\n",
              "      <th>S</th>\n",
              "    </tr>\n",
              "  </thead>\n",
              "  <tbody>\n",
              "    <tr>\n",
              "      <th>0</th>\n",
              "      <td>34.5</td>\n",
              "      <td>0</td>\n",
              "      <td>0</td>\n",
              "      <td>7.8292</td>\n",
              "      <td>0</td>\n",
              "      <td>1</td>\n",
              "      <td>0</td>\n",
              "      <td>0</td>\n",
              "      <td>1</td>\n",
              "      <td>0</td>\n",
              "      <td>1</td>\n",
              "      <td>0</td>\n",
              "    </tr>\n",
              "    <tr>\n",
              "      <th>1</th>\n",
              "      <td>47.0</td>\n",
              "      <td>1</td>\n",
              "      <td>0</td>\n",
              "      <td>7.0000</td>\n",
              "      <td>1</td>\n",
              "      <td>0</td>\n",
              "      <td>0</td>\n",
              "      <td>0</td>\n",
              "      <td>1</td>\n",
              "      <td>0</td>\n",
              "      <td>0</td>\n",
              "      <td>1</td>\n",
              "    </tr>\n",
              "    <tr>\n",
              "      <th>2</th>\n",
              "      <td>62.0</td>\n",
              "      <td>0</td>\n",
              "      <td>0</td>\n",
              "      <td>9.6875</td>\n",
              "      <td>0</td>\n",
              "      <td>1</td>\n",
              "      <td>0</td>\n",
              "      <td>1</td>\n",
              "      <td>0</td>\n",
              "      <td>0</td>\n",
              "      <td>1</td>\n",
              "      <td>0</td>\n",
              "    </tr>\n",
              "    <tr>\n",
              "      <th>3</th>\n",
              "      <td>27.0</td>\n",
              "      <td>0</td>\n",
              "      <td>0</td>\n",
              "      <td>8.6625</td>\n",
              "      <td>0</td>\n",
              "      <td>1</td>\n",
              "      <td>0</td>\n",
              "      <td>0</td>\n",
              "      <td>1</td>\n",
              "      <td>0</td>\n",
              "      <td>0</td>\n",
              "      <td>1</td>\n",
              "    </tr>\n",
              "    <tr>\n",
              "      <th>4</th>\n",
              "      <td>22.0</td>\n",
              "      <td>1</td>\n",
              "      <td>1</td>\n",
              "      <td>12.2875</td>\n",
              "      <td>1</td>\n",
              "      <td>0</td>\n",
              "      <td>0</td>\n",
              "      <td>0</td>\n",
              "      <td>1</td>\n",
              "      <td>0</td>\n",
              "      <td>0</td>\n",
              "      <td>1</td>\n",
              "    </tr>\n",
              "  </tbody>\n",
              "</table>\n",
              "</div>"
            ],
            "text/plain": [
              "    Age  SibSp  Parch     Fare  female  male  1  2  3  C  Q  S\n",
              "0  34.5      0      0   7.8292       0     1  0  0  1  0  1  0\n",
              "1  47.0      1      0   7.0000       1     0  0  0  1  0  0  1\n",
              "2  62.0      0      0   9.6875       0     1  0  1  0  0  1  0\n",
              "3  27.0      0      0   8.6625       0     1  0  0  1  0  0  1\n",
              "4  22.0      1      1  12.2875       1     0  0  0  1  0  0  1"
            ]
          },
          "metadata": {
            "tags": []
          },
          "execution_count": 42
        }
      ]
    },
    {
      "cell_type": "code",
      "metadata": {
        "id": "Qw4pAY2__Czj",
        "colab_type": "code",
        "colab": {
          "base_uri": "https://localhost:8080/",
          "height": 34
        },
        "outputId": "c71801a7-7c02-47fa-fcfe-f2e71077fa43"
      },
      "source": [
        "# check shape\n",
        "print(X.shape)"
      ],
      "execution_count": null,
      "outputs": [
        {
          "output_type": "stream",
          "text": [
            "(418, 12)\n"
          ],
          "name": "stdout"
        }
      ]
    },
    {
      "cell_type": "code",
      "metadata": {
        "id": "yIUMPFlt-Qob",
        "colab_type": "code",
        "colab": {
          "base_uri": "https://localhost:8080/",
          "height": 1000
        },
        "outputId": "cd64b4aa-2d28-4d47-e2c1-534bb8a01632"
      },
      "source": [
        "prediction = model.predict(X)\n",
        "prediction"
      ],
      "execution_count": null,
      "outputs": [
        {
          "output_type": "execute_result",
          "data": {
            "text/plain": [
              "array([[2.68611908e-02],\n",
              "       [2.10259974e-01],\n",
              "       [3.72052193e-04],\n",
              "       [7.87139237e-02],\n",
              "       [5.65798163e-01],\n",
              "       [1.65231675e-01],\n",
              "       [6.46112382e-01],\n",
              "       [2.03081667e-01],\n",
              "       [7.49189615e-01],\n",
              "       [9.06011164e-02],\n",
              "       [6.60390258e-02],\n",
              "       [2.13169187e-01],\n",
              "       [8.66101265e-01],\n",
              "       [2.49207020e-02],\n",
              "       [8.02257478e-01],\n",
              "       [8.66284609e-01],\n",
              "       [2.03160286e-01],\n",
              "       [1.42920464e-01],\n",
              "       [4.92633045e-01],\n",
              "       [4.69608009e-02],\n",
              "       [2.60077894e-01],\n",
              "       [1.66820228e-01],\n",
              "       [9.20489669e-01],\n",
              "       [6.06086314e-01],\n",
              "       [6.90404534e-01],\n",
              "       [1.73276961e-02],\n",
              "       [9.44975734e-01],\n",
              "       [1.31620646e-01],\n",
              "       [2.92096674e-01],\n",
              "       [7.51520991e-02],\n",
              "       [5.52273691e-02],\n",
              "       [2.13025510e-01],\n",
              "       [4.08558309e-01],\n",
              "       [4.76424396e-01],\n",
              "       [4.44208056e-01],\n",
              "       [1.63550466e-01],\n",
              "       [5.12208223e-01],\n",
              "       [6.49402618e-01],\n",
              "       [9.00035203e-02],\n",
              "       [1.76215053e-01],\n",
              "       [5.12162149e-02],\n",
              "       [4.36348468e-01],\n",
              "       [3.32646370e-02],\n",
              "       [7.46302187e-01],\n",
              "       [8.14193726e-01],\n",
              "       [8.71081948e-02],\n",
              "       [3.01870704e-01],\n",
              "       [7.44049847e-02],\n",
              "       [8.76829565e-01],\n",
              "       [3.96493614e-01],\n",
              "       [3.74900758e-01],\n",
              "       [2.57559538e-01],\n",
              "       [7.90064812e-01],\n",
              "       [4.56577897e-01],\n",
              "       [2.28283018e-01],\n",
              "       [5.28153181e-02],\n",
              "       [4.80375886e-02],\n",
              "       [8.66113007e-02],\n",
              "       [6.24116659e-02],\n",
              "       [8.66791785e-01],\n",
              "       [1.36932582e-01],\n",
              "       [1.50405437e-01],\n",
              "       [1.29209518e-01],\n",
              "       [7.52744675e-01],\n",
              "       [2.13097781e-01],\n",
              "       [7.82510161e-01],\n",
              "       [7.97603011e-01],\n",
              "       [2.69724995e-01],\n",
              "       [5.06522357e-01],\n",
              "       [5.07301092e-01],\n",
              "       [7.28414059e-01],\n",
              "       [1.09528393e-01],\n",
              "       [5.22606790e-01],\n",
              "       [5.41551650e-01],\n",
              "       [8.89201045e-01],\n",
              "       [4.26023304e-01],\n",
              "       [6.62559569e-02],\n",
              "       [5.77985227e-01],\n",
              "       [1.65821970e-01],\n",
              "       [7.28414059e-01],\n",
              "       [2.58386731e-01],\n",
              "       [1.10983998e-01],\n",
              "       [1.82895839e-01],\n",
              "       [6.60390258e-02],\n",
              "       [2.56031215e-01],\n",
              "       [8.11038613e-02],\n",
              "       [6.89677298e-01],\n",
              "       [6.88557982e-01],\n",
              "       [6.51103556e-01],\n",
              "       [5.05893767e-01],\n",
              "       [6.04638457e-01],\n",
              "       [6.58695102e-02],\n",
              "       [8.48162591e-01],\n",
              "       [6.62559569e-02],\n",
              "       [5.86650968e-01],\n",
              "       [8.68743956e-02],\n",
              "       [6.07284844e-01],\n",
              "       [6.88795447e-02],\n",
              "       [6.59629583e-01],\n",
              "       [5.43850064e-02],\n",
              "       [8.72926354e-01],\n",
              "       [2.01693684e-01],\n",
              "       [7.44049847e-02],\n",
              "       [8.19212496e-02],\n",
              "       [7.06882000e-01],\n",
              "       [9.90488827e-02],\n",
              "       [1.63373113e-01],\n",
              "       [7.44049847e-02],\n",
              "       [6.71957433e-02],\n",
              "       [2.92419642e-01],\n",
              "       [1.24621004e-01],\n",
              "       [6.51254654e-01],\n",
              "       [9.22296405e-01],\n",
              "       [7.90175974e-01],\n",
              "       [6.09996915e-01],\n",
              "       [1.56712204e-01],\n",
              "       [3.43739986e-03],\n",
              "       [7.45756984e-01],\n",
              "       [5.30849278e-01],\n",
              "       [7.67008424e-01],\n",
              "       [9.07808185e-01],\n",
              "       [6.37795031e-02],\n",
              "       [8.90896440e-01],\n",
              "       [7.20402002e-02],\n",
              "       [7.44049847e-02],\n",
              "       [7.14432955e-01],\n",
              "       [1.03262693e-01],\n",
              "       [5.75745285e-01],\n",
              "       [8.47707987e-02],\n",
              "       [9.25424993e-02],\n",
              "       [5.77521622e-02],\n",
              "       [2.01835006e-01],\n",
              "       [4.88016337e-01],\n",
              "       [2.23729014e-03],\n",
              "       [2.94356942e-02],\n",
              "       [9.21686888e-02],\n",
              "       [6.84934258e-02],\n",
              "       [2.04082966e-01],\n",
              "       [6.16609395e-01],\n",
              "       [3.21764648e-02],\n",
              "       [1.80281967e-01],\n",
              "       [8.73634994e-01],\n",
              "       [1.26747489e-01],\n",
              "       [2.32875943e-01],\n",
              "       [2.61374891e-01],\n",
              "       [3.75593007e-02],\n",
              "       [4.84369874e-01],\n",
              "       [1.03800088e-01],\n",
              "       [4.36348468e-01],\n",
              "       [1.55770779e-01],\n",
              "       [9.39508080e-01],\n",
              "       [8.58260691e-02],\n",
              "       [           nan],\n",
              "       [3.76424432e-01],\n",
              "       [3.18360925e-02],\n",
              "       [9.15904939e-02],\n",
              "       [8.53951693e-01],\n",
              "       [6.15554452e-01],\n",
              "       [2.61374891e-01],\n",
              "       [5.41879475e-01],\n",
              "       [6.51017308e-01],\n",
              "       [2.51959264e-01],\n",
              "       [7.93300986e-01],\n",
              "       [6.47917092e-02],\n",
              "       [8.98406208e-02],\n",
              "       [5.57731092e-01],\n",
              "       [3.64554524e-01],\n",
              "       [7.99386203e-02],\n",
              "       [9.41848755e-01],\n",
              "       [6.36361599e-01],\n",
              "       [6.55549169e-02],\n",
              "       [5.75345755e-02],\n",
              "       [8.83999467e-02],\n",
              "       [2.20862329e-02],\n",
              "       [2.57363617e-02],\n",
              "       [9.15217280e-01],\n",
              "       [9.05197859e-01],\n",
              "       [2.55007178e-01],\n",
              "       [7.14886189e-01],\n",
              "       [8.34496319e-01],\n",
              "       [1.65821970e-01],\n",
              "       [3.63588423e-01],\n",
              "       [8.89681220e-01],\n",
              "       [7.44049847e-02],\n",
              "       [8.17559242e-01],\n",
              "       [1.01231992e-01],\n",
              "       [8.46914232e-01],\n",
              "       [8.85092318e-02],\n",
              "       [2.44079828e-02],\n",
              "       [9.51820910e-02],\n",
              "       [1.39286429e-01],\n",
              "       [4.33269680e-01],\n",
              "       [1.53012574e-01],\n",
              "       [4.24360335e-02],\n",
              "       [4.95496184e-01],\n",
              "       [5.41560054e-02],\n",
              "       [6.03103101e-01],\n",
              "       [6.87213182e-01],\n",
              "       [2.26708680e-01],\n",
              "       [5.12564123e-01],\n",
              "       [6.90064132e-01],\n",
              "       [2.93445736e-01],\n",
              "       [2.25543112e-01],\n",
              "       [9.11870241e-01],\n",
              "       [2.05172896e-01],\n",
              "       [5.11297464e-01],\n",
              "       [5.71149170e-01],\n",
              "       [2.15746164e-01],\n",
              "       [9.29217100e-01],\n",
              "       [8.70553255e-02],\n",
              "       [7.85362124e-02],\n",
              "       [6.48606420e-02],\n",
              "       [5.37996531e-01],\n",
              "       [3.14023644e-01],\n",
              "       [1.51689798e-01],\n",
              "       [3.37258756e-01],\n",
              "       [6.51771903e-01],\n",
              "       [1.50786340e-01],\n",
              "       [7.52315521e-01],\n",
              "       [6.62559569e-02],\n",
              "       [7.63307810e-01],\n",
              "       [1.09871328e-01],\n",
              "       [8.22177410e-01],\n",
              "       [1.09306335e-01],\n",
              "       [7.85100400e-01],\n",
              "       [5.70918918e-01],\n",
              "       [9.75165963e-02],\n",
              "       [6.51103556e-01],\n",
              "       [4.02148068e-02],\n",
              "       [1.19478524e-01],\n",
              "       [5.62553465e-01],\n",
              "       [9.34934020e-01],\n",
              "       [8.51226449e-02],\n",
              "       [7.71459937e-02],\n",
              "       [3.82757366e-01],\n",
              "       [1.15794271e-01],\n",
              "       [2.21437275e-01],\n",
              "       [1.50894672e-01],\n",
              "       [8.13370824e-01],\n",
              "       [8.35662365e-01],\n",
              "       [7.63979673e-01],\n",
              "       [5.65826237e-01],\n",
              "       [2.82939792e-01],\n",
              "       [6.60274327e-02],\n",
              "       [5.79273999e-02],\n",
              "       [2.95949161e-01],\n",
              "       [8.54499161e-01],\n",
              "       [9.06539261e-02],\n",
              "       [7.67008424e-01],\n",
              "       [5.66375315e-01],\n",
              "       [9.17367041e-01],\n",
              "       [1.15959495e-01],\n",
              "       [3.90153348e-01],\n",
              "       [9.50103998e-02],\n",
              "       [5.78179061e-02],\n",
              "       [6.55549169e-02],\n",
              "       [7.44049847e-02],\n",
              "       [7.32678175e-02],\n",
              "       [8.55578005e-01],\n",
              "       [1.09260231e-01],\n",
              "       [4.25838828e-02],\n",
              "       [1.09435946e-01],\n",
              "       [7.54666150e-01],\n",
              "       [7.48892725e-01],\n",
              "       [2.13844240e-01],\n",
              "       [6.60390258e-02],\n",
              "       [4.90609140e-14],\n",
              "       [6.55549169e-02],\n",
              "       [5.12208223e-01],\n",
              "       [1.39009535e-01],\n",
              "       [4.74244744e-01],\n",
              "       [7.44049847e-02],\n",
              "       [8.82192969e-01],\n",
              "       [6.34872675e-01],\n",
              "       [2.18719244e-02],\n",
              "       [8.53742838e-01],\n",
              "       [1.75781459e-01],\n",
              "       [9.94746387e-02],\n",
              "       [1.57022268e-01],\n",
              "       [2.38059372e-01],\n",
              "       [6.19902015e-01],\n",
              "       [2.06715882e-01],\n",
              "       [6.51103556e-01],\n",
              "       [7.88347840e-01],\n",
              "       [7.38951862e-01],\n",
              "       [4.45788503e-02],\n",
              "       [6.51375651e-02],\n",
              "       [3.55920225e-01],\n",
              "       [2.20862329e-02],\n",
              "       [6.62559569e-02],\n",
              "       [4.95636404e-01],\n",
              "       [6.42567158e-01],\n",
              "       [2.20862329e-02],\n",
              "       [2.08732277e-01],\n",
              "       [4.68132794e-02],\n",
              "       [8.21284056e-02],\n",
              "       [9.40994859e-01],\n",
              "       [7.51520991e-02],\n",
              "       [4.88510042e-01],\n",
              "       [6.87760711e-02],\n",
              "       [5.74122965e-02],\n",
              "       [2.26149797e-01],\n",
              "       [8.43994319e-02],\n",
              "       [9.37207639e-02],\n",
              "       [6.51103556e-01],\n",
              "       [4.71273243e-01],\n",
              "       [2.40284979e-01],\n",
              "       [3.01155686e-01],\n",
              "       [1.94548935e-01],\n",
              "       [2.62276649e-01],\n",
              "       [1.31566167e-01],\n",
              "       [1.35300517e-01],\n",
              "       [6.55897856e-02],\n",
              "       [5.39730608e-01],\n",
              "       [8.70818138e-01],\n",
              "       [8.07165682e-01],\n",
              "       [2.38216788e-01],\n",
              "       [2.74397224e-01],\n",
              "       [7.73890615e-02],\n",
              "       [2.35141695e-01],\n",
              "       [8.19212496e-02],\n",
              "       [1.09117508e-01],\n",
              "       [2.04082966e-01],\n",
              "       [3.85547459e-01],\n",
              "       [8.28873396e-01],\n",
              "       [9.60316956e-02],\n",
              "       [8.38925481e-01],\n",
              "       [4.70617354e-01],\n",
              "       [1.81974977e-01],\n",
              "       [2.60617197e-01],\n",
              "       [5.56672275e-01],\n",
              "       [3.87802482e-01],\n",
              "       [2.18719244e-02],\n",
              "       [7.01391399e-01],\n",
              "       [7.74567723e-02],\n",
              "       [4.28574204e-01],\n",
              "       [1.48955911e-01],\n",
              "       [2.56722569e-02],\n",
              "       [2.94018924e-01],\n",
              "       [2.20862329e-02],\n",
              "       [2.87248701e-01],\n",
              "       [5.71714044e-02],\n",
              "       [5.33950031e-02],\n",
              "       [5.91836512e-01],\n",
              "       [5.36883771e-02],\n",
              "       [7.13318765e-01],\n",
              "       [2.04082966e-01],\n",
              "       [3.43360096e-01],\n",
              "       [2.27532387e-01],\n",
              "       [7.68091440e-01],\n",
              "       [9.10273492e-01],\n",
              "       [2.05172896e-01],\n",
              "       [5.32357991e-01],\n",
              "       [1.05810374e-01],\n",
              "       [7.30476260e-01],\n",
              "       [1.73576057e-01],\n",
              "       [6.49340749e-01],\n",
              "       [6.60156906e-02],\n",
              "       [7.44049847e-02],\n",
              "       [4.88323331e-01],\n",
              "       [3.07613611e-03],\n",
              "       [8.76162291e-01],\n",
              "       [7.68091440e-01],\n",
              "       [7.87139237e-02],\n",
              "       [9.11741495e-01],\n",
              "       [3.92265499e-01],\n",
              "       [8.11108351e-02],\n",
              "       [7.58997619e-01],\n",
              "       [9.11454976e-01],\n",
              "       [2.29217052e-01],\n",
              "       [2.10125387e-01],\n",
              "       [9.21026707e-01],\n",
              "       [1.86666275e-17],\n",
              "       [7.54033625e-02],\n",
              "       [7.46894419e-01],\n",
              "       [8.41427207e-01],\n",
              "       [5.14568925e-01],\n",
              "       [2.54087538e-01],\n",
              "       [2.08822757e-01],\n",
              "       [3.79255116e-02],\n",
              "       [7.44049847e-02],\n",
              "       [1.07794374e-01],\n",
              "       [5.48783600e-01],\n",
              "       [6.60576284e-01],\n",
              "       [1.68089181e-01],\n",
              "       [8.51573110e-01],\n",
              "       [9.20177698e-02],\n",
              "       [3.44283581e-02],\n",
              "       [1.60462439e-01],\n",
              "       [7.00049102e-02],\n",
              "       [4.84059900e-01],\n",
              "       [7.77685761e-01],\n",
              "       [1.74827874e-01],\n",
              "       [5.98401427e-02],\n",
              "       [4.11716104e-02],\n",
              "       [8.87166381e-01],\n",
              "       [1.08615279e-01],\n",
              "       [8.37910652e-01],\n",
              "       [1.03218794e-01],\n",
              "       [6.56511188e-02],\n",
              "       [8.75721693e-01],\n",
              "       [1.00680977e-01],\n",
              "       [9.45466697e-01],\n",
              "       [5.60407817e-01],\n",
              "       [2.68264860e-01],\n",
              "       [3.45275134e-01],\n",
              "       [1.86300457e-01],\n",
              "       [2.09761202e-01],\n",
              "       [6.50952578e-01],\n",
              "       [7.39145100e-01],\n",
              "       [6.51103556e-01],\n",
              "       [8.68675947e-01],\n",
              "       [5.37606955e-01],\n",
              "       [6.62559569e-02],\n",
              "       [9.14445996e-01],\n",
              "       [3.82726490e-02],\n",
              "       [6.62559569e-02],\n",
              "       [8.54282975e-02]], dtype=float32)"
            ]
          },
          "metadata": {
            "tags": []
          },
          "execution_count": 44
        }
      ]
    },
    {
      "cell_type": "code",
      "metadata": {
        "id": "2B760uHNLw4-",
        "colab_type": "code",
        "colab": {
          "base_uri": "https://localhost:8080/",
          "height": 424
        },
        "outputId": "3682ddee-e40f-426b-a49b-178f9043dd14"
      },
      "source": [
        "# turn prediction to dataframe\n",
        "result = pd.DataFrame(validate_data['PassengerId'])\n",
        "prediction_series = pd.Series(prediction[:,0])\n",
        "result = result.join([prediction_series])\n",
        "result = result.rename(columns={0:'Survived'})\n",
        "result"
      ],
      "execution_count": null,
      "outputs": [
        {
          "output_type": "execute_result",
          "data": {
            "text/html": [
              "<div>\n",
              "<style scoped>\n",
              "    .dataframe tbody tr th:only-of-type {\n",
              "        vertical-align: middle;\n",
              "    }\n",
              "\n",
              "    .dataframe tbody tr th {\n",
              "        vertical-align: top;\n",
              "    }\n",
              "\n",
              "    .dataframe thead th {\n",
              "        text-align: right;\n",
              "    }\n",
              "</style>\n",
              "<table border=\"1\" class=\"dataframe\">\n",
              "  <thead>\n",
              "    <tr style=\"text-align: right;\">\n",
              "      <th></th>\n",
              "      <th>PassengerId</th>\n",
              "      <th>Survived</th>\n",
              "    </tr>\n",
              "  </thead>\n",
              "  <tbody>\n",
              "    <tr>\n",
              "      <th>0</th>\n",
              "      <td>892</td>\n",
              "      <td>0.026861</td>\n",
              "    </tr>\n",
              "    <tr>\n",
              "      <th>1</th>\n",
              "      <td>893</td>\n",
              "      <td>0.210260</td>\n",
              "    </tr>\n",
              "    <tr>\n",
              "      <th>2</th>\n",
              "      <td>894</td>\n",
              "      <td>0.000372</td>\n",
              "    </tr>\n",
              "    <tr>\n",
              "      <th>3</th>\n",
              "      <td>895</td>\n",
              "      <td>0.078714</td>\n",
              "    </tr>\n",
              "    <tr>\n",
              "      <th>4</th>\n",
              "      <td>896</td>\n",
              "      <td>0.565798</td>\n",
              "    </tr>\n",
              "    <tr>\n",
              "      <th>...</th>\n",
              "      <td>...</td>\n",
              "      <td>...</td>\n",
              "    </tr>\n",
              "    <tr>\n",
              "      <th>413</th>\n",
              "      <td>1305</td>\n",
              "      <td>0.066256</td>\n",
              "    </tr>\n",
              "    <tr>\n",
              "      <th>414</th>\n",
              "      <td>1306</td>\n",
              "      <td>0.914446</td>\n",
              "    </tr>\n",
              "    <tr>\n",
              "      <th>415</th>\n",
              "      <td>1307</td>\n",
              "      <td>0.038273</td>\n",
              "    </tr>\n",
              "    <tr>\n",
              "      <th>416</th>\n",
              "      <td>1308</td>\n",
              "      <td>0.066256</td>\n",
              "    </tr>\n",
              "    <tr>\n",
              "      <th>417</th>\n",
              "      <td>1309</td>\n",
              "      <td>0.085428</td>\n",
              "    </tr>\n",
              "  </tbody>\n",
              "</table>\n",
              "<p>418 rows × 2 columns</p>\n",
              "</div>"
            ],
            "text/plain": [
              "     PassengerId  Survived\n",
              "0            892  0.026861\n",
              "1            893  0.210260\n",
              "2            894  0.000372\n",
              "3            895  0.078714\n",
              "4            896  0.565798\n",
              "..           ...       ...\n",
              "413         1305  0.066256\n",
              "414         1306  0.914446\n",
              "415         1307  0.038273\n",
              "416         1308  0.066256\n",
              "417         1309  0.085428\n",
              "\n",
              "[418 rows x 2 columns]"
            ]
          },
          "metadata": {
            "tags": []
          },
          "execution_count": 45
        }
      ]
    },
    {
      "cell_type": "code",
      "metadata": {
        "id": "j9ThGXbd1Nn_",
        "colab_type": "code",
        "colab": {
          "base_uri": "https://localhost:8080/",
          "height": 424
        },
        "outputId": "4ed0d774-4395-4a1b-f507-c506fa1315a1"
      },
      "source": [
        "# turn prob into 0 or 1\n",
        "def prob_to_binary(p):\n",
        "  if p=='nan':\n",
        "    return 0\n",
        "  if p>=.5:\n",
        "    return 1\n",
        "  else:\n",
        "    return 0\n",
        "\n",
        "result['Survived'] = result['Survived'].apply([prob_to_binary])\n",
        "result"
      ],
      "execution_count": null,
      "outputs": [
        {
          "output_type": "execute_result",
          "data": {
            "text/html": [
              "<div>\n",
              "<style scoped>\n",
              "    .dataframe tbody tr th:only-of-type {\n",
              "        vertical-align: middle;\n",
              "    }\n",
              "\n",
              "    .dataframe tbody tr th {\n",
              "        vertical-align: top;\n",
              "    }\n",
              "\n",
              "    .dataframe thead th {\n",
              "        text-align: right;\n",
              "    }\n",
              "</style>\n",
              "<table border=\"1\" class=\"dataframe\">\n",
              "  <thead>\n",
              "    <tr style=\"text-align: right;\">\n",
              "      <th></th>\n",
              "      <th>PassengerId</th>\n",
              "      <th>Survived</th>\n",
              "    </tr>\n",
              "  </thead>\n",
              "  <tbody>\n",
              "    <tr>\n",
              "      <th>0</th>\n",
              "      <td>892</td>\n",
              "      <td>0</td>\n",
              "    </tr>\n",
              "    <tr>\n",
              "      <th>1</th>\n",
              "      <td>893</td>\n",
              "      <td>0</td>\n",
              "    </tr>\n",
              "    <tr>\n",
              "      <th>2</th>\n",
              "      <td>894</td>\n",
              "      <td>0</td>\n",
              "    </tr>\n",
              "    <tr>\n",
              "      <th>3</th>\n",
              "      <td>895</td>\n",
              "      <td>0</td>\n",
              "    </tr>\n",
              "    <tr>\n",
              "      <th>4</th>\n",
              "      <td>896</td>\n",
              "      <td>1</td>\n",
              "    </tr>\n",
              "    <tr>\n",
              "      <th>...</th>\n",
              "      <td>...</td>\n",
              "      <td>...</td>\n",
              "    </tr>\n",
              "    <tr>\n",
              "      <th>413</th>\n",
              "      <td>1305</td>\n",
              "      <td>0</td>\n",
              "    </tr>\n",
              "    <tr>\n",
              "      <th>414</th>\n",
              "      <td>1306</td>\n",
              "      <td>1</td>\n",
              "    </tr>\n",
              "    <tr>\n",
              "      <th>415</th>\n",
              "      <td>1307</td>\n",
              "      <td>0</td>\n",
              "    </tr>\n",
              "    <tr>\n",
              "      <th>416</th>\n",
              "      <td>1308</td>\n",
              "      <td>0</td>\n",
              "    </tr>\n",
              "    <tr>\n",
              "      <th>417</th>\n",
              "      <td>1309</td>\n",
              "      <td>0</td>\n",
              "    </tr>\n",
              "  </tbody>\n",
              "</table>\n",
              "<p>418 rows × 2 columns</p>\n",
              "</div>"
            ],
            "text/plain": [
              "     PassengerId  Survived\n",
              "0            892         0\n",
              "1            893         0\n",
              "2            894         0\n",
              "3            895         0\n",
              "4            896         1\n",
              "..           ...       ...\n",
              "413         1305         0\n",
              "414         1306         1\n",
              "415         1307         0\n",
              "416         1308         0\n",
              "417         1309         0\n",
              "\n",
              "[418 rows x 2 columns]"
            ]
          },
          "metadata": {
            "tags": []
          },
          "execution_count": 46
        }
      ]
    },
    {
      "cell_type": "code",
      "metadata": {
        "id": "5PQ5plwC7u7n",
        "colab_type": "code",
        "colab": {}
      },
      "source": [
        "result.to_csv('out.csv',index=False)"
      ],
      "execution_count": null,
      "outputs": []
    }
  ]
}