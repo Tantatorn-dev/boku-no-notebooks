{
  "nbformat": 4,
  "nbformat_minor": 0,
  "metadata": {
    "colab": {
      "name": "digit_recognizer",
      "provenance": [],
      "collapsed_sections": [],
      "toc_visible": true,
      "mount_file_id": "1uOEzptENMkqpg-wXhr9hQdP_MUc6EdPM",
      "authorship_tag": "ABX9TyOB6FSpyGqI0OADqL7Mqp1o",
      "include_colab_link": true
    },
    "kernelspec": {
      "name": "python3",
      "display_name": "Python 3"
    }
  },
  "cells": [
    {
      "cell_type": "markdown",
      "metadata": {
        "id": "view-in-github",
        "colab_type": "text"
      },
      "source": [
        "<a href=\"https://colab.research.google.com/github/Tantatorn-dev/boku-no-notebooks/blob/master/digit_recognizer.ipynb\" target=\"_parent\"><img src=\"https://colab.research.google.com/assets/colab-badge.svg\" alt=\"Open In Colab\"/></a>"
      ]
    },
    {
      "cell_type": "markdown",
      "metadata": {
        "id": "Du1cGqxRlHvj",
        "colab_type": "text"
      },
      "source": [
        "# Digit Recognizer\n",
        "Learn computer vision fundamentals with the famous MNIST data. This is beginner competition in [Kaggle](https://www.kaggle.com/c/digit-recognizer). "
      ]
    },
    {
      "cell_type": "markdown",
      "metadata": {
        "id": "dYbqDIrAlNaW",
        "colab_type": "text"
      },
      "source": [
        "# Get the data\n",
        "Download dataset from Kaggle."
      ]
    },
    {
      "cell_type": "code",
      "metadata": {
        "id": "srwCsRVMlD-Y",
        "colab_type": "code",
        "colab": {}
      },
      "source": [
        "# config environment\n",
        "import os\n",
        "os.environ['KAGGLE_CONFIG_DIR'] = \"/content/drive/My Drive/Kaggle\""
      ],
      "execution_count": null,
      "outputs": []
    },
    {
      "cell_type": "code",
      "metadata": {
        "id": "aQxxoGeRlTO2",
        "colab_type": "code",
        "colab": {
          "base_uri": "https://localhost:8080/",
          "height": 34
        },
        "outputId": "85bda1aa-1354-4a86-f5ff-16203e07bbf8"
      },
      "source": [
        "%cd /content/drive/My Drive/Kaggle/digit"
      ],
      "execution_count": 1,
      "outputs": [
        {
          "output_type": "stream",
          "text": [
            "/content/drive/My Drive/Kaggle/digit\n"
          ],
          "name": "stdout"
        }
      ]
    },
    {
      "cell_type": "code",
      "metadata": {
        "id": "X7BGAKrOlTsg",
        "colab_type": "code",
        "colab": {
          "base_uri": "https://localhost:8080/",
          "height": 211
        },
        "outputId": "b9024676-8646-466c-c325-196f6e817e20"
      },
      "source": [
        "!kaggle competitions download -c digit-recognizer"
      ],
      "execution_count": null,
      "outputs": [
        {
          "output_type": "stream",
          "text": [
            "Warning: Looks like you're using an outdated API Version, please consider updating (server 1.5.6 / client 1.5.4)\n",
            "Downloading train.csv.zip to /content/drive/My Drive/Kaggle/digit\n",
            "\r  0% 0.00/9.16M [00:00<?, ?B/s]\r 55% 5.00M/9.16M [00:00<00:00, 44.2MB/s]\n",
            "\r100% 9.16M/9.16M [00:00<00:00, 58.6MB/s]\n",
            "Downloading sample_submission.csv to /content/drive/My Drive/Kaggle/digit\n",
            "\r  0% 0.00/235k [00:00<?, ?B/s]\n",
            "\r100% 235k/235k [00:00<00:00, 33.3MB/s]\n",
            "Downloading test.csv.zip to /content/drive/My Drive/Kaggle/digit\n",
            "\r  0% 0.00/6.09M [00:00<?, ?B/s]\r 82% 5.00M/6.09M [00:00<00:00, 49.8MB/s]\n",
            "\r100% 6.09M/6.09M [00:00<00:00, 55.9MB/s]\n"
          ],
          "name": "stdout"
        }
      ]
    },
    {
      "cell_type": "code",
      "metadata": {
        "id": "5cGq2ZD8lxpz",
        "colab_type": "code",
        "colab": {
          "base_uri": "https://localhost:8080/",
          "height": 139
        },
        "outputId": "85e02b89-3cc2-4ede-a511-67c4853b7f2c"
      },
      "source": [
        "#unzipping the zip files and deleting the zip files\n",
        "!unzip \\*.zip  && rm *.zip"
      ],
      "execution_count": null,
      "outputs": [
        {
          "output_type": "stream",
          "text": [
            "Archive:  train.csv.zip\n",
            "  inflating: train.csv               \n",
            "\n",
            "Archive:  test.csv.zip\n",
            "  inflating: test.csv                \n",
            "\n",
            "2 archives were successfully processed.\n"
          ],
          "name": "stdout"
        }
      ]
    },
    {
      "cell_type": "markdown",
      "metadata": {
        "id": "3r_zPstbmACR",
        "colab_type": "text"
      },
      "source": [
        "# Prepare a Dataset\n",
        "มาดูข้อมูลกันหน่อย ว่าหน้าตาเป็นอย่างไร"
      ]
    },
    {
      "cell_type": "code",
      "metadata": {
        "id": "3j9kNdJTl3MM",
        "colab_type": "code",
        "colab": {}
      },
      "source": [
        "# read dataset as Pandas dataframe\n",
        "import pandas as pd\n",
        "\n",
        "train_data = pd.read_csv(\"train.csv\")"
      ],
      "execution_count": 2,
      "outputs": []
    },
    {
      "cell_type": "code",
      "metadata": {
        "id": "e7kD8ersmjUd",
        "colab_type": "code",
        "colab": {
          "base_uri": "https://localhost:8080/",
          "height": 256
        },
        "outputId": "c1e9b1e9-bd68-42e0-a0cd-04a3a07c8e9f"
      },
      "source": [
        "train_data.head()"
      ],
      "execution_count": 3,
      "outputs": [
        {
          "output_type": "execute_result",
          "data": {
            "text/html": [
              "<div>\n",
              "<style scoped>\n",
              "    .dataframe tbody tr th:only-of-type {\n",
              "        vertical-align: middle;\n",
              "    }\n",
              "\n",
              "    .dataframe tbody tr th {\n",
              "        vertical-align: top;\n",
              "    }\n",
              "\n",
              "    .dataframe thead th {\n",
              "        text-align: right;\n",
              "    }\n",
              "</style>\n",
              "<table border=\"1\" class=\"dataframe\">\n",
              "  <thead>\n",
              "    <tr style=\"text-align: right;\">\n",
              "      <th></th>\n",
              "      <th>label</th>\n",
              "      <th>pixel0</th>\n",
              "      <th>pixel1</th>\n",
              "      <th>pixel2</th>\n",
              "      <th>pixel3</th>\n",
              "      <th>pixel4</th>\n",
              "      <th>pixel5</th>\n",
              "      <th>pixel6</th>\n",
              "      <th>pixel7</th>\n",
              "      <th>pixel8</th>\n",
              "      <th>pixel9</th>\n",
              "      <th>pixel10</th>\n",
              "      <th>pixel11</th>\n",
              "      <th>pixel12</th>\n",
              "      <th>pixel13</th>\n",
              "      <th>pixel14</th>\n",
              "      <th>pixel15</th>\n",
              "      <th>pixel16</th>\n",
              "      <th>pixel17</th>\n",
              "      <th>pixel18</th>\n",
              "      <th>pixel19</th>\n",
              "      <th>pixel20</th>\n",
              "      <th>pixel21</th>\n",
              "      <th>pixel22</th>\n",
              "      <th>pixel23</th>\n",
              "      <th>pixel24</th>\n",
              "      <th>pixel25</th>\n",
              "      <th>pixel26</th>\n",
              "      <th>pixel27</th>\n",
              "      <th>pixel28</th>\n",
              "      <th>pixel29</th>\n",
              "      <th>pixel30</th>\n",
              "      <th>pixel31</th>\n",
              "      <th>pixel32</th>\n",
              "      <th>pixel33</th>\n",
              "      <th>pixel34</th>\n",
              "      <th>pixel35</th>\n",
              "      <th>pixel36</th>\n",
              "      <th>pixel37</th>\n",
              "      <th>pixel38</th>\n",
              "      <th>...</th>\n",
              "      <th>pixel744</th>\n",
              "      <th>pixel745</th>\n",
              "      <th>pixel746</th>\n",
              "      <th>pixel747</th>\n",
              "      <th>pixel748</th>\n",
              "      <th>pixel749</th>\n",
              "      <th>pixel750</th>\n",
              "      <th>pixel751</th>\n",
              "      <th>pixel752</th>\n",
              "      <th>pixel753</th>\n",
              "      <th>pixel754</th>\n",
              "      <th>pixel755</th>\n",
              "      <th>pixel756</th>\n",
              "      <th>pixel757</th>\n",
              "      <th>pixel758</th>\n",
              "      <th>pixel759</th>\n",
              "      <th>pixel760</th>\n",
              "      <th>pixel761</th>\n",
              "      <th>pixel762</th>\n",
              "      <th>pixel763</th>\n",
              "      <th>pixel764</th>\n",
              "      <th>pixel765</th>\n",
              "      <th>pixel766</th>\n",
              "      <th>pixel767</th>\n",
              "      <th>pixel768</th>\n",
              "      <th>pixel769</th>\n",
              "      <th>pixel770</th>\n",
              "      <th>pixel771</th>\n",
              "      <th>pixel772</th>\n",
              "      <th>pixel773</th>\n",
              "      <th>pixel774</th>\n",
              "      <th>pixel775</th>\n",
              "      <th>pixel776</th>\n",
              "      <th>pixel777</th>\n",
              "      <th>pixel778</th>\n",
              "      <th>pixel779</th>\n",
              "      <th>pixel780</th>\n",
              "      <th>pixel781</th>\n",
              "      <th>pixel782</th>\n",
              "      <th>pixel783</th>\n",
              "    </tr>\n",
              "  </thead>\n",
              "  <tbody>\n",
              "    <tr>\n",
              "      <th>0</th>\n",
              "      <td>1</td>\n",
              "      <td>0</td>\n",
              "      <td>0</td>\n",
              "      <td>0</td>\n",
              "      <td>0</td>\n",
              "      <td>0</td>\n",
              "      <td>0</td>\n",
              "      <td>0</td>\n",
              "      <td>0</td>\n",
              "      <td>0</td>\n",
              "      <td>0</td>\n",
              "      <td>0</td>\n",
              "      <td>0</td>\n",
              "      <td>0</td>\n",
              "      <td>0</td>\n",
              "      <td>0</td>\n",
              "      <td>0</td>\n",
              "      <td>0</td>\n",
              "      <td>0</td>\n",
              "      <td>0</td>\n",
              "      <td>0</td>\n",
              "      <td>0</td>\n",
              "      <td>0</td>\n",
              "      <td>0</td>\n",
              "      <td>0</td>\n",
              "      <td>0</td>\n",
              "      <td>0</td>\n",
              "      <td>0</td>\n",
              "      <td>0</td>\n",
              "      <td>0</td>\n",
              "      <td>0</td>\n",
              "      <td>0</td>\n",
              "      <td>0</td>\n",
              "      <td>0</td>\n",
              "      <td>0</td>\n",
              "      <td>0</td>\n",
              "      <td>0</td>\n",
              "      <td>0</td>\n",
              "      <td>0</td>\n",
              "      <td>0</td>\n",
              "      <td>...</td>\n",
              "      <td>0</td>\n",
              "      <td>0</td>\n",
              "      <td>0</td>\n",
              "      <td>0</td>\n",
              "      <td>0</td>\n",
              "      <td>0</td>\n",
              "      <td>0</td>\n",
              "      <td>0</td>\n",
              "      <td>0</td>\n",
              "      <td>0</td>\n",
              "      <td>0</td>\n",
              "      <td>0</td>\n",
              "      <td>0</td>\n",
              "      <td>0</td>\n",
              "      <td>0</td>\n",
              "      <td>0</td>\n",
              "      <td>0</td>\n",
              "      <td>0</td>\n",
              "      <td>0</td>\n",
              "      <td>0</td>\n",
              "      <td>0</td>\n",
              "      <td>0</td>\n",
              "      <td>0</td>\n",
              "      <td>0</td>\n",
              "      <td>0</td>\n",
              "      <td>0</td>\n",
              "      <td>0</td>\n",
              "      <td>0</td>\n",
              "      <td>0</td>\n",
              "      <td>0</td>\n",
              "      <td>0</td>\n",
              "      <td>0</td>\n",
              "      <td>0</td>\n",
              "      <td>0</td>\n",
              "      <td>0</td>\n",
              "      <td>0</td>\n",
              "      <td>0</td>\n",
              "      <td>0</td>\n",
              "      <td>0</td>\n",
              "      <td>0</td>\n",
              "    </tr>\n",
              "    <tr>\n",
              "      <th>1</th>\n",
              "      <td>0</td>\n",
              "      <td>0</td>\n",
              "      <td>0</td>\n",
              "      <td>0</td>\n",
              "      <td>0</td>\n",
              "      <td>0</td>\n",
              "      <td>0</td>\n",
              "      <td>0</td>\n",
              "      <td>0</td>\n",
              "      <td>0</td>\n",
              "      <td>0</td>\n",
              "      <td>0</td>\n",
              "      <td>0</td>\n",
              "      <td>0</td>\n",
              "      <td>0</td>\n",
              "      <td>0</td>\n",
              "      <td>0</td>\n",
              "      <td>0</td>\n",
              "      <td>0</td>\n",
              "      <td>0</td>\n",
              "      <td>0</td>\n",
              "      <td>0</td>\n",
              "      <td>0</td>\n",
              "      <td>0</td>\n",
              "      <td>0</td>\n",
              "      <td>0</td>\n",
              "      <td>0</td>\n",
              "      <td>0</td>\n",
              "      <td>0</td>\n",
              "      <td>0</td>\n",
              "      <td>0</td>\n",
              "      <td>0</td>\n",
              "      <td>0</td>\n",
              "      <td>0</td>\n",
              "      <td>0</td>\n",
              "      <td>0</td>\n",
              "      <td>0</td>\n",
              "      <td>0</td>\n",
              "      <td>0</td>\n",
              "      <td>0</td>\n",
              "      <td>...</td>\n",
              "      <td>0</td>\n",
              "      <td>0</td>\n",
              "      <td>0</td>\n",
              "      <td>0</td>\n",
              "      <td>0</td>\n",
              "      <td>0</td>\n",
              "      <td>0</td>\n",
              "      <td>0</td>\n",
              "      <td>0</td>\n",
              "      <td>0</td>\n",
              "      <td>0</td>\n",
              "      <td>0</td>\n",
              "      <td>0</td>\n",
              "      <td>0</td>\n",
              "      <td>0</td>\n",
              "      <td>0</td>\n",
              "      <td>0</td>\n",
              "      <td>0</td>\n",
              "      <td>0</td>\n",
              "      <td>0</td>\n",
              "      <td>0</td>\n",
              "      <td>0</td>\n",
              "      <td>0</td>\n",
              "      <td>0</td>\n",
              "      <td>0</td>\n",
              "      <td>0</td>\n",
              "      <td>0</td>\n",
              "      <td>0</td>\n",
              "      <td>0</td>\n",
              "      <td>0</td>\n",
              "      <td>0</td>\n",
              "      <td>0</td>\n",
              "      <td>0</td>\n",
              "      <td>0</td>\n",
              "      <td>0</td>\n",
              "      <td>0</td>\n",
              "      <td>0</td>\n",
              "      <td>0</td>\n",
              "      <td>0</td>\n",
              "      <td>0</td>\n",
              "    </tr>\n",
              "    <tr>\n",
              "      <th>2</th>\n",
              "      <td>1</td>\n",
              "      <td>0</td>\n",
              "      <td>0</td>\n",
              "      <td>0</td>\n",
              "      <td>0</td>\n",
              "      <td>0</td>\n",
              "      <td>0</td>\n",
              "      <td>0</td>\n",
              "      <td>0</td>\n",
              "      <td>0</td>\n",
              "      <td>0</td>\n",
              "      <td>0</td>\n",
              "      <td>0</td>\n",
              "      <td>0</td>\n",
              "      <td>0</td>\n",
              "      <td>0</td>\n",
              "      <td>0</td>\n",
              "      <td>0</td>\n",
              "      <td>0</td>\n",
              "      <td>0</td>\n",
              "      <td>0</td>\n",
              "      <td>0</td>\n",
              "      <td>0</td>\n",
              "      <td>0</td>\n",
              "      <td>0</td>\n",
              "      <td>0</td>\n",
              "      <td>0</td>\n",
              "      <td>0</td>\n",
              "      <td>0</td>\n",
              "      <td>0</td>\n",
              "      <td>0</td>\n",
              "      <td>0</td>\n",
              "      <td>0</td>\n",
              "      <td>0</td>\n",
              "      <td>0</td>\n",
              "      <td>0</td>\n",
              "      <td>0</td>\n",
              "      <td>0</td>\n",
              "      <td>0</td>\n",
              "      <td>0</td>\n",
              "      <td>...</td>\n",
              "      <td>0</td>\n",
              "      <td>0</td>\n",
              "      <td>0</td>\n",
              "      <td>0</td>\n",
              "      <td>0</td>\n",
              "      <td>0</td>\n",
              "      <td>0</td>\n",
              "      <td>0</td>\n",
              "      <td>0</td>\n",
              "      <td>0</td>\n",
              "      <td>0</td>\n",
              "      <td>0</td>\n",
              "      <td>0</td>\n",
              "      <td>0</td>\n",
              "      <td>0</td>\n",
              "      <td>0</td>\n",
              "      <td>0</td>\n",
              "      <td>0</td>\n",
              "      <td>0</td>\n",
              "      <td>0</td>\n",
              "      <td>0</td>\n",
              "      <td>0</td>\n",
              "      <td>0</td>\n",
              "      <td>0</td>\n",
              "      <td>0</td>\n",
              "      <td>0</td>\n",
              "      <td>0</td>\n",
              "      <td>0</td>\n",
              "      <td>0</td>\n",
              "      <td>0</td>\n",
              "      <td>0</td>\n",
              "      <td>0</td>\n",
              "      <td>0</td>\n",
              "      <td>0</td>\n",
              "      <td>0</td>\n",
              "      <td>0</td>\n",
              "      <td>0</td>\n",
              "      <td>0</td>\n",
              "      <td>0</td>\n",
              "      <td>0</td>\n",
              "    </tr>\n",
              "    <tr>\n",
              "      <th>3</th>\n",
              "      <td>4</td>\n",
              "      <td>0</td>\n",
              "      <td>0</td>\n",
              "      <td>0</td>\n",
              "      <td>0</td>\n",
              "      <td>0</td>\n",
              "      <td>0</td>\n",
              "      <td>0</td>\n",
              "      <td>0</td>\n",
              "      <td>0</td>\n",
              "      <td>0</td>\n",
              "      <td>0</td>\n",
              "      <td>0</td>\n",
              "      <td>0</td>\n",
              "      <td>0</td>\n",
              "      <td>0</td>\n",
              "      <td>0</td>\n",
              "      <td>0</td>\n",
              "      <td>0</td>\n",
              "      <td>0</td>\n",
              "      <td>0</td>\n",
              "      <td>0</td>\n",
              "      <td>0</td>\n",
              "      <td>0</td>\n",
              "      <td>0</td>\n",
              "      <td>0</td>\n",
              "      <td>0</td>\n",
              "      <td>0</td>\n",
              "      <td>0</td>\n",
              "      <td>0</td>\n",
              "      <td>0</td>\n",
              "      <td>0</td>\n",
              "      <td>0</td>\n",
              "      <td>0</td>\n",
              "      <td>0</td>\n",
              "      <td>0</td>\n",
              "      <td>0</td>\n",
              "      <td>0</td>\n",
              "      <td>0</td>\n",
              "      <td>0</td>\n",
              "      <td>...</td>\n",
              "      <td>0</td>\n",
              "      <td>0</td>\n",
              "      <td>0</td>\n",
              "      <td>0</td>\n",
              "      <td>0</td>\n",
              "      <td>0</td>\n",
              "      <td>0</td>\n",
              "      <td>0</td>\n",
              "      <td>0</td>\n",
              "      <td>0</td>\n",
              "      <td>0</td>\n",
              "      <td>0</td>\n",
              "      <td>0</td>\n",
              "      <td>0</td>\n",
              "      <td>0</td>\n",
              "      <td>0</td>\n",
              "      <td>0</td>\n",
              "      <td>0</td>\n",
              "      <td>0</td>\n",
              "      <td>0</td>\n",
              "      <td>0</td>\n",
              "      <td>0</td>\n",
              "      <td>0</td>\n",
              "      <td>0</td>\n",
              "      <td>0</td>\n",
              "      <td>0</td>\n",
              "      <td>0</td>\n",
              "      <td>0</td>\n",
              "      <td>0</td>\n",
              "      <td>0</td>\n",
              "      <td>0</td>\n",
              "      <td>0</td>\n",
              "      <td>0</td>\n",
              "      <td>0</td>\n",
              "      <td>0</td>\n",
              "      <td>0</td>\n",
              "      <td>0</td>\n",
              "      <td>0</td>\n",
              "      <td>0</td>\n",
              "      <td>0</td>\n",
              "    </tr>\n",
              "    <tr>\n",
              "      <th>4</th>\n",
              "      <td>0</td>\n",
              "      <td>0</td>\n",
              "      <td>0</td>\n",
              "      <td>0</td>\n",
              "      <td>0</td>\n",
              "      <td>0</td>\n",
              "      <td>0</td>\n",
              "      <td>0</td>\n",
              "      <td>0</td>\n",
              "      <td>0</td>\n",
              "      <td>0</td>\n",
              "      <td>0</td>\n",
              "      <td>0</td>\n",
              "      <td>0</td>\n",
              "      <td>0</td>\n",
              "      <td>0</td>\n",
              "      <td>0</td>\n",
              "      <td>0</td>\n",
              "      <td>0</td>\n",
              "      <td>0</td>\n",
              "      <td>0</td>\n",
              "      <td>0</td>\n",
              "      <td>0</td>\n",
              "      <td>0</td>\n",
              "      <td>0</td>\n",
              "      <td>0</td>\n",
              "      <td>0</td>\n",
              "      <td>0</td>\n",
              "      <td>0</td>\n",
              "      <td>0</td>\n",
              "      <td>0</td>\n",
              "      <td>0</td>\n",
              "      <td>0</td>\n",
              "      <td>0</td>\n",
              "      <td>0</td>\n",
              "      <td>0</td>\n",
              "      <td>0</td>\n",
              "      <td>0</td>\n",
              "      <td>0</td>\n",
              "      <td>0</td>\n",
              "      <td>...</td>\n",
              "      <td>0</td>\n",
              "      <td>0</td>\n",
              "      <td>0</td>\n",
              "      <td>0</td>\n",
              "      <td>0</td>\n",
              "      <td>0</td>\n",
              "      <td>0</td>\n",
              "      <td>0</td>\n",
              "      <td>0</td>\n",
              "      <td>0</td>\n",
              "      <td>0</td>\n",
              "      <td>0</td>\n",
              "      <td>0</td>\n",
              "      <td>0</td>\n",
              "      <td>0</td>\n",
              "      <td>0</td>\n",
              "      <td>0</td>\n",
              "      <td>0</td>\n",
              "      <td>0</td>\n",
              "      <td>0</td>\n",
              "      <td>0</td>\n",
              "      <td>0</td>\n",
              "      <td>0</td>\n",
              "      <td>0</td>\n",
              "      <td>0</td>\n",
              "      <td>0</td>\n",
              "      <td>0</td>\n",
              "      <td>0</td>\n",
              "      <td>0</td>\n",
              "      <td>0</td>\n",
              "      <td>0</td>\n",
              "      <td>0</td>\n",
              "      <td>0</td>\n",
              "      <td>0</td>\n",
              "      <td>0</td>\n",
              "      <td>0</td>\n",
              "      <td>0</td>\n",
              "      <td>0</td>\n",
              "      <td>0</td>\n",
              "      <td>0</td>\n",
              "    </tr>\n",
              "  </tbody>\n",
              "</table>\n",
              "<p>5 rows × 785 columns</p>\n",
              "</div>"
            ],
            "text/plain": [
              "   label  pixel0  pixel1  pixel2  ...  pixel780  pixel781  pixel782  pixel783\n",
              "0      1       0       0       0  ...         0         0         0         0\n",
              "1      0       0       0       0  ...         0         0         0         0\n",
              "2      1       0       0       0  ...         0         0         0         0\n",
              "3      4       0       0       0  ...         0         0         0         0\n",
              "4      0       0       0       0  ...         0         0         0         0\n",
              "\n",
              "[5 rows x 785 columns]"
            ]
          },
          "metadata": {
            "tags": []
          },
          "execution_count": 3
        }
      ]
    },
    {
      "cell_type": "code",
      "metadata": {
        "id": "Vfh7SsVJm-g_",
        "colab_type": "code",
        "colab": {}
      },
      "source": [
        "# seperate label from image matrix\n",
        "def extract_data(df):\n",
        "  y = df['label'].values\n",
        "  X = df.loc[:, df.columns != 'label'].values\n",
        "  return X,y\n",
        "\n",
        "X,y = extract_data(train_data)"
      ],
      "execution_count": 4,
      "outputs": []
    },
    {
      "cell_type": "code",
      "metadata": {
        "id": "8PbGb87HsxJl",
        "colab_type": "code",
        "colab": {
          "base_uri": "https://localhost:8080/",
          "height": 34
        },
        "outputId": "dda336e0-8ac4-475f-b0a8-0186fee821c0"
      },
      "source": [
        "# reshape \n",
        "import numpy as np\n",
        "\n",
        "X = np.reshape(X, (42000,28,28,1))\n",
        "X.shape"
      ],
      "execution_count": 5,
      "outputs": [
        {
          "output_type": "execute_result",
          "data": {
            "text/plain": [
              "(42000, 28, 28, 1)"
            ]
          },
          "metadata": {
            "tags": []
          },
          "execution_count": 5
        }
      ]
    },
    {
      "cell_type": "code",
      "metadata": {
        "id": "oMLe859xobQg",
        "colab_type": "code",
        "colab": {}
      },
      "source": [
        "# split data into train and test\n",
        "from sklearn.model_selection import train_test_split\n",
        "\n",
        "X_train, X_test, y_train, y_test = train_test_split(X, y, test_size=0.33)"
      ],
      "execution_count": 6,
      "outputs": []
    },
    {
      "cell_type": "code",
      "metadata": {
        "id": "x5t7ktcnmEKt",
        "colab_type": "code",
        "colab": {
          "base_uri": "https://localhost:8080/",
          "height": 52
        },
        "outputId": "24a8f6d5-de84-432d-faf6-9bd2d3888d56"
      },
      "source": [
        "# perform one hot encoding to y data\n",
        "import tensorflow as tf\n",
        "\n",
        "y_train = tf.one_hot(y_train,10)\n",
        "y_test = tf.one_hot(y_test,10)\n",
        "\n",
        "print(y_train.shape)\n",
        "print(y_test.shape)"
      ],
      "execution_count": 7,
      "outputs": [
        {
          "output_type": "stream",
          "text": [
            "(28140, 10)\n",
            "(13860, 10)\n"
          ],
          "name": "stdout"
        }
      ]
    },
    {
      "cell_type": "code",
      "metadata": {
        "id": "_SXyISausQqk",
        "colab_type": "code",
        "colab": {
          "base_uri": "https://localhost:8080/",
          "height": 69
        },
        "outputId": "52a123ad-ea59-43b4-ab10-e62ca0b9cc31"
      },
      "source": [
        "print(X_train[0].shape)\n",
        "print(X_test.shape)\n",
        "print(y_test.shape)"
      ],
      "execution_count": 10,
      "outputs": [
        {
          "output_type": "stream",
          "text": [
            "(28, 28, 1)\n",
            "(13860, 28, 28, 1)\n",
            "(13860, 10)\n"
          ],
          "name": "stdout"
        }
      ]
    },
    {
      "cell_type": "markdown",
      "metadata": {
        "id": "cM5jsSopuwoY",
        "colab_type": "text"
      },
      "source": [
        "# Model\n",
        "Let's create a Deep Learning model by using Keras"
      ]
    },
    {
      "cell_type": "code",
      "metadata": {
        "id": "RWpjcYT_sHZt",
        "colab_type": "code",
        "colab": {}
      },
      "source": [
        "# define our model\n",
        "import tensorflow as tf\n",
        "\n",
        "model = tf.keras.models.Sequential([\n",
        "    tf.keras.layers.Conv2D(16, (3,3), activation='relu', input_shape=(28, 28, 1)),\n",
        "    tf.keras.layers.MaxPooling2D(2,2),\n",
        "    tf.keras.layers.Conv2D(32, (3,3), activation='relu'),\n",
        "    tf.keras.layers.MaxPooling2D(2,2), \n",
        "    tf.keras.layers.Conv2D(64, (3,3), activation='relu'), \n",
        "    tf.keras.layers.MaxPooling2D(2,2),\n",
        "\n",
        "    tf.keras.layers.Flatten(),\n",
        "    tf.keras.layers.Dense(512,activation='relu'),\n",
        "    tf.keras.layers.Dense(10,activation='softmax')\n",
        "])\n",
        "\n",
        "model.compile(optimizer='adam', loss='categorical_crossentropy', metrics=['acc'])"
      ],
      "execution_count": 12,
      "outputs": []
    },
    {
      "cell_type": "code",
      "metadata": {
        "id": "glnzqiTvzvmc",
        "colab_type": "code",
        "colab": {
          "base_uri": "https://localhost:8080/",
          "height": 469
        },
        "outputId": "afed88ea-8153-4961-b5b2-dc538a493c3e"
      },
      "source": [
        "model.summary()"
      ],
      "execution_count": 13,
      "outputs": [
        {
          "output_type": "stream",
          "text": [
            "Model: \"sequential\"\n",
            "_________________________________________________________________\n",
            "Layer (type)                 Output Shape              Param #   \n",
            "=================================================================\n",
            "conv2d (Conv2D)              (None, 26, 26, 16)        160       \n",
            "_________________________________________________________________\n",
            "max_pooling2d (MaxPooling2D) (None, 13, 13, 16)        0         \n",
            "_________________________________________________________________\n",
            "conv2d_1 (Conv2D)            (None, 11, 11, 32)        4640      \n",
            "_________________________________________________________________\n",
            "max_pooling2d_1 (MaxPooling2 (None, 5, 5, 32)          0         \n",
            "_________________________________________________________________\n",
            "conv2d_2 (Conv2D)            (None, 3, 3, 64)          18496     \n",
            "_________________________________________________________________\n",
            "max_pooling2d_2 (MaxPooling2 (None, 1, 1, 64)          0         \n",
            "_________________________________________________________________\n",
            "flatten (Flatten)            (None, 64)                0         \n",
            "_________________________________________________________________\n",
            "dense (Dense)                (None, 512)               33280     \n",
            "_________________________________________________________________\n",
            "dense_1 (Dense)              (None, 10)                5130      \n",
            "=================================================================\n",
            "Total params: 61,706\n",
            "Trainable params: 61,706\n",
            "Non-trainable params: 0\n",
            "_________________________________________________________________\n"
          ],
          "name": "stdout"
        }
      ]
    },
    {
      "cell_type": "code",
      "metadata": {
        "id": "FWqf1TCsLk_z",
        "colab_type": "code",
        "colab": {
          "base_uri": "https://localhost:8080/",
          "height": 1000
        },
        "outputId": "ace4bec5-7fd9-4fb5-c316-1bc1719c39fe"
      },
      "source": [
        "# let's fit our model\n",
        "\n",
        "history = model.fit(X_train,y_train ,epochs=100, validation_data=(X_test, y_test))"
      ],
      "execution_count": 14,
      "outputs": [
        {
          "output_type": "stream",
          "text": [
            "Epoch 1/100\n",
            "880/880 [==============================] - 20s 23ms/step - loss: 0.3948 - acc: 0.8942 - val_loss: 0.1800 - val_acc: 0.9442\n",
            "Epoch 2/100\n",
            "880/880 [==============================] - 19s 22ms/step - loss: 0.1271 - acc: 0.9613 - val_loss: 0.1568 - val_acc: 0.9516\n",
            "Epoch 3/100\n",
            "880/880 [==============================] - 19s 22ms/step - loss: 0.0890 - acc: 0.9721 - val_loss: 0.1050 - val_acc: 0.9695\n",
            "Epoch 4/100\n",
            "880/880 [==============================] - 19s 22ms/step - loss: 0.0788 - acc: 0.9758 - val_loss: 0.1016 - val_acc: 0.9688\n",
            "Epoch 5/100\n",
            "880/880 [==============================] - 19s 21ms/step - loss: 0.0627 - acc: 0.9794 - val_loss: 0.1116 - val_acc: 0.9693\n",
            "Epoch 6/100\n",
            "880/880 [==============================] - 19s 21ms/step - loss: 0.0593 - acc: 0.9810 - val_loss: 0.1096 - val_acc: 0.9684\n",
            "Epoch 7/100\n",
            "880/880 [==============================] - 19s 22ms/step - loss: 0.0526 - acc: 0.9835 - val_loss: 0.0999 - val_acc: 0.9748\n",
            "Epoch 8/100\n",
            "880/880 [==============================] - 20s 23ms/step - loss: 0.0508 - acc: 0.9838 - val_loss: 0.1060 - val_acc: 0.9714\n",
            "Epoch 9/100\n",
            "880/880 [==============================] - 19s 22ms/step - loss: 0.0450 - acc: 0.9858 - val_loss: 0.1115 - val_acc: 0.9734\n",
            "Epoch 10/100\n",
            "880/880 [==============================] - 19s 22ms/step - loss: 0.0413 - acc: 0.9872 - val_loss: 0.1043 - val_acc: 0.9757\n",
            "Epoch 11/100\n",
            "880/880 [==============================] - 21s 23ms/step - loss: 0.0361 - acc: 0.9889 - val_loss: 0.1161 - val_acc: 0.9748\n",
            "Epoch 12/100\n",
            "880/880 [==============================] - 20s 22ms/step - loss: 0.0400 - acc: 0.9879 - val_loss: 0.1078 - val_acc: 0.9755\n",
            "Epoch 13/100\n",
            "880/880 [==============================] - 19s 22ms/step - loss: 0.0314 - acc: 0.9910 - val_loss: 0.1110 - val_acc: 0.9774\n",
            "Epoch 14/100\n",
            "880/880 [==============================] - 20s 23ms/step - loss: 0.0339 - acc: 0.9903 - val_loss: 0.1243 - val_acc: 0.9781\n",
            "Epoch 15/100\n",
            "880/880 [==============================] - 21s 24ms/step - loss: 0.0293 - acc: 0.9909 - val_loss: 0.1422 - val_acc: 0.9725\n",
            "Epoch 16/100\n",
            "880/880 [==============================] - 22s 25ms/step - loss: 0.0312 - acc: 0.9910 - val_loss: 0.1541 - val_acc: 0.9689\n",
            "Epoch 17/100\n",
            "880/880 [==============================] - 20s 23ms/step - loss: 0.0336 - acc: 0.9904 - val_loss: 0.1182 - val_acc: 0.9784\n",
            "Epoch 18/100\n",
            "880/880 [==============================] - 20s 23ms/step - loss: 0.0250 - acc: 0.9930 - val_loss: 0.1457 - val_acc: 0.9759\n",
            "Epoch 19/100\n",
            "880/880 [==============================] - 19s 22ms/step - loss: 0.0290 - acc: 0.9923 - val_loss: 0.1797 - val_acc: 0.9649\n",
            "Epoch 20/100\n",
            "880/880 [==============================] - 21s 24ms/step - loss: 0.0289 - acc: 0.9913 - val_loss: 0.1290 - val_acc: 0.9773\n",
            "Epoch 21/100\n",
            "880/880 [==============================] - 20s 23ms/step - loss: 0.0260 - acc: 0.9929 - val_loss: 0.1256 - val_acc: 0.9789\n",
            "Epoch 22/100\n",
            "880/880 [==============================] - 22s 25ms/step - loss: 0.0205 - acc: 0.9945 - val_loss: 0.1498 - val_acc: 0.9731\n",
            "Epoch 23/100\n",
            "880/880 [==============================] - 29s 33ms/step - loss: 0.0254 - acc: 0.9937 - val_loss: 0.1312 - val_acc: 0.9772\n",
            "Epoch 24/100\n",
            "880/880 [==============================] - 21s 24ms/step - loss: 0.0243 - acc: 0.9934 - val_loss: 0.1549 - val_acc: 0.9776\n",
            "Epoch 25/100\n",
            "880/880 [==============================] - 20s 22ms/step - loss: 0.0288 - acc: 0.9932 - val_loss: 0.1473 - val_acc: 0.9778\n",
            "Epoch 26/100\n",
            "880/880 [==============================] - 20s 22ms/step - loss: 0.0196 - acc: 0.9946 - val_loss: 0.1458 - val_acc: 0.9768\n",
            "Epoch 27/100\n",
            "880/880 [==============================] - 20s 23ms/step - loss: 0.0196 - acc: 0.9943 - val_loss: 0.1504 - val_acc: 0.9775\n",
            "Epoch 28/100\n",
            "880/880 [==============================] - 20s 22ms/step - loss: 0.0309 - acc: 0.9927 - val_loss: 0.1451 - val_acc: 0.9767\n",
            "Epoch 29/100\n",
            "880/880 [==============================] - 19s 22ms/step - loss: 0.0171 - acc: 0.9959 - val_loss: 0.1370 - val_acc: 0.9748\n",
            "Epoch 30/100\n",
            "880/880 [==============================] - 19s 22ms/step - loss: 0.0213 - acc: 0.9944 - val_loss: 0.1703 - val_acc: 0.9775\n",
            "Epoch 31/100\n",
            "880/880 [==============================] - 18s 21ms/step - loss: 0.0284 - acc: 0.9930 - val_loss: 0.1829 - val_acc: 0.9766\n",
            "Epoch 32/100\n",
            "880/880 [==============================] - 18s 21ms/step - loss: 0.0264 - acc: 0.9937 - val_loss: 0.1598 - val_acc: 0.9785\n",
            "Epoch 33/100\n",
            "880/880 [==============================] - 19s 21ms/step - loss: 0.0155 - acc: 0.9959 - val_loss: 0.2055 - val_acc: 0.9744\n",
            "Epoch 34/100\n",
            "880/880 [==============================] - 19s 22ms/step - loss: 0.0196 - acc: 0.9956 - val_loss: 0.2141 - val_acc: 0.9757\n",
            "Epoch 35/100\n",
            "880/880 [==============================] - 19s 21ms/step - loss: 0.0247 - acc: 0.9946 - val_loss: 0.2050 - val_acc: 0.9746\n",
            "Epoch 36/100\n",
            "880/880 [==============================] - 19s 22ms/step - loss: 0.0265 - acc: 0.9944 - val_loss: 0.2225 - val_acc: 0.9761\n",
            "Epoch 37/100\n",
            "880/880 [==============================] - 19s 21ms/step - loss: 0.0281 - acc: 0.9942 - val_loss: 0.2256 - val_acc: 0.9790\n",
            "Epoch 38/100\n",
            "880/880 [==============================] - 19s 21ms/step - loss: 0.0255 - acc: 0.9956 - val_loss: 0.2074 - val_acc: 0.9743\n",
            "Epoch 39/100\n",
            "880/880 [==============================] - 19s 22ms/step - loss: 0.0225 - acc: 0.9954 - val_loss: 0.1860 - val_acc: 0.9766\n",
            "Epoch 40/100\n",
            "880/880 [==============================] - 19s 21ms/step - loss: 0.0122 - acc: 0.9969 - val_loss: 0.2224 - val_acc: 0.9764\n",
            "Epoch 41/100\n",
            "880/880 [==============================] - 18s 21ms/step - loss: 0.0240 - acc: 0.9947 - val_loss: 0.1825 - val_acc: 0.9784\n",
            "Epoch 42/100\n",
            "880/880 [==============================] - 18s 21ms/step - loss: 0.0243 - acc: 0.9946 - val_loss: 0.2494 - val_acc: 0.9756\n",
            "Epoch 43/100\n",
            "880/880 [==============================] - 18s 21ms/step - loss: 0.0216 - acc: 0.9957 - val_loss: 0.2689 - val_acc: 0.9757\n",
            "Epoch 44/100\n",
            "880/880 [==============================] - 19s 22ms/step - loss: 0.0210 - acc: 0.9955 - val_loss: 0.2242 - val_acc: 0.9781\n",
            "Epoch 45/100\n",
            "880/880 [==============================] - 20s 23ms/step - loss: 0.0210 - acc: 0.9958 - val_loss: 0.2011 - val_acc: 0.9799\n",
            "Epoch 46/100\n",
            "880/880 [==============================] - 20s 23ms/step - loss: 0.0215 - acc: 0.9957 - val_loss: 0.2927 - val_acc: 0.9717\n",
            "Epoch 47/100\n",
            "880/880 [==============================] - 20s 23ms/step - loss: 0.0142 - acc: 0.9964 - val_loss: 0.1969 - val_acc: 0.9804\n",
            "Epoch 48/100\n",
            "880/880 [==============================] - 19s 22ms/step - loss: 0.0235 - acc: 0.9961 - val_loss: 0.2635 - val_acc: 0.9752\n",
            "Epoch 49/100\n",
            "880/880 [==============================] - 19s 22ms/step - loss: 0.0184 - acc: 0.9962 - val_loss: 0.2501 - val_acc: 0.9750\n",
            "Epoch 50/100\n",
            "880/880 [==============================] - 19s 21ms/step - loss: 0.0307 - acc: 0.9935 - val_loss: 0.2451 - val_acc: 0.9766\n",
            "Epoch 51/100\n",
            "880/880 [==============================] - 20s 22ms/step - loss: 0.0247 - acc: 0.9952 - val_loss: 0.2439 - val_acc: 0.9766\n",
            "Epoch 52/100\n",
            "880/880 [==============================] - 20s 23ms/step - loss: 0.0279 - acc: 0.9950 - val_loss: 0.2375 - val_acc: 0.9772\n",
            "Epoch 53/100\n",
            "880/880 [==============================] - 20s 23ms/step - loss: 0.0237 - acc: 0.9955 - val_loss: 0.2624 - val_acc: 0.9776\n",
            "Epoch 54/100\n",
            "880/880 [==============================] - 19s 22ms/step - loss: 0.0234 - acc: 0.9953 - val_loss: 0.2462 - val_acc: 0.9757\n",
            "Epoch 55/100\n",
            "880/880 [==============================] - 20s 22ms/step - loss: 0.0146 - acc: 0.9968 - val_loss: 0.2791 - val_acc: 0.9759\n",
            "Epoch 56/100\n",
            "880/880 [==============================] - 19s 22ms/step - loss: 0.0237 - acc: 0.9958 - val_loss: 0.3025 - val_acc: 0.9748\n",
            "Epoch 57/100\n",
            "880/880 [==============================] - 19s 21ms/step - loss: 0.0176 - acc: 0.9966 - val_loss: 0.2653 - val_acc: 0.9754\n",
            "Epoch 58/100\n",
            "880/880 [==============================] - 19s 22ms/step - loss: 0.0204 - acc: 0.9963 - val_loss: 0.3560 - val_acc: 0.9742\n",
            "Epoch 59/100\n",
            "880/880 [==============================] - 19s 21ms/step - loss: 0.0234 - acc: 0.9954 - val_loss: 0.3174 - val_acc: 0.9758\n",
            "Epoch 60/100\n",
            "880/880 [==============================] - 19s 21ms/step - loss: 0.0242 - acc: 0.9962 - val_loss: 0.3322 - val_acc: 0.9737\n",
            "Epoch 61/100\n",
            "880/880 [==============================] - 18s 21ms/step - loss: 0.0189 - acc: 0.9968 - val_loss: 0.3156 - val_acc: 0.9774\n",
            "Epoch 62/100\n",
            "880/880 [==============================] - 19s 22ms/step - loss: 0.0311 - acc: 0.9958 - val_loss: 0.2892 - val_acc: 0.9800\n",
            "Epoch 63/100\n",
            "880/880 [==============================] - 19s 22ms/step - loss: 0.0154 - acc: 0.9971 - val_loss: 0.2920 - val_acc: 0.9774\n",
            "Epoch 64/100\n",
            "880/880 [==============================] - 19s 21ms/step - loss: 0.0322 - acc: 0.9950 - val_loss: 0.3388 - val_acc: 0.9768\n",
            "Epoch 65/100\n",
            "880/880 [==============================] - 20s 22ms/step - loss: 0.0256 - acc: 0.9958 - val_loss: 0.3548 - val_acc: 0.9734\n",
            "Epoch 66/100\n",
            "880/880 [==============================] - 19s 21ms/step - loss: 0.0194 - acc: 0.9968 - val_loss: 0.3181 - val_acc: 0.9797\n",
            "Epoch 67/100\n",
            "880/880 [==============================] - 20s 23ms/step - loss: 0.0441 - acc: 0.9945 - val_loss: 0.2776 - val_acc: 0.9773\n",
            "Epoch 68/100\n",
            "880/880 [==============================] - 20s 23ms/step - loss: 0.0158 - acc: 0.9970 - val_loss: 0.3111 - val_acc: 0.9784\n",
            "Epoch 69/100\n",
            "880/880 [==============================] - 21s 24ms/step - loss: 0.0193 - acc: 0.9968 - val_loss: 0.5047 - val_acc: 0.9711\n",
            "Epoch 70/100\n",
            "880/880 [==============================] - 21s 23ms/step - loss: 0.0259 - acc: 0.9967 - val_loss: 0.3361 - val_acc: 0.9799\n",
            "Epoch 71/100\n",
            "880/880 [==============================] - 21s 24ms/step - loss: 0.0210 - acc: 0.9967 - val_loss: 0.3136 - val_acc: 0.9781\n",
            "Epoch 72/100\n",
            "880/880 [==============================] - 20s 23ms/step - loss: 0.0233 - acc: 0.9969 - val_loss: 0.3533 - val_acc: 0.9753\n",
            "Epoch 73/100\n",
            "880/880 [==============================] - 20s 23ms/step - loss: 0.0251 - acc: 0.9960 - val_loss: 0.4483 - val_acc: 0.9771\n",
            "Epoch 74/100\n",
            "880/880 [==============================] - 20s 23ms/step - loss: 0.0224 - acc: 0.9968 - val_loss: 0.3823 - val_acc: 0.9800\n",
            "Epoch 75/100\n",
            "880/880 [==============================] - 20s 23ms/step - loss: 0.0341 - acc: 0.9955 - val_loss: 0.4755 - val_acc: 0.9747\n",
            "Epoch 76/100\n",
            "880/880 [==============================] - 21s 23ms/step - loss: 0.0185 - acc: 0.9972 - val_loss: 0.5796 - val_acc: 0.9729\n",
            "Epoch 77/100\n",
            "880/880 [==============================] - 20s 23ms/step - loss: 0.0208 - acc: 0.9971 - val_loss: 0.4100 - val_acc: 0.9787\n",
            "Epoch 78/100\n",
            "880/880 [==============================] - 21s 24ms/step - loss: 0.0461 - acc: 0.9958 - val_loss: 0.3924 - val_acc: 0.9773\n",
            "Epoch 79/100\n",
            "880/880 [==============================] - 21s 23ms/step - loss: 0.0096 - acc: 0.9986 - val_loss: 0.3408 - val_acc: 0.9799\n",
            "Epoch 80/100\n",
            "880/880 [==============================] - 20s 23ms/step - loss: 0.0297 - acc: 0.9961 - val_loss: 0.3716 - val_acc: 0.9783\n",
            "Epoch 81/100\n",
            "880/880 [==============================] - 20s 23ms/step - loss: 0.0195 - acc: 0.9971 - val_loss: 0.3601 - val_acc: 0.9758\n",
            "Epoch 82/100\n",
            "880/880 [==============================] - 20s 23ms/step - loss: 0.0109 - acc: 0.9980 - val_loss: 0.3223 - val_acc: 0.9787\n",
            "Epoch 83/100\n",
            "880/880 [==============================] - 20s 23ms/step - loss: 0.0334 - acc: 0.9958 - val_loss: 0.4156 - val_acc: 0.9743\n",
            "Epoch 84/100\n",
            "880/880 [==============================] - 20s 23ms/step - loss: 0.0244 - acc: 0.9965 - val_loss: 0.3344 - val_acc: 0.9764\n",
            "Epoch 85/100\n",
            "880/880 [==============================] - 20s 23ms/step - loss: 0.0193 - acc: 0.9968 - val_loss: 0.4328 - val_acc: 0.9750\n",
            "Epoch 86/100\n",
            "880/880 [==============================] - 21s 24ms/step - loss: 0.0233 - acc: 0.9971 - val_loss: 0.5358 - val_acc: 0.9759\n",
            "Epoch 87/100\n",
            "880/880 [==============================] - 20s 23ms/step - loss: 0.0293 - acc: 0.9962 - val_loss: 0.5320 - val_acc: 0.9778\n",
            "Epoch 88/100\n",
            "880/880 [==============================] - 20s 23ms/step - loss: 0.0252 - acc: 0.9975 - val_loss: 0.4922 - val_acc: 0.9781\n",
            "Epoch 89/100\n",
            "880/880 [==============================] - 20s 23ms/step - loss: 0.0278 - acc: 0.9969 - val_loss: 0.4643 - val_acc: 0.9786\n",
            "Epoch 90/100\n",
            "880/880 [==============================] - 21s 23ms/step - loss: 0.0201 - acc: 0.9975 - val_loss: 0.5506 - val_acc: 0.9760\n",
            "Epoch 91/100\n",
            "880/880 [==============================] - 21s 23ms/step - loss: 0.0310 - acc: 0.9967 - val_loss: 0.4916 - val_acc: 0.9765\n",
            "Epoch 92/100\n",
            "880/880 [==============================] - 20s 23ms/step - loss: 0.0231 - acc: 0.9973 - val_loss: 0.4591 - val_acc: 0.9755\n",
            "Epoch 93/100\n",
            "880/880 [==============================] - 21s 24ms/step - loss: 0.0138 - acc: 0.9981 - val_loss: 0.4228 - val_acc: 0.9790\n",
            "Epoch 94/100\n",
            "880/880 [==============================] - 21s 23ms/step - loss: 0.0219 - acc: 0.9976 - val_loss: 0.5288 - val_acc: 0.9756\n",
            "Epoch 95/100\n",
            "880/880 [==============================] - 21s 23ms/step - loss: 0.0208 - acc: 0.9972 - val_loss: 0.4679 - val_acc: 0.9769\n",
            "Epoch 96/100\n",
            "880/880 [==============================] - 21s 23ms/step - loss: 0.0195 - acc: 0.9968 - val_loss: 0.7984 - val_acc: 0.9761\n",
            "Epoch 97/100\n",
            "880/880 [==============================] - 21s 23ms/step - loss: 0.0677 - acc: 0.9943 - val_loss: 0.5648 - val_acc: 0.9745\n",
            "Epoch 98/100\n",
            "880/880 [==============================] - 20s 23ms/step - loss: 0.0183 - acc: 0.9971 - val_loss: 0.4370 - val_acc: 0.9805\n",
            "Epoch 99/100\n",
            "880/880 [==============================] - 20s 23ms/step - loss: 0.0155 - acc: 0.9981 - val_loss: 0.4567 - val_acc: 0.9778\n",
            "Epoch 100/100\n",
            "880/880 [==============================] - 21s 23ms/step - loss: 0.0112 - acc: 0.9984 - val_loss: 0.4368 - val_acc: 0.9784\n"
          ],
          "name": "stdout"
        }
      ]
    },
    {
      "cell_type": "markdown",
      "metadata": {
        "id": "a3r76xIsEqHV",
        "colab_type": "text"
      },
      "source": [
        "# Evaluation\n",
        "Let's see our model works well on test data"
      ]
    },
    {
      "cell_type": "code",
      "metadata": {
        "id": "VqgRGiZECx_m",
        "colab_type": "code",
        "colab": {
          "base_uri": "https://localhost:8080/",
          "height": 573
        },
        "outputId": "e189336f-bac6-47e7-ecc9-5fba9512361c"
      },
      "source": [
        "# summarize history for accuracy\n",
        "plt.plot(history.history['acc'])\n",
        "plt.plot(history.history['val_acc'])\n",
        "plt.title('model accuracy')\n",
        "plt.ylabel('accuracy')\n",
        "plt.xlabel('epoch')\n",
        "plt.legend(['train', 'test'], loc='upper left')\n",
        "plt.show()\n",
        "# summarize history for loss\n",
        "plt.plot(history.history['loss'])\n",
        "plt.plot(history.history['val_loss'])\n",
        "plt.title('model loss')\n",
        "plt.ylabel('loss')\n",
        "plt.xlabel('epoch')\n",
        "plt.legend(['train', 'test'], loc='upper left')\n",
        "plt.show()"
      ],
      "execution_count": 15,
      "outputs": [
        {
          "output_type": "display_data",
          "data": {
            "image/png": "[encoded data removed]",
            "text/plain": [
              "<Figure size 432x288 with 1 Axes>"
            ]
          },
          "metadata": {
            "tags": [],
            "needs_background": "light"
          }
        },
        {
          "output_type": "display_data",
          "data": {
            "image/png": "[encoded data removed]",
            "text/plain": [
              "<Figure size 432x288 with 1 Axes>"
            ]
          },
          "metadata": {
            "tags": [],
            "needs_background": "light"
          }
        }
      ]
    },
    {
      "cell_type": "markdown",
      "metadata": {
        "id": "dPqWLDz7jQuO",
        "colab_type": "text"
      },
      "source": [
        "Let's validate with test.csv"
      ]
    },
    {
      "cell_type": "code",
      "metadata": {
        "id": "ddgV4Lq1Jb6D",
        "colab_type": "code",
        "colab": {
          "base_uri": "https://localhost:8080/",
          "height": 34
        },
        "outputId": "15594205-75f3-4129-e365-318b0f77bd23"
      },
      "source": [
        "# read a file\n",
        "\n",
        "validate_data = pd.read_csv(\"test.csv\")\n",
        "X_validate = validate_data.values\n",
        "X_validate = np.reshape(X_validate, (28000,28,28,1))\n",
        "\n",
        "#check shape\n",
        "X_validate.shape"
      ],
      "execution_count": 26,
      "outputs": [
        {
          "output_type": "execute_result",
          "data": {
            "text/plain": [
              "(28000, 28, 28, 1)"
            ]
          },
          "metadata": {
            "tags": []
          },
          "execution_count": 26
        }
      ]
    },
    {
      "cell_type": "code",
      "metadata": {
        "id": "C0rH_DKXt2Zq",
        "colab_type": "code",
        "colab": {
          "base_uri": "https://localhost:8080/",
          "height": 139
        },
        "outputId": "db25d849-c1c7-4819-a39a-03211719e0b1"
      },
      "source": [
        "result = model.predict(X_validate)\n",
        "result"
      ],
      "execution_count": 36,
      "outputs": [
        {
          "output_type": "execute_result",
          "data": {
            "text/plain": [
              "array([[0., 0., 1., ..., 0., 0., 0.],\n",
              "       [1., 0., 0., ..., 0., 0., 0.],\n",
              "       [0., 0., 0., ..., 0., 0., 1.],\n",
              "       ...,\n",
              "       [0., 0., 0., ..., 0., 0., 0.],\n",
              "       [0., 0., 0., ..., 0., 0., 1.],\n",
              "       [0., 0., 1., ..., 0., 0., 0.]], dtype=float32)"
            ]
          },
          "metadata": {
            "tags": []
          },
          "execution_count": 36
        }
      ]
    },
    {
      "cell_type": "code",
      "metadata": {
        "id": "ZHsUBMA_wEDC",
        "colab_type": "code",
        "colab": {
          "base_uri": "https://localhost:8080/",
          "height": 34
        },
        "outputId": "f3996d4a-6bd9-4c94-aeac-4bbeec84dcf9"
      },
      "source": [
        "# turn one hot to label\n",
        "result = tf.argmax(result,axis=1)\n",
        "result"
      ],
      "execution_count": 37,
      "outputs": [
        {
          "output_type": "execute_result",
          "data": {
            "text/plain": [
              "<tf.Tensor: shape=(28000,), dtype=int64, numpy=array([2, 0, 9, ..., 3, 9, 2])>"
            ]
          },
          "metadata": {
            "tags": []
          },
          "execution_count": 37
        }
      ]
    },
    {
      "cell_type": "code",
      "metadata": {
        "id": "mJNJVdXkyztV",
        "colab_type": "code",
        "colab": {
          "base_uri": "https://localhost:8080/",
          "height": 34
        },
        "outputId": "3dff23a2-3046-4ad5-9cdf-42e77757aefa"
      },
      "source": [
        "# turn tensor to numpy array\n",
        "result = result.numpy()\n",
        "result"
      ],
      "execution_count": 39,
      "outputs": [
        {
          "output_type": "execute_result",
          "data": {
            "text/plain": [
              "array([2, 0, 9, ..., 3, 9, 2])"
            ]
          },
          "metadata": {
            "tags": []
          },
          "execution_count": 39
        }
      ]
    },
    {
      "cell_type": "code",
      "metadata": {
        "id": "XH216m0qzBLO",
        "colab_type": "code",
        "colab": {
          "base_uri": "https://localhost:8080/",
          "height": 206
        },
        "outputId": "be3b7a46-9f66-4b1a-f912-d5332606b20d"
      },
      "source": [
        "# let's create new dataframe\n",
        "output = {'ImageId':[i for i in range(1,len(result)+1)],'Label':result}\n",
        "output_df = pd.DataFrame(output)\n",
        "output_df.head()"
      ],
      "execution_count": 48,
      "outputs": [
        {
          "output_type": "execute_result",
          "data": {
            "text/html": [
              "<div>\n",
              "<style scoped>\n",
              "    .dataframe tbody tr th:only-of-type {\n",
              "        vertical-align: middle;\n",
              "    }\n",
              "\n",
              "    .dataframe tbody tr th {\n",
              "        vertical-align: top;\n",
              "    }\n",
              "\n",
              "    .dataframe thead th {\n",
              "        text-align: right;\n",
              "    }\n",
              "</style>\n",
              "<table border=\"1\" class=\"dataframe\">\n",
              "  <thead>\n",
              "    <tr style=\"text-align: right;\">\n",
              "      <th></th>\n",
              "      <th>ImageId</th>\n",
              "      <th>Label</th>\n",
              "    </tr>\n",
              "  </thead>\n",
              "  <tbody>\n",
              "    <tr>\n",
              "      <th>0</th>\n",
              "      <td>1</td>\n",
              "      <td>2</td>\n",
              "    </tr>\n",
              "    <tr>\n",
              "      <th>1</th>\n",
              "      <td>2</td>\n",
              "      <td>0</td>\n",
              "    </tr>\n",
              "    <tr>\n",
              "      <th>2</th>\n",
              "      <td>3</td>\n",
              "      <td>9</td>\n",
              "    </tr>\n",
              "    <tr>\n",
              "      <th>3</th>\n",
              "      <td>4</td>\n",
              "      <td>9</td>\n",
              "    </tr>\n",
              "    <tr>\n",
              "      <th>4</th>\n",
              "      <td>5</td>\n",
              "      <td>3</td>\n",
              "    </tr>\n",
              "  </tbody>\n",
              "</table>\n",
              "</div>"
            ],
            "text/plain": [
              "   ImageId  Label\n",
              "0        1      2\n",
              "1        2      0\n",
              "2        3      9\n",
              "3        4      9\n",
              "4        5      3"
            ]
          },
          "metadata": {
            "tags": []
          },
          "execution_count": 48
        }
      ]
    },
    {
      "cell_type": "code",
      "metadata": {
        "id": "pJ0KOkPX5veu",
        "colab_type": "code",
        "colab": {}
      },
      "source": [
        "# write out to csv file\n",
        "output_df.to_csv('submission.csv')"
      ],
      "execution_count": 49,
      "outputs": []
    },
    {
      "cell_type": "code",
      "metadata": {
        "id": "Cgb3aOyM7r6d",
        "colab_type": "code",
        "colab": {}
      },
      "source": [
        ""
      ],
      "execution_count": null,
      "outputs": []
    }
  ]
}