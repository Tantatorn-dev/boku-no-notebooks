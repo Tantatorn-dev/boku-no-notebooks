{
  "nbformat": 4,
  "nbformat_minor": 0,
  "metadata": {
    "colab": {
      "name": "prob_stat_tools.ipynb",
      "provenance": [],
      "collapsed_sections": [],
      "authorship_tag": "ABX9TyPWvzC3xomdxRDU81Xd6lsm",
      "include_colab_link": true
    },
    "kernelspec": {
      "name": "python3",
      "display_name": "Python 3"
    }
  },
  "cells": [
    {
      "cell_type": "markdown",
      "metadata": {
        "id": "view-in-github",
        "colab_type": "text"
      },
      "source": [
        "<a href=\"https://colab.research.google.com/github/Tantatorn-dev/boku-no-notebooks/blob/master/prob_stat_tools.ipynb\" target=\"_parent\"><img src=\"https://colab.research.google.com/assets/colab-badge.svg\" alt=\"Open In Colab\"/></a>"
      ]
    },
    {
      "cell_type": "code",
      "metadata": {
        "id": "PtbnJscivlRr",
        "colab_type": "code",
        "colab": {}
      },
      "source": [
        "# import necessary stuffs\n",
        "import numpy as np"
      ],
      "execution_count": 0,
      "outputs": []
    },
    {
      "cell_type": "markdown",
      "metadata": {
        "id": "SQ7GrZKLtllD",
        "colab_type": "text"
      },
      "source": [
        "# Normal Distribution\n",
        "เตรียมเครื่องมือไว้ให้ดังนี้\n",
        "*   คำนวณ z-score\n",
        "*   หาความน่าจะเป็นจาก z-score นั่นแหละ\n",
        "\n"
      ]
    },
    {
      "cell_type": "code",
      "metadata": {
        "id": "roEqXwjJxrJm",
        "colab_type": "code",
        "outputId": "3b03eaca-5dd8-4add-e3d8-607183f7be39",
        "colab": {
          "base_uri": "https://localhost:8080/",
          "height": 34
        }
      },
      "source": [
        "# compute z-score manually\n",
        "def find_z_score(x,mu,delta):\n",
        "  return (x-mu)/delta\n",
        "\n",
        "find_z_score(x=11.8,mu=12,delta=.07)"
      ],
      "execution_count": 2,
      "outputs": [
        {
          "output_type": "execute_result",
          "data": {
            "text/plain": [
              "-2.8571428571428465"
            ]
          },
          "metadata": {
            "tags": []
          },
          "execution_count": 2
        }
      ]
    },
    {
      "cell_type": "code",
      "metadata": {
        "id": "LLVUKrHSu4hP",
        "colab_type": "code",
        "outputId": "7bc5219c-6e54-4374-f2aa-05cbca7f5a5f",
        "colab": {
          "base_uri": "https://localhost:8080/",
          "height": 52
        }
      },
      "source": [
        "# compute z-score for any dataset\n",
        "from scipy.stats import zscore\n",
        "\n",
        "data = np.array([10,20,20,30,30,30,40,50,212])\n",
        "zscore(data)"
      ],
      "execution_count": 3,
      "outputs": [
        {
          "output_type": "execute_result",
          "data": {
            "text/plain": [
              "array([-0.66708794, -0.49652568, -0.49652568, -0.32596343, -0.32596343,\n",
              "       -0.32596343, -0.15540117,  0.01516109,  2.77826966])"
            ]
          },
          "metadata": {
            "tags": []
          },
          "execution_count": 3
        }
      ]
    },
    {
      "cell_type": "code",
      "metadata": {
        "id": "LPsHF6ogy9iT",
        "colab_type": "code",
        "outputId": "4688af3f-d5e6-4f89-cb20-86012b5df025",
        "colab": {
          "base_uri": "https://localhost:8080/",
          "height": 34
        }
      },
      "source": [
        "# compute prob from z-score ใช้เจ้านี้ไม่ต้องไปเปิดตาราง\n",
        "from scipy.stats import norm\n",
        "\n",
        "# example: prob between z-score -2.57 to 2.57\n",
        "norm.cdf(2.857) - norm.cdf(-2.857)"
      ],
      "execution_count": 4,
      "outputs": [
        {
          "output_type": "execute_result",
          "data": {
            "text/plain": [
              "0.9957233416187001"
            ]
          },
          "metadata": {
            "tags": []
          },
          "execution_count": 4
        }
      ]
    },
    {
      "cell_type": "code",
      "metadata": {
        "id": "Erq1-k134F8G",
        "colab_type": "code",
        "outputId": "94a3e97a-3c32-41c1-e493-12bc7b7e0a89",
        "colab": {
          "base_uri": "https://localhost:8080/",
          "height": 34
        }
      },
      "source": [
        "# compute z-score from prob\n",
        "norm.ppf(0.025)"
      ],
      "execution_count": 16,
      "outputs": [
        {
          "output_type": "execute_result",
          "data": {
            "text/plain": [
              "-1.9599639845400545"
            ]
          },
          "metadata": {
            "tags": []
          },
          "execution_count": 16
        }
      ]
    },
    {
      "cell_type": "code",
      "metadata": {
        "id": "sk2mX4Qp5QXl",
        "colab_type": "code",
        "outputId": "5fbb31f8-7f71-415e-8743-4b1f00b4c938",
        "colab": {
          "base_uri": "https://localhost:8080/",
          "height": 34
        }
      },
      "source": [
        "# compute actual value from z-score\n",
        "\n",
        "def z_score_to_actual(z_score,mu,delta):\n",
        "  return z_score*delta + mu\n",
        "\n",
        "z_score_to_actual(z_score=2.33,mu=0,delta=.07)"
      ],
      "execution_count": 6,
      "outputs": [
        {
          "output_type": "execute_result",
          "data": {
            "text/plain": [
              "0.16310000000000002"
            ]
          },
          "metadata": {
            "tags": []
          },
          "execution_count": 6
        }
      ]
    },
    {
      "cell_type": "markdown",
      "metadata": {
        "id": "UcblUG6xCZbS",
        "colab_type": "text"
      },
      "source": [
        "# Exponential Distribution\n",
        "![alt text](https://drive.google.com/uc?id=1bTg-E2bNDj-wn9ucVwvjqeQ3d6FlSWYA)\n",
        "\n",
        "\n",
        "*   คำนวณ CDF จาก ตัวแปรสุ่มตัวหนึ่งไปอีกตัวหนึ่ง\n",
        "\n",
        "\n"
      ]
    },
    {
      "cell_type": "code",
      "metadata": {
        "id": "Wu5LIZyiCihU",
        "colab_type": "code",
        "outputId": "b227e96f-688d-4c0f-f3c3-69ab1b0fb9ec",
        "colab": {
          "base_uri": "https://localhost:8080/",
          "height": 34
        }
      },
      "source": [
        "from scipy.stats import expon  \n",
        "\n",
        "# l is for lambda\n",
        "l = 1.5\n",
        "\n",
        "# prob from 0 to 10 \n",
        "expon.cdf(10,loc=0, scale= 1/l)"
      ],
      "execution_count": 7,
      "outputs": [
        {
          "output_type": "execute_result",
          "data": {
            "text/plain": [
              "0.9999996940976795"
            ]
          },
          "metadata": {
            "tags": []
          },
          "execution_count": 7
        }
      ]
    },
    {
      "cell_type": "markdown",
      "metadata": {
        "id": "k3FfujwnDcMP",
        "colab_type": "text"
      },
      "source": [
        "# Estimation\n",
        "\n",
        "\n",
        "*   หา Error(E) กับ confidence interval แบบ 2-sided\n",
        "![alt text](https://drive.google.com/uc?id=1muv6n8IRifhQ_JfOZqlS4FP1d-9Uhawv)\n",
        "\n",
        "\n"
      ]
    },
    {
      "cell_type": "code",
      "metadata": {
        "id": "JiQUNYIpDmV5",
        "colab_type": "code",
        "outputId": "ded9bcbf-cce1-4efc-b4fe-b0e32f8ecfeb",
        "colab": {
          "base_uri": "https://localhost:8080/",
          "height": 52
        }
      },
      "source": [
        "# two sided\n",
        "\n",
        "def find_error_two_sided(sample_amount,std,confidence_lvl):\n",
        "  alpha = 1 - (confidence_lvl/100)\n",
        "  z = norm.ppf(1-alpha/2)\n",
        "  return z*std/np.sqrt(sample_amount)\n",
        "\n",
        "def find_confidence_interval(sample_average,error):\n",
        "  return (sample_average-error, sample_average+error)\n",
        "\n",
        "def find_sample_size(error,std,confidence_lvl):\n",
        "  z = norm.ppf(1-alpha/2)\n",
        "  return np.power(z*std/error,2)\n",
        "\n",
        "error = find_error_two_sided(sample_amount=15,std=.001,confidence_lvl=99)\n",
        "print(\"error: \",error)\n",
        "\n",
        "conf_interval = find_confidence_interval(sample_average=74.036,error=error)\n",
        "print(\"lower : \",conf_interval[0],\" upper : \",conf_interval[1])"
      ],
      "execution_count": 19,
      "outputs": [
        {
          "output_type": "stream",
          "text": [
            "error:  0.0006650762663545294\n",
            "lower :  74.03533492373364  upper :  74.03666507626636\n"
          ],
          "name": "stdout"
        }
      ]
    },
    {
      "cell_type": "markdown",
      "metadata": {
        "id": "Im8OeXXMvhVg",
        "colab_type": "text"
      },
      "source": [
        "\n",
        "\n",
        "*   หา Error(E) กับ confidence interval แบบ 1-sided \n",
        "![alt text](https://drive.google.com/uc?id=1gt_ze5GB5kesgx9UtC02_TBJPK74i3M9)\n",
        "\n"
      ]
    },
    {
      "cell_type": "code",
      "metadata": {
        "id": "EKxTDk0Ovu1R",
        "colab_type": "code",
        "colab": {
          "base_uri": "https://localhost:8080/",
          "height": 34
        },
        "outputId": "aaf79d09-3b11-4704-93d6-78a0a8b781fd"
      },
      "source": [
        "def find_error_one_sided(sample_amount,std,confidence_lvl):\n",
        "  alpha = 1 - (confidence_lvl/100)\n",
        "  z = norm.ppf(1-alpha)\n",
        "  return z*std/np.sqrt(sample_amount)\n",
        "\n",
        "find_error_one_sided(sample_amount=15,std=0.001,confidence_lvl=99)"
      ],
      "execution_count": 21,
      "outputs": [
        {
          "output_type": "execute_result",
          "data": {
            "text/plain": [
              "0.0006006604382430137"
            ]
          },
          "metadata": {
            "tags": []
          },
          "execution_count": 21
        }
      ]
    },
    {
      "cell_type": "code",
      "metadata": {
        "id": "ZO05SAsBwUaQ",
        "colab_type": "code",
        "colab": {
          "base_uri": "https://localhost:8080/",
          "height": 34
        },
        "outputId": "41522c43-f6de-4827-de67-15c7e413c8b1"
      },
      "source": [
        "(91.6 + 88.75 + 90.8 + 89.95 + 91.3) / 5"
      ],
      "execution_count": 10,
      "outputs": [
        {
          "output_type": "execute_result",
          "data": {
            "text/plain": [
              "90.47999999999999"
            ]
          },
          "metadata": {
            "tags": []
          },
          "execution_count": 10
        }
      ]
    },
    {
      "cell_type": "markdown",
      "metadata": {
        "id": "bGRsTTbEso5R",
        "colab_type": "text"
      },
      "source": [
        "# Simple Linear Regression\n",
        "ใช้ฟังก์ชันแบบ manual ค่อยๆ หาทีละค่า แล้วค่อยใช้ sklearn ตรวจคำตอบ"
      ]
    },
    {
      "cell_type": "code",
      "metadata": {
        "id": "BoyVNuH4QBdE",
        "colab_type": "code",
        "colab": {}
      },
      "source": [
        "# declare variables\n",
        "\n",
        "x = [5,12,14,17,23,30,40,47,55,67,72,81,96,112,127]\n",
        "y = [4,10,13,15,15,25,27,46,38,46,53,70,82,99,100]"
      ],
      "execution_count": 0,
      "outputs": []
    },
    {
      "cell_type": "code",
      "metadata": {
        "id": "1UEG_TIPRH0_",
        "colab_type": "code",
        "colab": {}
      },
      "source": [
        "# declare functions\n",
        "def find_avg(arr):\n",
        "  sum = 0\n",
        "  for i in arr:\n",
        "    sum = sum + i\n",
        "  return sum/len(arr)\n",
        "\n",
        "def sigma_xy(arr_x,arr_y):\n",
        "  sum = 0\n",
        "  if len(arr_x) != len(arr_y):\n",
        "    return \n",
        "  for i in range(len(arr_x)):\n",
        "    sum = sum + (arr_x[i]*arr_y[i])\n",
        "  return sum\n",
        "\n",
        "def sigma_x_squared(arr):\n",
        "  sum = 0\n",
        "  for i in arr:\n",
        "    sum = sum + (i*i)\n",
        "  return sum\n",
        "\n",
        "def sigma_x(arr):\n",
        "  sum = 0 \n",
        "  for i in arr:\n",
        "    sum = sum + i\n",
        "  return sum\n",
        "\n",
        "def find_SS_xx(arr_x):\n",
        "  return sigma_x_squared(arr_x) - ( (sigma_x(arr_x)*sigma_x(arr_x))/len(arr_x) )\n",
        "\n",
        "def find_SS_xy(arr_x,arr_y):\n",
        "  return sigma_xy(arr_x,arr_y) - (sigma_x(arr_x)*sigma_x(arr_y)/len(arr_x))\n",
        "\n",
        "def find_B(arr_x,arr_y):\n",
        "  return find_SS_xy(arr_x,arr_y)/find_SS_xx(arr_x)\n",
        "\n",
        "def find_A(arr_x,arr_y):\n",
        "  return find_avg(arr_y) - find_B(arr_x,arr_y)*find_avg(arr_x)\n",
        "\n",
        "def find_correlation_coef(arr_x,arr_y):\n",
        "  return find_SS_xy(arr_x,arr_y) / np.sqrt(find_SS_xx(arr_x)*find_SS_xy(arr_x,arr_y))"
      ],
      "execution_count": 0,
      "outputs": []
    },
    {
      "cell_type": "code",
      "metadata": {
        "id": "BuuiEPwcaBox",
        "colab_type": "code",
        "outputId": "454cb6f6-a441-4828-8d70-4e70b2494f6b",
        "colab": {
          "base_uri": "https://localhost:8080/",
          "height": 69
        }
      },
      "source": [
        "# compute manually\n",
        "print(find_correlation_coef(x,y))\n",
        "print(\"B: \",find_B(x,y))\n",
        "print(\"A: \",find_A(x,y))"
      ],
      "execution_count": 13,
      "outputs": [
        {
          "output_type": "stream",
          "text": [
            "0.9093806394027538\n",
            "B:  0.8269731473205612\n",
            "A:  -1.1283047707871887\n"
          ],
          "name": "stdout"
        }
      ]
    },
    {
      "cell_type": "code",
      "metadata": {
        "id": "Pk0Fyb7-U95d",
        "colab_type": "code",
        "outputId": "01865bf4-ef98-4476-a2c3-716530e7907c",
        "colab": {
          "base_uri": "https://localhost:8080/",
          "height": 52
        }
      },
      "source": [
        "# use sklearn to compute\n",
        "from sklearn.linear_model import LinearRegression\n",
        "\n",
        "X = np.array(x)\n",
        "X = np.reshape(x, (-1, 1))\n",
        "model = LinearRegression().fit(X,y)\n",
        "\n",
        "print(\"B: \",model.coef_[0])\n",
        "print(\"A: \",model.intercept_)"
      ],
      "execution_count": 14,
      "outputs": [
        {
          "output_type": "stream",
          "text": [
            "B:  0.8269731473205613\n",
            "A:  -1.1283047707871958\n"
          ],
          "name": "stdout"
        }
      ]
    },
    {
      "cell_type": "markdown",
      "metadata": {
        "id": "T1wBjMK5vDH9",
        "colab_type": "text"
      },
      "source": [
        "# About Me\n",
        "My name is Tantatorn Suksangwarn. Feel free to follow my [Github](https://github.com/Tantatorn-dev) or [donate me](https://http://donate.tantatorn.engineer/)."
      ]
    }
  ]
}