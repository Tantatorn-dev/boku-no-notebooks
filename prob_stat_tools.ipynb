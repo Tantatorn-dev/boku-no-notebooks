{
  "nbformat": 4,
  "nbformat_minor": 0,
  "metadata": {
    "colab": {
      "name": "prob_stat_tools.ipynb",
      "provenance": [],
      "collapsed_sections": [],
      "authorship_tag": "ABX9TyMSremabIY3xBmpaeZPvSSB",
      "include_colab_link": true
    },
    "kernelspec": {
      "name": "python3",
      "display_name": "Python 3"
    }
  },
  "cells": [
    {
      "cell_type": "markdown",
      "metadata": {
        "id": "view-in-github",
        "colab_type": "text"
      },
      "source": [
        "<a href=\"https://colab.research.google.com/github/Tantatorn-dev/boku-no-notebooks/blob/master/prob_stat_tools.ipynb\" target=\"_parent\"><img src=\"https://colab.research.google.com/assets/colab-badge.svg\" alt=\"Open In Colab\"/></a>"
      ]
    },
    {
      "cell_type": "code",
      "metadata": {
        "id": "PtbnJscivlRr",
        "colab_type": "code",
        "colab": {}
      },
      "source": [
        "# import necessary stuffs\n",
        "import numpy as np"
      ],
      "execution_count": 0,
      "outputs": []
    },
    {
      "cell_type": "markdown",
      "metadata": {
        "id": "SQ7GrZKLtllD",
        "colab_type": "text"
      },
      "source": [
        "# Normal Distribution\n",
        "เตรียมเครื่องมือไว้ให้ดังนี้\n",
        "*   คำนวณ z-score\n",
        "*   หาความน่าจะเป็นจาก z-score นั่นแหละ\n",
        "\n"
      ]
    },
    {
      "cell_type": "code",
      "metadata": {
        "id": "roEqXwjJxrJm",
        "colab_type": "code",
        "outputId": "acedbc03-3b4d-45e1-de25-8c95fed71b3d",
        "colab": {
          "base_uri": "https://localhost:8080/",
          "height": 34
        }
      },
      "source": [
        "# compute z-score manually\n",
        "def find_z_score(x,mu,delta):\n",
        "  return (x-mu)/delta\n",
        "\n",
        "find_z_score(x=11.5,mu=12,delta=.5)"
      ],
      "execution_count": 23,
      "outputs": [
        {
          "output_type": "execute_result",
          "data": {
            "text/plain": [
              "-1.0"
            ]
          },
          "metadata": {
            "tags": []
          },
          "execution_count": 23
        }
      ]
    },
    {
      "cell_type": "code",
      "metadata": {
        "id": "LLVUKrHSu4hP",
        "colab_type": "code",
        "outputId": "433dd81e-133e-4df9-f91e-83b6d5f636bd",
        "colab": {
          "base_uri": "https://localhost:8080/",
          "height": 52
        }
      },
      "source": [
        "# compute z-score for any dataset\n",
        "from scipy.stats import zscore\n",
        "\n",
        "data = np.array([10,20,20,10,30,30,40,50,212])\n",
        "zscore(data)"
      ],
      "execution_count": 4,
      "outputs": [
        {
          "output_type": "execute_result",
          "data": {
            "text/plain": [
              "array([-0.6180963 , -0.45054007, -0.45054007, -0.6180963 , -0.28298385,\n",
              "       -0.28298385, -0.11542762,  0.0521286 ,  2.76653946])"
            ]
          },
          "metadata": {
            "tags": []
          },
          "execution_count": 4
        }
      ]
    },
    {
      "cell_type": "code",
      "metadata": {
        "id": "LPsHF6ogy9iT",
        "colab_type": "code",
        "outputId": "98deeb79-4e48-4341-9013-dcbc94e4afd1",
        "colab": {
          "base_uri": "https://localhost:8080/",
          "height": 34
        }
      },
      "source": [
        "# compute prob from z-score ใช้เจ้านี้ไม่ต้องไปเปิดตาราง\n",
        "from scipy.stats import norm\n",
        "\n",
        "# example: prob between z-score -2.57 to 2.57\n",
        "norm.cdf(-1.0)"
      ],
      "execution_count": 27,
      "outputs": [
        {
          "output_type": "execute_result",
          "data": {
            "text/plain": [
              "0.15865525393145707"
            ]
          },
          "metadata": {
            "tags": []
          },
          "execution_count": 27
        }
      ]
    },
    {
      "cell_type": "code",
      "metadata": {
        "id": "Erq1-k134F8G",
        "colab_type": "code",
        "outputId": "bc2c2535-40b5-4c04-9307-d9aade3e49d1",
        "colab": {
          "base_uri": "https://localhost:8080/",
          "height": 34
        }
      },
      "source": [
        "# compute z-score from prob\n",
        "norm.ppf(0.5)"
      ],
      "execution_count": 6,
      "outputs": [
        {
          "output_type": "execute_result",
          "data": {
            "text/plain": [
              "0.0"
            ]
          },
          "metadata": {
            "tags": []
          },
          "execution_count": 6
        }
      ]
    },
    {
      "cell_type": "code",
      "metadata": {
        "id": "sk2mX4Qp5QXl",
        "colab_type": "code",
        "outputId": "50701ad7-6adc-439a-992f-ee747acdbfbe",
        "colab": {
          "base_uri": "https://localhost:8080/",
          "height": 34
        }
      },
      "source": [
        "# compute actual value from z-score\n",
        "\n",
        "def z_score_to_actual(z_score,mu,delta):\n",
        "  return z_score*delta + mu\n",
        "\n",
        "z_score_to_actual(z_score=2.33,mu=0,delta=.07)"
      ],
      "execution_count": 7,
      "outputs": [
        {
          "output_type": "execute_result",
          "data": {
            "text/plain": [
              "0.16310000000000002"
            ]
          },
          "metadata": {
            "tags": []
          },
          "execution_count": 7
        }
      ]
    },
    {
      "cell_type": "markdown",
      "metadata": {
        "id": "UcblUG6xCZbS",
        "colab_type": "text"
      },
      "source": [
        "# Exponential Distribution\n",
        "![alt text](https://drive.google.com/uc?id=1bTg-E2bNDj-wn9ucVwvjqeQ3d6FlSWYA)\n",
        "\n",
        "\n",
        "*   คำนวณ CDF จาก ตัวแปรสุ่มตัวหนึ่งไปอีกตัวหนึ่ง\n",
        "\n",
        "\n"
      ]
    },
    {
      "cell_type": "code",
      "metadata": {
        "id": "Wu5LIZyiCihU",
        "colab_type": "code",
        "outputId": "dda7c837-daf9-4fa3-c2d6-37044825fc9e",
        "colab": {
          "base_uri": "https://localhost:8080/",
          "height": 34
        }
      },
      "source": [
        "from scipy.stats import expon  \n",
        "\n",
        "# l is for lambda\n",
        "l = 1.5\n",
        "\n",
        "# prob from 0 to 10 \n",
        "expon.cdf(10,loc=0, scale= 1/l)"
      ],
      "execution_count": 8,
      "outputs": [
        {
          "output_type": "execute_result",
          "data": {
            "text/plain": [
              "0.9999996940976795"
            ]
          },
          "metadata": {
            "tags": []
          },
          "execution_count": 8
        }
      ]
    },
    {
      "cell_type": "markdown",
      "metadata": {
        "id": "k3FfujwnDcMP",
        "colab_type": "text"
      },
      "source": [
        "# Estimation\n",
        "\n",
        "## Confidence Interval of the Mean\n",
        "\n",
        "### Variance known\n",
        "\n",
        "\n",
        "*   หา Error(E) กับ confidence interval แบบ 2-sided\n",
        "![alt text](https://drive.google.com/uc?id=1muv6n8IRifhQ_JfOZqlS4FP1d-9Uhawv)\n",
        "\n",
        "\n"
      ]
    },
    {
      "cell_type": "code",
      "metadata": {
        "id": "JiQUNYIpDmV5",
        "colab_type": "code",
        "outputId": "e383eb80-b667-42f0-e46b-d8bced18821d",
        "colab": {
          "base_uri": "https://localhost:8080/",
          "height": 52
        }
      },
      "source": [
        "# two sided\n",
        "\n",
        "def find_error_two_sided(sample_amount,std,confidence_lvl):\n",
        "  alpha = 1 - (confidence_lvl/100)\n",
        "  z = norm.ppf(1-alpha/2)\n",
        "  return z*std/np.sqrt(sample_amount)\n",
        "\n",
        "def find_confidence_interval(sample_average,error):\n",
        "  return (sample_average-error, sample_average+error)\n",
        "\n",
        "def find_sample_size(error,std,confidence_lvl):\n",
        "  z = norm.ppf(1-alpha/2)\n",
        "  return np.power(z*std/error,2)\n",
        "\n",
        "error = find_error_two_sided(sample_amount=10,std=1,confidence_lvl=95)\n",
        "print(\"error: \",error)\n",
        "\n",
        "conf_interval = find_confidence_interval(sample_average=64.46,error=error)\n",
        "print(\"lower : \",conf_interval[0],\" upper : \",conf_interval[1])"
      ],
      "execution_count": 9,
      "outputs": [
        {
          "output_type": "stream",
          "text": [
            "error:  0.6197950323045616\n",
            "lower :  63.840204967695435  upper :  65.07979503230456\n"
          ],
          "name": "stdout"
        }
      ]
    },
    {
      "cell_type": "markdown",
      "metadata": {
        "id": "Im8OeXXMvhVg",
        "colab_type": "text"
      },
      "source": [
        "\n",
        "\n",
        "*   หา Error(E) กับ confidence interval แบบ 1-sided \n",
        "![alt text](https://drive.google.com/uc?id=1gt_ze5GB5kesgx9UtC02_TBJPK74i3M9)\n",
        "\n"
      ]
    },
    {
      "cell_type": "code",
      "metadata": {
        "id": "EKxTDk0Ovu1R",
        "colab_type": "code",
        "outputId": "4f40c80b-3db0-4b53-ab54-301d53082926",
        "colab": {
          "base_uri": "https://localhost:8080/",
          "height": 34
        }
      },
      "source": [
        "def find_error_one_sided(sample_amount,std,confidence_lvl):\n",
        "  alpha = 1 - (confidence_lvl/100)\n",
        "  z = norm.ppf(1-alpha)\n",
        "  return z*std/np.sqrt(sample_amount)\n",
        "\n",
        "find_error_one_sided(sample_amount=15,std=0.001,confidence_lvl=99)"
      ],
      "execution_count": 10,
      "outputs": [
        {
          "output_type": "execute_result",
          "data": {
            "text/plain": [
              "0.0006006604382430137"
            ]
          },
          "metadata": {
            "tags": []
          },
          "execution_count": 10
        }
      ]
    },
    {
      "cell_type": "markdown",
      "metadata": {
        "id": "nUIQlq0oDbXT",
        "colab_type": "text"
      },
      "source": [
        "### Variance unknown\n",
        "confidence interval แบบ 2-sided \n",
        "\n",
        "![alt text](https://drive.google.com/uc?id=1Yt6Fo_LCO2OuQ80bUA00wCfiylVG6CKd)"
      ]
    },
    {
      "cell_type": "code",
      "metadata": {
        "id": "MlIakgZ0Dfa6",
        "colab_type": "code",
        "outputId": "9fb227fc-8eea-4bcf-a6ae-901139961ced",
        "colab": {
          "base_uri": "https://localhost:8080/",
          "height": 52
        }
      },
      "source": [
        "from scipy.stats import t\n",
        "\n",
        "def find_error_two_sided(sample_amount,std_sample,confidence_lvl):\n",
        "  alpha = 1 - (confidence_lvl/100)\n",
        "  t_score = t.ppf(1-alpha/2,sample_amount-1)\n",
        "  return t_score*std_sample/np.sqrt(sample_amount)\n",
        "\n",
        "def find_confidence_interval(sample_average,error):\n",
        "  return (sample_average-error, sample_average+error)\n",
        "\n",
        "error = find_error_two_sided(sample_amount=22,std_sample=3.55,confidence_lvl=95)\n",
        "print(\"error: \",error)\n",
        "\n",
        "conf_interval = find_confidence_interval(sample_average=13.71,error=error)\n",
        "print(\"lower : \",conf_interval[0],\" upper : \",conf_interval[1])"
      ],
      "execution_count": 11,
      "outputs": [
        {
          "output_type": "stream",
          "text": [
            "error:  1.5739818231083889\n",
            "lower :  12.136018176891612  upper :  15.28398182310839\n"
          ],
          "name": "stdout"
        }
      ]
    },
    {
      "cell_type": "code",
      "metadata": {
        "id": "YDBP4Pm0ogrv",
        "colab_type": "code",
        "colab": {
          "base_uri": "https://localhost:8080/",
          "height": 34
        },
        "outputId": "bd33ee71-cc42-4b6b-fd0e-e7318d8c8bba"
      },
      "source": [
        "data = [2.31, 2.09, 2.36, 1.95, 1.98, 2.25, 2.16, 2.07, 1.88, 1.94, 1.97,2.02]\n",
        "np.std(data)"
      ],
      "execution_count": 12,
      "outputs": [
        {
          "output_type": "execute_result",
          "data": {
            "text/plain": [
              "0.14971268780196584"
            ]
          },
          "metadata": {
            "tags": []
          },
          "execution_count": 12
        }
      ]
    },
    {
      "cell_type": "markdown",
      "metadata": {
        "id": "T7wK2ph521-g",
        "colab_type": "text"
      },
      "source": [
        "## Confidence Interval of the Variance\n",
        "\n",
        "\n",
        "*   หา confidence interval แบบ 2-sided\n",
        "\n",
        "![alt text](https://drive.google.com/uc?id=1P2C-NmqXolTGeEC10M-ybNcmuxym2W9U)\n",
        "\n",
        "### example\n",
        "\n",
        "![alt text](https://drive.google.com/uc?id=1Cy_okmHqxX39qmcKpLbzMBGFlJZzJRI1)\n"
      ]
    },
    {
      "cell_type": "code",
      "metadata": {
        "id": "sm7U3vagct-J",
        "colab_type": "code",
        "colab": {
          "base_uri": "https://localhost:8080/",
          "height": 69
        },
        "outputId": "f0c21941-23fa-4f26-8312-ac5de5782d6b"
      },
      "source": [
        "from scipy.stats import chi2\n",
        "\n",
        "def find_confidence_interval(sample_amount,std_sample,confidence_lvl):\n",
        "  alpha = 1 - (confidence_lvl/100)\n",
        "  chi_squared_left = chi2.ppf(1-alpha/2,sample_amount-1)\n",
        "  chi_squared_right = chi2.ppf(alpha/2,sample_amount-1)\n",
        "  print(chi_squared_left)\n",
        "  print(chi_squared_right)\n",
        "  return [(sample_amount-1)*np.power(std_sample,2) / chi_squared_left , (sample_amount-1)*np.power(std_sample,2) / chi_squared_right ]\n",
        "\n",
        "conf_interval = find_confidence_interval(sample_amount=27 ,std_sample=5.86,confidence_lvl=95)\n",
        "print(conf_interval)"
      ],
      "execution_count": 13,
      "outputs": [
        {
          "output_type": "stream",
          "text": [
            "41.92317009635392\n",
            "13.843904982007603\n",
            "[21.29680551227327, 64.49261253673562]\n"
          ],
          "name": "stdout"
        }
      ]
    },
    {
      "cell_type": "markdown",
      "metadata": {
        "id": "sO3ZzJ7N2VsF",
        "colab_type": "text"
      },
      "source": [
        "## Large-Sample Confidence Interval for a Population Proportion\n",
        "\n",
        "confidence interval แบบ 2-sided \n",
        "\n",
        "![alt text](https://drive.google.com/uc?id=1IndcujDPNrGaZNp41VEkCQ9GtTwACPCS)"
      ]
    },
    {
      "cell_type": "code",
      "metadata": {
        "id": "mDNgjsjo4ua7",
        "colab_type": "code",
        "colab": {
          "base_uri": "https://localhost:8080/",
          "height": 69
        },
        "outputId": "913c0a74-9985-4d6a-83eb-82af4e7f9a24"
      },
      "source": [
        "# two sided\n",
        "\n",
        "def find_error_two_sided(sample_amount,p_hat,confidence_lvl):\n",
        "  alpha = 1 - (confidence_lvl/100)\n",
        "  z = norm.ppf(1-alpha/2)\n",
        "  print(\"z: \",z)\n",
        "  return z*np.sqrt(p_hat*(1-p_hat)/sample_amount)\n",
        "\n",
        "def find_confidence_interval(p_hat,error):\n",
        "  return (p_hat-error, p_hat+error)\n",
        "\n",
        "def find_sample_size(error,p_hat,confidence_lvl):\n",
        "  alpha = 1 - (confidence_lvl/100)\n",
        "  z = norm.ppf(1-alpha/2)\n",
        "  return np.power(z/error,2)*p_hat*(1-p_hat)\n",
        "\n",
        "error = find_error_two_sided(sample_amount=768,p_hat=412/768,confidence_lvl=95)\n",
        "print(\"error: \",error)\n",
        "\n",
        "conf_interval = find_confidence_interval(p_hat=412/768,error=error)\n",
        "print(\"lower : \",conf_interval[0],\" upper : \",conf_interval[1])"
      ],
      "execution_count": 20,
      "outputs": [
        {
          "output_type": "stream",
          "text": [
            "z:  1.959963984540054\n",
            "error:  0.03526792170426494\n",
            "lower :  0.5011904116290684  upper :  0.5717262550375983\n"
          ],
          "name": "stdout"
        }
      ]
    },
    {
      "cell_type": "markdown",
      "metadata": {
        "id": "TRNa5_wDB_rT",
        "colab_type": "text"
      },
      "source": [
        "confidence interval แบบ 1-sided \n",
        "\n",
        "![alt text](https://drive.google.com/uc?id=1pir84XT8alCNy6gTMukJhXC0kAql0sfs)"
      ]
    },
    {
      "cell_type": "code",
      "metadata": {
        "id": "VKYDp4RazCmp",
        "colab_type": "code",
        "colab": {
          "base_uri": "https://localhost:8080/",
          "height": 34
        },
        "outputId": "3cbbad73-29c6-4a7d-e77b-2022c7fa8eab"
      },
      "source": [
        "def find_error_one_sided(sample_amount,p_hat,confidence_lvl):\n",
        "  alpha = 1 - (confidence_lvl/100)\n",
        "  z = norm.ppf(1-alpha)\n",
        "  return z*np.sqrt(p_hat*(1-p_hat)/sample_amount)\n",
        "\n",
        "find_error_one_sided(sample_amount=768,p_hat=412/768,confidence_lvl=95)"
      ],
      "execution_count": 21,
      "outputs": [
        {
          "output_type": "execute_result",
          "data": {
            "text/plain": [
              "0.029597772912094665"
            ]
          },
          "metadata": {
            "tags": []
          },
          "execution_count": 21
        }
      ]
    },
    {
      "cell_type": "markdown",
      "metadata": {
        "id": "_qkXuGJ25QCd",
        "colab_type": "text"
      },
      "source": [
        "# Hypothesis Testing\n",
        "\n",
        "![alt text](https://drive.google.com/uc?id=1y6YnxNx3Xou1QaSM_2iVrobvlYBgFMGo)\n",
        "\n",
        "![alt text](https://drive.google.com/uc?id=1Se6rwoFxGBvkGlwFwBA6DKqDs26qp14R)\n",
        "\n",
        "![alt text](https://drive.google.com/uc?id=1KEDAyAY1MoxmTf2lKS4yhHQ4LD2Es59M)\n",
        "\n",
        "![alt text](https://drive.google.com/uc?id=1m6IgHpFo02CKKPXccUSVAYj6-dwDdC1I))\n",
        "\n",
        "\n"
      ]
    },
    {
      "cell_type": "markdown",
      "metadata": {
        "id": "DQmTQ5qjCGQt",
        "colab_type": "text"
      },
      "source": [
        "### example\n",
        "\n",
        "![alt text](https://drive.google.com/uc?id=1KAB7y2TRZRyWCEwp2YlsFP2TjTGggL3Y)\n"
      ]
    },
    {
      "cell_type": "code",
      "metadata": {
        "id": "Co7wyX_3j3lw",
        "colab_type": "code",
        "colab": {
          "base_uri": "https://localhost:8080/",
          "height": 52
        },
        "outputId": "95e15895-ff4a-4d10-c253-ee945ee24e74"
      },
      "source": [
        "def find_z_stat(x_bar,mu,delta,n):\n",
        "  return (x_bar-mu) / (delta/np.sqrt(n))\n",
        "\n",
        "print(\"critical boundary :\",norm.ppf(.05/2))\n",
        "\n",
        "print(\"z: \",find_z_stat(x_bar=59.1,mu=57.4,delta=5.2,n=40))"
      ],
      "execution_count": 30,
      "outputs": [
        {
          "output_type": "stream",
          "text": [
            "critical boundary : -1.9599639845400545\n",
            "z:  2.067643085494713\n"
          ],
          "name": "stdout"
        }
      ]
    },
    {
      "cell_type": "markdown",
      "metadata": {
        "id": "bGRsTTbEso5R",
        "colab_type": "text"
      },
      "source": [
        "# Simple Linear Regression\n",
        "ใช้ฟังก์ชันแบบ manual ค่อยๆ หาทีละค่า แล้วค่อยใช้ sklearn ตรวจคำตอบ\n",
        "\n",
        "![alt text](https://drive.google.com/uc?id=1FPkSyWGyL2GXskxd0QBPraanzVCTLgjR)\n",
        "\n",
        "![alt text](https://drive.google.com/uc?id=1BUGythF4iSRZlHLqgdV0j4osWE4T77hQ)\n",
        "\n",
        "![alt text](https://drive.google.com/uc?id=1nRgaMI8_vHrnM--Se1Q5TMXq2pYPlUIz)"
      ]
    },
    {
      "cell_type": "code",
      "metadata": {
        "id": "BoyVNuH4QBdE",
        "colab_type": "code",
        "colab": {}
      },
      "source": [
        "# declare variables\n",
        "\n",
        "x = [5,12,14,17,23,30,40,47,55,67,72,81,96,112,127]\n",
        "y = [4,10,13,15,15,25,27,46,38,46,53,70,82,99,100]"
      ],
      "execution_count": 0,
      "outputs": []
    },
    {
      "cell_type": "code",
      "metadata": {
        "id": "1UEG_TIPRH0_",
        "colab_type": "code",
        "colab": {}
      },
      "source": [
        "# declare functions\n",
        "def find_avg(arr):\n",
        "  sum = 0\n",
        "  for i in arr:\n",
        "    sum = sum + i\n",
        "  return sum/len(arr)\n",
        "\n",
        "def sigma_xy(arr_x,arr_y):\n",
        "  sum = 0\n",
        "  if len(arr_x) != len(arr_y):\n",
        "    return \n",
        "  for i in range(len(arr_x)):\n",
        "    sum = sum + (arr_x[i]*arr_y[i])\n",
        "  return sum\n",
        "\n",
        "def sigma_x_squared(arr):\n",
        "  sum = 0\n",
        "  for i in arr:\n",
        "    sum = sum + (i*i)\n",
        "  return sum\n",
        "\n",
        "def sigma_x(arr):\n",
        "  sum = 0 \n",
        "  for i in arr:\n",
        "    sum = sum + i\n",
        "  return sum\n",
        "\n",
        "def find_SS_xx(arr_x):\n",
        "  return sigma_x_squared(arr_x) - ( (sigma_x(arr_x)*sigma_x(arr_x))/len(arr_x) )\n",
        "\n",
        "def find_SS_xy(arr_x,arr_y):\n",
        "  return sigma_xy(arr_x,arr_y) - (sigma_x(arr_x)*sigma_x(arr_y)/len(arr_x))\n",
        "\n",
        "def find_B(arr_x,arr_y):\n",
        "  return find_SS_xy(arr_x,arr_y)/find_SS_xx(arr_x)\n",
        "\n",
        "def find_A(arr_x,arr_y):\n",
        "  return find_avg(arr_y) - find_B(arr_x,arr_y)*find_avg(arr_x)\n",
        "\n",
        "def find_correlation_coef(arr_x,arr_y):\n",
        "  return find_SS_xy(arr_x,arr_y) / np.sqrt(find_SS_xx(arr_x)*find_SS_xy(arr_x,arr_y))\n",
        "\n",
        "def find_r_squared(arr_x,arr_y):\n",
        "  return find_B(arr_x,arr_y)*find_SS_xy(arr_x,arr_y)/find_SS_xx(arr_y)\n",
        "\n",
        "def find_std_error(arr_x,arr_y):\n",
        "  return np.sqrt(((find_SS_xx(arr_y)-find_B(arr_x,arr_y)*find_SS_xy(arr_x,arr_y))/(len(arr_x)-2)))"
      ],
      "execution_count": 0,
      "outputs": []
    },
    {
      "cell_type": "code",
      "metadata": {
        "id": "BuuiEPwcaBox",
        "colab_type": "code",
        "outputId": "02c2a1ed-2405-4f45-b325-a66056a3caa0",
        "colab": {
          "base_uri": "https://localhost:8080/",
          "height": 139
        }
      },
      "source": [
        "# compute manually\n",
        "print(\"linear correlatioon coefficient: \",find_correlation_coef(x,y))\n",
        "print(\"SSxx: \",find_SS_xx(x))\n",
        "print(\"SSxy: \",find_SS_xy(x,y))\n",
        "print(\"B: \",find_B(x,y))\n",
        "print(\"A: \",find_A(x,y))\n",
        "print(\"r squared: \",find_r_squared(x,y))\n",
        "print(\"std_error: \",find_std_error(x,y))"
      ],
      "execution_count": 45,
      "outputs": [
        {
          "output_type": "stream",
          "text": [
            "linear correlatioon coefficient 0.5024516846493103\n",
            "SSxx:  1772.8571428571413\n",
            "SSxy:  447.57142857142844\n",
            "B:  0.25245769540693\n",
            "A:  1.5073327961321432\n",
            "r squared 0.8988067723976263\n",
            "std_error:  1.5950820873645069\n"
          ],
          "name": "stdout"
        }
      ]
    },
    {
      "cell_type": "code",
      "metadata": {
        "id": "Pk0Fyb7-U95d",
        "colab_type": "code",
        "outputId": "82b6d74e-e368-4de7-a8a3-a3259d0f44fe",
        "colab": {
          "base_uri": "https://localhost:8080/",
          "height": 52
        }
      },
      "source": [
        "# use sklearn to compute\n",
        "from sklearn.linear_model import LinearRegression\n",
        "\n",
        "X = np.array(x)\n",
        "X = np.reshape(x, (-1, 1))\n",
        "model = LinearRegression().fit(X,y)\n",
        "\n",
        "print(\"B: \",model.coef_[0])\n",
        "print(\"A: \",model.intercept_)"
      ],
      "execution_count": 19,
      "outputs": [
        {
          "output_type": "stream",
          "text": [
            "B:  0.8269731473205613\n",
            "A:  -1.1283047707871958\n"
          ],
          "name": "stdout"
        }
      ]
    },
    {
      "cell_type": "markdown",
      "metadata": {
        "id": "T1wBjMK5vDH9",
        "colab_type": "text"
      },
      "source": [
        "# About Me\n",
        "My name is Tantatorn Suksangwarn. Feel free to follow my [Github](https://github.com/Tantatorn-dev) or [donate me](https://http://donate.tantatorn.engineer/)."
      ]
    }
  ]
}