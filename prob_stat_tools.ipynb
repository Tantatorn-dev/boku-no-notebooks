{
  "nbformat": 4,
  "nbformat_minor": 0,
  "metadata": {
    "colab": {
      "name": "prob_stat_tools.ipynb",
      "provenance": [],
      "collapsed_sections": [],
      "authorship_tag": "ABX9TyNc5iBj7rtQo6pcBxJ4P8WH",
      "include_colab_link": true
    },
    "kernelspec": {
      "name": "python3",
      "display_name": "Python 3"
    }
  },
  "cells": [
    {
      "cell_type": "markdown",
      "metadata": {
        "id": "view-in-github",
        "colab_type": "text"
      },
      "source": [
        "<a href=\"https://colab.research.google.com/github/Tantatorn-dev/boku-no-notebooks/blob/master/prob_stat_tools.ipynb\" target=\"_parent\"><img src=\"https://colab.research.google.com/assets/colab-badge.svg\" alt=\"Open In Colab\"/></a>"
      ]
    },
    {
      "cell_type": "code",
      "metadata": {
        "id": "BoyVNuH4QBdE",
        "colab_type": "code",
        "colab": {}
      },
      "source": [
        "# declare variables\n",
        "\n",
        "x = [5,12,14,17,23,30,40,47,55,67,72,81,96,112,127]\n",
        "y = [4,10,13,15,15,25,27,46,38,46,53,70,82,99,100]"
      ],
      "execution_count": 0,
      "outputs": []
    },
    {
      "cell_type": "code",
      "metadata": {
        "id": "1UEG_TIPRH0_",
        "colab_type": "code",
        "colab": {}
      },
      "source": [
        "# declare functions\n",
        "\n",
        "def find_avg(arr):\n",
        "  sum = 0\n",
        "  for i in arr:\n",
        "    sum = sum + i\n",
        "  return sum/len(arr)\n",
        "\n",
        "def sigma_xy(arr_x,arr_y):\n",
        "  sum = 0\n",
        "  if len(arr_x) != len(arr_y):\n",
        "    return \n",
        "  for i in range(len(arr_x)):\n",
        "    sum = sum + (arr_x[i]*arr_y[i])\n",
        "  return sum\n",
        "\n",
        "def sigma_x_squared(arr):\n",
        "  sum = 0\n",
        "  for i in arr:\n",
        "    sum = sum + (i*i)\n",
        "  return sum\n",
        "\n",
        "def sigma_x(arr):\n",
        "  sum = 0 \n",
        "  for i in arr:\n",
        "    sum = sum + i\n",
        "  return sum\n",
        "\n",
        "def find_SS_xx(arr_x):\n",
        "  return sigma_x_squared(arr_x) - ( (sigma_x(arr_x)*sigma_x(arr_x))/len(arr_x) )\n",
        "\n",
        "def find_SS_xy(arr_x,arr_y):\n",
        "  return sigma_xy(arr_x,arr_y) - (sigma_x(arr_x)*sigma_x(arr_y)/len(arr_x))\n",
        "\n",
        "def find_B(arr_x,arr_y):\n",
        "  return find_SS_xy(arr_x,arr_y)/find_SS_xx(arr_x)\n",
        "\n",
        "def find_A(arr_x,arr_y):\n",
        "  return find_avg(arr_y) - find_B(arr_x,arr_y)*find_avg(arr_x)"
      ],
      "execution_count": 0,
      "outputs": []
    },
    {
      "cell_type": "code",
      "metadata": {
        "id": "BuuiEPwcaBox",
        "colab_type": "code",
        "colab": {
          "base_uri": "https://localhost:8080/",
          "height": 52
        },
        "outputId": "ea635ddc-c1c1-4255-a3aa-4fc002213d5d"
      },
      "source": [
        "# compute manually\n",
        "print(\"B: \",find_B(x,y))\n",
        "print(\"A: \",find_A(x,y))"
      ],
      "execution_count": 31,
      "outputs": [
        {
          "output_type": "stream",
          "text": [
            "B:  0.8269731473205612\n",
            "A:  -1.1283047707871887\n"
          ],
          "name": "stdout"
        }
      ]
    },
    {
      "cell_type": "code",
      "metadata": {
        "id": "Pk0Fyb7-U95d",
        "colab_type": "code",
        "colab": {
          "base_uri": "https://localhost:8080/",
          "height": 52
        },
        "outputId": "618d8b36-694c-4bde-ec15-fc7430e4e338"
      },
      "source": [
        "# use sklearn to compute\n",
        "\n",
        "import numpy as np\n",
        "from sklearn.linear_model import LinearRegression\n",
        "\n",
        "X = np.array(x)\n",
        "X = np.reshape(x, (-1, 1))\n",
        "model = LinearRegression().fit(X,y)\n",
        "\n",
        "print(\"B: \",model.coef_[0])\n",
        "print(\"A: \",model.intercept_)"
      ],
      "execution_count": 32,
      "outputs": [
        {
          "output_type": "stream",
          "text": [
            "B:  0.8269731473205613\n",
            "A:  -1.1283047707871958\n"
          ],
          "name": "stdout"
        }
      ]
    }
  ]
}