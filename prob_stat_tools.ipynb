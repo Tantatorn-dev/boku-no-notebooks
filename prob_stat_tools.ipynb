{
  "nbformat": 4,
  "nbformat_minor": 0,
  "metadata": {
    "colab": {
      "name": "prob_stat_tools.ipynb",
      "provenance": [],
      "collapsed_sections": [],
      "authorship_tag": "ABX9TyM3YjOa6Dj1dcOdNZg3vAVg",
      "include_colab_link": true
    },
    "kernelspec": {
      "name": "python3",
      "display_name": "Python 3"
    }
  },
  "cells": [
    {
      "cell_type": "markdown",
      "metadata": {
        "id": "view-in-github",
        "colab_type": "text"
      },
      "source": [
        "<a href=\"https://colab.research.google.com/github/Tantatorn-dev/boku-no-notebooks/blob/master/prob_stat_tools.ipynb\" target=\"_parent\"><img src=\"https://colab.research.google.com/assets/colab-badge.svg\" alt=\"Open In Colab\"/></a>"
      ]
    },
    {
      "cell_type": "code",
      "metadata": {
        "id": "PtbnJscivlRr",
        "colab_type": "code",
        "colab": {}
      },
      "source": [
        "# import necessary stuffs\n",
        "import numpy as np"
      ],
      "execution_count": 0,
      "outputs": []
    },
    {
      "cell_type": "markdown",
      "metadata": {
        "id": "SQ7GrZKLtllD",
        "colab_type": "text"
      },
      "source": [
        "# Normal Distribution\n",
        "เตรียมเครื่องมือไว้ให้ดังนี้\n",
        "*   คำนวณ z-score\n",
        "*   หาความน่าจะเป็นจาก z-score นั่นแหละ\n",
        "\n"
      ]
    },
    {
      "cell_type": "code",
      "metadata": {
        "id": "roEqXwjJxrJm",
        "colab_type": "code",
        "colab": {
          "base_uri": "https://localhost:8080/",
          "height": 34
        },
        "outputId": "0afcbe47-51a7-40f5-9aa9-c7d8d57c99b5"
      },
      "source": [
        "# compute z-score manually\n",
        "def find_z_score(x,mu,delta):\n",
        "  return (x-mu)/delta\n",
        "\n",
        "find_z_score(21,18,2.5)"
      ],
      "execution_count": 24,
      "outputs": [
        {
          "output_type": "execute_result",
          "data": {
            "text/plain": [
              "1.2"
            ]
          },
          "metadata": {
            "tags": []
          },
          "execution_count": 24
        }
      ]
    },
    {
      "cell_type": "code",
      "metadata": {
        "id": "LLVUKrHSu4hP",
        "colab_type": "code",
        "colab": {
          "base_uri": "https://localhost:8080/",
          "height": 52
        },
        "outputId": "0376a8ab-bd75-42e3-f284-67cf3b41a43e"
      },
      "source": [
        "# compute z-score for any dataset\n",
        "from scipy.stats import zscore\n",
        "\n",
        "data = np.array([10,20,20,30,30,30,40,50,212])\n",
        "zscore(data)"
      ],
      "execution_count": 11,
      "outputs": [
        {
          "output_type": "execute_result",
          "data": {
            "text/plain": [
              "array([-0.66708794, -0.49652568, -0.49652568, -0.32596343, -0.32596343,\n",
              "       -0.32596343, -0.15540117,  0.01516109,  2.77826966])"
            ]
          },
          "metadata": {
            "tags": []
          },
          "execution_count": 11
        }
      ]
    },
    {
      "cell_type": "code",
      "metadata": {
        "id": "LPsHF6ogy9iT",
        "colab_type": "code",
        "colab": {
          "base_uri": "https://localhost:8080/",
          "height": 34
        },
        "outputId": "a6ec2d48-b8ae-4f82-de1f-368027c922bf"
      },
      "source": [
        "# compute prob from z-score ใช้เจ้านี้ไม่ต้องไปเปิดตาราง\n",
        "from scipy.stats import norm\n",
        "\n",
        "# example: prob between z-score -2.57 to 2.57\n",
        "norm.cdf(2.57) - norm.cdf(-2.57)"
      ],
      "execution_count": 26,
      "outputs": [
        {
          "output_type": "execute_result",
          "data": {
            "text/plain": [
              "0.989830148502018"
            ]
          },
          "metadata": {
            "tags": []
          },
          "execution_count": 26
        }
      ]
    },
    {
      "cell_type": "code",
      "metadata": {
        "id": "Erq1-k134F8G",
        "colab_type": "code",
        "colab": {
          "base_uri": "https://localhost:8080/",
          "height": 34
        },
        "outputId": "79ce965c-b7db-49cb-eaed-e456ecb68e3d"
      },
      "source": [
        "# compute z-score from prob\n",
        "norm.ppf(0.2578)"
      ],
      "execution_count": 21,
      "outputs": [
        {
          "output_type": "execute_result",
          "data": {
            "text/plain": [
              "-0.6501427767557449"
            ]
          },
          "metadata": {
            "tags": []
          },
          "execution_count": 21
        }
      ]
    },
    {
      "cell_type": "code",
      "metadata": {
        "id": "sk2mX4Qp5QXl",
        "colab_type": "code",
        "colab": {
          "base_uri": "https://localhost:8080/",
          "height": 34
        },
        "outputId": "5100a08f-ba0e-4c1d-ea0b-7665d789d902"
      },
      "source": [
        "# compute actual value from z-score\n",
        "\n",
        "def z_score_to_actual(z_score,mu,delta):\n",
        "  return z_score*delta + mu\n",
        "\n",
        "z_score_to_actual(-0.65,18,2.5)"
      ],
      "execution_count": 22,
      "outputs": [
        {
          "output_type": "execute_result",
          "data": {
            "text/plain": [
              "16.375"
            ]
          },
          "metadata": {
            "tags": []
          },
          "execution_count": 22
        }
      ]
    },
    {
      "cell_type": "markdown",
      "metadata": {
        "id": "bGRsTTbEso5R",
        "colab_type": "text"
      },
      "source": [
        "# Simple Linear Regression\n",
        "ใช้ฟังก์ชันแบบ manual ค่อยๆ หาทีละค่า แล้วค่อยใช้ sklearn ตรวจคำตอบ"
      ]
    },
    {
      "cell_type": "code",
      "metadata": {
        "id": "BoyVNuH4QBdE",
        "colab_type": "code",
        "colab": {}
      },
      "source": [
        "# declare variables\n",
        "\n",
        "x = [5,12,14,17,23,30,40,47,55,67,72,81,96,112,127]\n",
        "y = [4,10,13,15,15,25,27,46,38,46,53,70,82,99,100]"
      ],
      "execution_count": 0,
      "outputs": []
    },
    {
      "cell_type": "code",
      "metadata": {
        "id": "1UEG_TIPRH0_",
        "colab_type": "code",
        "colab": {}
      },
      "source": [
        "# declare functions\n",
        "def find_avg(arr):\n",
        "  sum = 0\n",
        "  for i in arr:\n",
        "    sum = sum + i\n",
        "  return sum/len(arr)\n",
        "\n",
        "def sigma_xy(arr_x,arr_y):\n",
        "  sum = 0\n",
        "  if len(arr_x) != len(arr_y):\n",
        "    return \n",
        "  for i in range(len(arr_x)):\n",
        "    sum = sum + (arr_x[i]*arr_y[i])\n",
        "  return sum\n",
        "\n",
        "def sigma_x_squared(arr):\n",
        "  sum = 0\n",
        "  for i in arr:\n",
        "    sum = sum + (i*i)\n",
        "  return sum\n",
        "\n",
        "def sigma_x(arr):\n",
        "  sum = 0 \n",
        "  for i in arr:\n",
        "    sum = sum + i\n",
        "  return sum\n",
        "\n",
        "def find_SS_xx(arr_x):\n",
        "  return sigma_x_squared(arr_x) - ( (sigma_x(arr_x)*sigma_x(arr_x))/len(arr_x) )\n",
        "\n",
        "def find_SS_xy(arr_x,arr_y):\n",
        "  return sigma_xy(arr_x,arr_y) - (sigma_x(arr_x)*sigma_x(arr_y)/len(arr_x))\n",
        "\n",
        "def find_B(arr_x,arr_y):\n",
        "  return find_SS_xy(arr_x,arr_y)/find_SS_xx(arr_x)\n",
        "\n",
        "def find_A(arr_x,arr_y):\n",
        "  return find_avg(arr_y) - find_B(arr_x,arr_y)*find_avg(arr_x)\n",
        "\n",
        "def find_correlation_coef(arr_x,arr_y):\n",
        "  return find_SS_xy(arr_x,arr_y) / np.sqrt(find_SS_xx(arr_x)*find_SS_xy(arr_x,arr_y))"
      ],
      "execution_count": 0,
      "outputs": []
    },
    {
      "cell_type": "code",
      "metadata": {
        "id": "BuuiEPwcaBox",
        "colab_type": "code",
        "outputId": "4e70af09-4583-4fdd-b0df-df60d8ef4746",
        "colab": {
          "base_uri": "https://localhost:8080/",
          "height": 69
        }
      },
      "source": [
        "# compute manually\n",
        "print(find_correlation_coef(x,y))\n",
        "print(\"B: \",find_B(x,y))\n",
        "print(\"A: \",find_A(x,y))"
      ],
      "execution_count": 5,
      "outputs": [
        {
          "output_type": "stream",
          "text": [
            "0.9093806394027538\n",
            "B:  0.8269731473205612\n",
            "A:  -1.1283047707871887\n"
          ],
          "name": "stdout"
        }
      ]
    },
    {
      "cell_type": "code",
      "metadata": {
        "id": "Pk0Fyb7-U95d",
        "colab_type": "code",
        "outputId": "1f2e2edb-dc8e-4322-fb17-64f2e0fee58c",
        "colab": {
          "base_uri": "https://localhost:8080/",
          "height": 52
        }
      },
      "source": [
        "# use sklearn to compute\n",
        "from sklearn.linear_model import LinearRegression\n",
        "\n",
        "X = np.array(x)\n",
        "X = np.reshape(x, (-1, 1))\n",
        "model = LinearRegression().fit(X,y)\n",
        "\n",
        "print(\"B: \",model.coef_[0])\n",
        "print(\"A: \",model.intercept_)"
      ],
      "execution_count": 6,
      "outputs": [
        {
          "output_type": "stream",
          "text": [
            "B:  0.8269731473205613\n",
            "A:  -1.1283047707871958\n"
          ],
          "name": "stdout"
        }
      ]
    }
  ]
}